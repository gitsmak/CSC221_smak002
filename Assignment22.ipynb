{
  "nbformat": 4,
  "nbformat_minor": 0,
  "metadata": {
    "colab": {
      "provenance": [],
      "authorship_tag": "ABX9TyM/hY5AKYL+LxYkzxVoRY85",
      "include_colab_link": true
    },
    "kernelspec": {
      "name": "python3",
      "display_name": "Python 3"
    },
    "language_info": {
      "name": "python"
    }
  },
  "cells": [
    {
      "cell_type": "markdown",
      "metadata": {
        "id": "view-in-github",
        "colab_type": "text"
      },
      "source": [
        "<a href=\"https://colab.research.google.com/github/gitsmak/CSC221_smak002/blob/main/Assignment22.ipynb\" target=\"_parent\"><img src=\"https://colab.research.google.com/assets/colab-badge.svg\" alt=\"Open In Colab\"/></a>"
      ]
    },
    {
      "cell_type": "code",
      "execution_count": 2,
      "metadata": {
        "colab": {
          "base_uri": "https://localhost:8080/"
        },
        "id": "8dB1a6kCydYg",
        "outputId": "524b3f8c-fa19-44d6-c00c-733e829154c7"
      },
      "outputs": [
        {
          "output_type": "stream",
          "name": "stdout",
          "text": [
            "Original vectors:\n",
            "(3, 4)\n",
            "(-1, 2)\n",
            "(0, 0)\n",
            "(5, -2)\n",
            "\n",
            "Sorted vectors by length:\n",
            "(0, 0)\n",
            "(-1, 2)\n",
            "(3, 4)\n",
            "(5, -2)\n"
          ]
        }
      ],
      "source": [
        "#class vector\n",
        "import math\n",
        "\n",
        "class Vector2D:\n",
        "    def __init__(self, x, y):\n",
        "        self.x = x\n",
        "        self.y = y\n",
        "\n",
        "    def __str__(self):\n",
        "        return f\"({self.x}, {self.y})\"\n",
        "\n",
        "    def __lt__(self, other):\n",
        "        return self.length() < other.length()\n",
        "\n",
        "    def length(self):\n",
        "        return math.sqrt(self.x**2 + self.y**2)\n",
        "\n",
        "# Example usage:\n",
        "vectors = [\n",
        "    Vector2D(3, 4),\n",
        "    Vector2D(-1, 2),\n",
        "    Vector2D(0, 0),\n",
        "    Vector2D(5, -2)\n",
        "]\n",
        "\n",
        "print(\"Original vectors:\")\n",
        "for vector in vectors:\n",
        "    print(vector)\n",
        "\n",
        "sorted_vectors = sorted(vectors)\n",
        "print(\"\\nSorted vectors by length:\")\n",
        "for vector in sorted_vectors:\n",
        "    print(vector)"
      ]
    },
    {
      "cell_type": "code",
      "source": [
        "class Vector2D:\n",
        "    def __init__(self, x, y):\n",
        "        self.x = x\n",
        "        self.y = y\n",
        "\n",
        "    def __str__(self):\n",
        "        return f\"({self.x}, {self.y})\"\n",
        "\n",
        "    def __lt__(self, other):\n",
        "        return self.x + self.y < other.x + other.y\n",
        "\n",
        "# Example usage:\n",
        "vectors = [\n",
        "    Vector2D(3, 4),\n",
        "    Vector2D(-1, 2),\n",
        "    Vector2D(0, 0),\n",
        "    Vector2D(5, -2)\n",
        "]\n",
        "\n",
        "print(\"Original vectors:\")\n",
        "for vector in vectors:\n",
        "    print(vector)\n",
        "\n",
        "sorted_vectors = sorted(vectors)\n",
        "print(\"\\nSorted vectors by Euclidean length:\")\n",
        "for vector in sorted_vectors:\n",
        "    print(vector)"
      ],
      "metadata": {
        "colab": {
          "base_uri": "https://localhost:8080/"
        },
        "id": "sF81i6nx02Fl",
        "outputId": "cf803e18-3bc2-4629-e8d0-43b3a2e9cc25"
      },
      "execution_count": 3,
      "outputs": [
        {
          "output_type": "stream",
          "name": "stdout",
          "text": [
            "Original vectors:\n",
            "(3, 4)\n",
            "(-1, 2)\n",
            "(0, 0)\n",
            "(5, -2)\n",
            "\n",
            "Sorted vectors by Euclidean length:\n",
            "(0, 0)\n",
            "(-1, 2)\n",
            "(5, -2)\n",
            "(3, 4)\n"
          ]
        }
      ]
    },
    {
      "cell_type": "code",
      "source": [
        "class Special:\n",
        "    def __getitem__(self, key):\n",
        "        return len(key)\n",
        "\n",
        "# Example usage:\n",
        "s1 = Special()\n",
        "print(s1[\"sus\"])\n",
        "print(s1[\"sus2\"])\n",
        "print(s1[\"sus2\" * 5])"
      ],
      "metadata": {
        "id": "5O0a8kgE1isz",
        "outputId": "1603aa0f-c978-4a9e-e556-d20585cbc68d",
        "colab": {
          "base_uri": "https://localhost:8080/"
        }
      },
      "execution_count": 4,
      "outputs": [
        {
          "output_type": "stream",
          "name": "stdout",
          "text": [
            "3\n",
            "4\n",
            "20\n"
          ]
        }
      ]
    }
  ]
}