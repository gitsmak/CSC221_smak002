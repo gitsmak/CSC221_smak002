{
  "nbformat": 4,
  "nbformat_minor": 0,
  "metadata": {
    "colab": {
      "provenance": [],
      "authorship_tag": "ABX9TyOSUTyk06+1Z/rie6d/viPK",
      "include_colab_link": true
    },
    "kernelspec": {
      "name": "python3",
      "display_name": "Python 3"
    },
    "language_info": {
      "name": "python"
    }
  },
  "cells": [
    {
      "cell_type": "markdown",
      "metadata": {
        "id": "view-in-github",
        "colab_type": "text"
      },
      "source": [
        "<a href=\"https://colab.research.google.com/github/gitsmak/CSC221_smak002/blob/main/Assignment13.ipynb\" target=\"_parent\"><img src=\"https://colab.research.google.com/assets/colab-badge.svg\" alt=\"Open In Colab\"/></a>"
      ]
    },
    {
      "cell_type": "code",
      "execution_count": null,
      "metadata": {
        "id": "yWje6EHi9mff",
        "colab": {
          "base_uri": "https://localhost:8080/"
        },
        "outputId": "46b94111-876a-4dd8-f6cb-4f992c3a82a3"
      },
      "outputs": [
        {
          "output_type": "stream",
          "name": "stdout",
          "text": [
            "Mounted at /content/drive\n"
          ]
        }
      ],
      "source": [
        "#10.1\n",
        "from google.colab import drive\n",
        "drive.mount('/content/drive')"
      ]
    },
    {
      "cell_type": "code",
      "source": [
        "file_path = '/content/learning_python.txt'\n",
        "with open(file_path, 'r') as file:\n",
        "  print(\"reading entire file:\")\n",
        "  content = file.read()\n",
        "  print(content)"
      ],
      "metadata": {
        "colab": {
          "base_uri": "https://localhost:8080/"
        },
        "id": "cVp5Wi7J-bXf",
        "outputId": "f842c4e4-aae4-40d7-c7a1-84d59bbe6437"
      },
      "execution_count": null,
      "outputs": [
        {
          "output_type": "stream",
          "name": "stdout",
          "text": [
            "reading entire file:\n",
            "In Python you can create a for loop to iterate over a sequence.\n",
            "In Python you can use def to define a function\n",
            "In Python you can use else if statements to test conditions\n",
            "In Python you can use while loops to execute a block of code until the condistions are falsified\n",
            "In Python you can make a class to code templates for creating objects.\n"
          ]
        }
      ]
    },
    {
      "cell_type": "code",
      "source": [
        "with open(file_path, 'r') as file:\n",
        "  print('reading line by line')\n",
        "  file.seek(0)\n",
        "  lines = file.readlines()\n",
        "  messages = file.read()\n",
        "  for line in lines:\n",
        "    print(line.strip())"
      ],
      "metadata": {
        "colab": {
          "base_uri": "https://localhost:8080/"
        },
        "id": "bairKRCaAUVo",
        "outputId": "8e0b0311-2a47-46ca-fd4a-eabdef62e2f8"
      },
      "execution_count": null,
      "outputs": [
        {
          "output_type": "stream",
          "name": "stdout",
          "text": [
            "reading line by line\n",
            "In Python you can create a for loop to iterate over a sequence.\n",
            "In Python you can use def to define a function\n",
            "In Python you can use else if statements to test conditions\n",
            "In Python you can use while loops to execute a block of code until the condistions are falsified\n",
            "In Python you can make a class to code templates for creating objects.\n"
          ]
        }
      ]
    },
    {
      "cell_type": "code",
      "source": [
        "print(\"reading by storing the lines in a list and outside the with block\")\n",
        "\n",
        "with open(file_path, 'r') as file:\n",
        "  lines = file.readlines()\n",
        "\n",
        "py_string = ''\n",
        "for line in lines:\n",
        "  py_string += line.rstrip()\n",
        "\n",
        "print(py_string)\n",
        "print(len(py_string))"
      ],
      "metadata": {
        "colab": {
          "base_uri": "https://localhost:8080/"
        },
        "id": "xJrZh-CUCZ7T",
        "outputId": "a6942863-d699-46a7-ef41-2149362c4f11"
      },
      "execution_count": null,
      "outputs": [
        {
          "output_type": "stream",
          "name": "stdout",
          "text": [
            "reading by storing the lines in a list and outside the with block\n",
            "In Python you can create a for loop to iterate over a sequence.In Python you can use def to define a functionIn Python you can use else if statements to test conditionsIn Python you can use while loops to execute a block of code until the condistions are falsifiedIn Python you can make a class to code templates for creating objects.\n",
            "334\n"
          ]
        }
      ]
    },
    {
      "cell_type": "code",
      "source": [
        "#10.2\n",
        "with open('/content/learning_python.txt', 'r') as file:\n",
        "  print(\"reading entire file:\")\n",
        "  content = file.read()\n",
        "  old = 'Python'\n",
        "  change = 'C'\n",
        "  new_content = content.replace(old, change)\n",
        "  print(new_content)"
      ],
      "metadata": {
        "colab": {
          "base_uri": "https://localhost:8080/"
        },
        "id": "0YrsrPsVDXLc",
        "outputId": "70231604-4abc-4ebc-d515-5110b423efea"
      },
      "execution_count": null,
      "outputs": [
        {
          "output_type": "stream",
          "name": "stdout",
          "text": [
            "reading entire file:\n",
            "In C you can create a for loop to iterate over a sequence.\n",
            "In C you can use def to define a function\n",
            "In C you can use else if statements to test conditions\n",
            "In C you can use while loops to execute a block of code until the condistions are falsified\n",
            "In C you can make a class to code templates for creating objects.\n"
          ]
        }
      ]
    }
  ]
}