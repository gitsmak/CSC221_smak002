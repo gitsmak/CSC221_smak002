{
  "nbformat": 4,
  "nbformat_minor": 0,
  "metadata": {
    "colab": {
      "provenance": [],
      "authorship_tag": "ABX9TyPIwjQBGgO/wlENVZq3LtIH",
      "include_colab_link": true
    },
    "kernelspec": {
      "name": "python3",
      "display_name": "Python 3"
    },
    "language_info": {
      "name": "python"
    }
  },
  "cells": [
    {
      "cell_type": "markdown",
      "metadata": {
        "id": "view-in-github",
        "colab_type": "text"
      },
      "source": [
        "<a href=\"https://colab.research.google.com/github/gitsmak/CSC221_smak002/blob/main/Assignment3.ipynb\" target=\"_parent\"><img src=\"https://colab.research.google.com/assets/colab-badge.svg\" alt=\"Open In Colab\"/></a>"
      ]
    },
    {
      "cell_type": "code",
      "execution_count": 165,
      "metadata": {
        "colab": {
          "base_uri": "https://localhost:8080/"
        },
        "id": "lWt2JFOxbiaQ",
        "outputId": "b0fa9358-253e-4896-d916-6a28c6e0798a"
      },
      "outputs": [
        {
          "output_type": "stream",
          "name": "stdout",
          "text": [
            "I am a message\n"
          ]
        }
      ],
      "source": [
        "#Susan Mak\n",
        "#Assignment 3\n",
        "\n",
        "#2.1\n",
        "variable = \"I am a message\"\n",
        "print(variable)"
      ]
    },
    {
      "cell_type": "code",
      "source": [
        "#2.2\n",
        "x = 10\n",
        "print(x)"
      ],
      "metadata": {
        "colab": {
          "base_uri": "https://localhost:8080/"
        },
        "id": "HUCXN4LUvFQ4",
        "outputId": "aed191dd-de46-4f79-8a85-298139762c40"
      },
      "execution_count": 166,
      "outputs": [
        {
          "output_type": "stream",
          "name": "stdout",
          "text": [
            "10\n"
          ]
        }
      ]
    },
    {
      "cell_type": "code",
      "source": [
        "x = x + 10\n",
        "print(x)"
      ],
      "metadata": {
        "colab": {
          "base_uri": "https://localhost:8080/"
        },
        "id": "nYleZZnNvbYc",
        "outputId": "ead43203-b56e-4a9a-a70e-8983d704c755"
      },
      "execution_count": 167,
      "outputs": [
        {
          "output_type": "stream",
          "name": "stdout",
          "text": [
            "20\n"
          ]
        }
      ]
    },
    {
      "cell_type": "code",
      "source": [
        "#2.3\n",
        "name = \"jakub\"\n",
        "print(\"Hello \" + name + \", how was your day?\")"
      ],
      "metadata": {
        "colab": {
          "base_uri": "https://localhost:8080/"
        },
        "id": "rgdh0AYAvgEP",
        "outputId": "71ffe757-082c-4156-b842-39806b696534"
      },
      "execution_count": 168,
      "outputs": [
        {
          "output_type": "stream",
          "name": "stdout",
          "text": [
            "Hello jakub, how was your day?\n"
          ]
        }
      ]
    },
    {
      "cell_type": "code",
      "source": [
        "#2.4\n",
        "name = \"jakUb\"\n",
        "print(name.title())\n",
        "print(name.upper())\n",
        "print(name.lower())"
      ],
      "metadata": {
        "colab": {
          "base_uri": "https://localhost:8080/"
        },
        "id": "VSibJlsiwACU",
        "outputId": "42d02090-cc74-4141-d1d8-b8f9e2774f49"
      },
      "execution_count": 169,
      "outputs": [
        {
          "output_type": "stream",
          "name": "stdout",
          "text": [
            "Jakub\n",
            "JAKUB\n",
            "jakub\n"
          ]
        }
      ]
    },
    {
      "cell_type": "code",
      "source": [
        "#2.5\n",
        "print('\"Do one thing every day that scares you.\" Eleanor Roosevelt')"
      ],
      "metadata": {
        "colab": {
          "base_uri": "https://localhost:8080/"
        },
        "id": "6jpMFC12waN_",
        "outputId": "25eed149-479a-489e-9bfc-5459edb32886"
      },
      "execution_count": 170,
      "outputs": [
        {
          "output_type": "stream",
          "name": "stdout",
          "text": [
            "\"Do one thing every day that scares you.\" Eleanor Roosevelt\n"
          ]
        }
      ]
    },
    {
      "cell_type": "code",
      "source": [
        "#2.6\n",
        "famous_person = \"Eleanor Roosevelt\"\n",
        "message = '\"Do one thing every day that scares you.\" '\n",
        "print(message + famous_person)"
      ],
      "metadata": {
        "colab": {
          "base_uri": "https://localhost:8080/"
        },
        "id": "EvSO_84BxH27",
        "outputId": "09b9952d-4dc7-4172-e448-27a70a4bee5e"
      },
      "execution_count": 171,
      "outputs": [
        {
          "output_type": "stream",
          "name": "stdout",
          "text": [
            "\"Do one thing every day that scares you.\" Eleanor Roosevelt\n"
          ]
        }
      ]
    },
    {
      "cell_type": "code",
      "source": [
        "#2.7\n",
        "name = \"\\nj a k u b \\t : )\"\n",
        "print(name)"
      ],
      "metadata": {
        "colab": {
          "base_uri": "https://localhost:8080/"
        },
        "id": "_KRa5nX9xlox",
        "outputId": "067dcc61-c5f3-4b36-c138-e2d78214cdb3"
      },
      "execution_count": 172,
      "outputs": [
        {
          "output_type": "stream",
          "name": "stdout",
          "text": [
            "\n",
            "j a k u b \t : )\n"
          ]
        }
      ]
    },
    {
      "cell_type": "code",
      "source": [
        "print(name.lstrip())\n",
        "print(name.rstrip())\n",
        "print(name.strip())"
      ],
      "metadata": {
        "colab": {
          "base_uri": "https://localhost:8080/"
        },
        "id": "WwIo7eFz7i4P",
        "outputId": "fb5f013c-4482-46a1-d1a1-70f21c5c9da3"
      },
      "execution_count": 173,
      "outputs": [
        {
          "output_type": "stream",
          "name": "stdout",
          "text": [
            "j a k u b \t : )\n",
            "\n",
            "j a k u b \t : )\n",
            "j a k u b \t : )\n"
          ]
        }
      ]
    },
    {
      "cell_type": "code",
      "source": [
        "#2.8\n",
        "print(4 * 2)\n",
        "print(-2 + 10)\n",
        "print(80 / 10)\n",
        "print(100 - 92)"
      ],
      "metadata": {
        "colab": {
          "base_uri": "https://localhost:8080/"
        },
        "id": "UDR5Nii18UM1",
        "outputId": "1759d387-16c0-4b08-f6e7-5cbe4d2a9d71"
      },
      "execution_count": 174,
      "outputs": [
        {
          "output_type": "stream",
          "name": "stdout",
          "text": [
            "8\n",
            "8\n",
            "8.0\n",
            "8\n"
          ]
        }
      ]
    },
    {
      "cell_type": "code",
      "source": [
        "#2.9\n",
        "fav_num = \"4\"\n",
        "print(\"my favorite number is \" + fav_num)"
      ],
      "metadata": {
        "colab": {
          "base_uri": "https://localhost:8080/"
        },
        "id": "bnaiogxT9Tea",
        "outputId": "8e8968d1-6b48-4446-8e50-f54a931ef6ca"
      },
      "execution_count": 175,
      "outputs": [
        {
          "output_type": "stream",
          "name": "stdout",
          "text": [
            "my favorite number is 4\n"
          ]
        }
      ]
    },
    {
      "cell_type": "code",
      "source": [
        "#2.10\n",
        "#first program to add comments to\n",
        "name = \"jakUb\" #this variable holds the name of someone\n",
        "print(name.title()) #makes the first letter of the word uppercase and the rest lowercase\n",
        "print(name.upper()) #makes all the letters uppercase\n",
        "print(name.lower()) #makes all the letters lowercase"
      ],
      "metadata": {
        "id": "wPY4zIV690oC"
      },
      "execution_count": 176,
      "outputs": []
    },
    {
      "cell_type": "code",
      "source": [
        "#second program to add comments to\n",
        "print(name.lstrip()) #removes extra spaces from the left side\n",
        "print(name.rstrip()) #removes extra spaces from the right side\n",
        "print(name.strip()) #removes extra spaces from both sides"
      ],
      "metadata": {
        "id": "BPXrSojKAUIA"
      },
      "execution_count": null,
      "outputs": []
    },
    {
      "cell_type": "code",
      "source": [
        "#2.11\n",
        "import this"
      ],
      "metadata": {
        "colab": {
          "base_uri": "https://localhost:8080/"
        },
        "id": "bpbQ8Qro99B3",
        "outputId": "f1d69fdd-d2d4-472d-ad54-356a5beeea81"
      },
      "execution_count": 177,
      "outputs": [
        {
          "output_type": "stream",
          "name": "stdout",
          "text": [
            "The Zen of Python, by Tim Peters\n",
            "\n",
            "Beautiful is better than ugly.\n",
            "Explicit is better than implicit.\n",
            "Simple is better than complex.\n",
            "Complex is better than complicated.\n",
            "Flat is better than nested.\n",
            "Sparse is better than dense.\n",
            "Readability counts.\n",
            "Special cases aren't special enough to break the rules.\n",
            "Although practicality beats purity.\n",
            "Errors should never pass silently.\n",
            "Unless explicitly silenced.\n",
            "In the face of ambiguity, refuse the temptation to guess.\n",
            "There should be one-- and preferably only one --obvious way to do it.\n",
            "Although that way may not be obvious at first unless you're Dutch.\n",
            "Now is better than never.\n",
            "Although never is often better than *right* now.\n",
            "If the implementation is hard to explain, it's a bad idea.\n",
            "If the implementation is easy to explain, it may be a good idea.\n",
            "Namespaces are one honking great idea -- let's do more of those!\n"
          ]
        }
      ]
    }
  ]
}