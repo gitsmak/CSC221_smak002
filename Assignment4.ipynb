{
  "nbformat": 4,
  "nbformat_minor": 0,
  "metadata": {
    "colab": {
      "provenance": [],
      "authorship_tag": "ABX9TyNHd1cXqIXTFqKdPGFbGntZ",
      "include_colab_link": true
    },
    "kernelspec": {
      "name": "python3",
      "display_name": "Python 3"
    },
    "language_info": {
      "name": "python"
    }
  },
  "cells": [
    {
      "cell_type": "markdown",
      "metadata": {
        "id": "view-in-github",
        "colab_type": "text"
      },
      "source": [
        "<a href=\"https://colab.research.google.com/github/gitsmak/CSC221_smak002/blob/main/Assignment4.ipynb\" target=\"_parent\"><img src=\"https://colab.research.google.com/assets/colab-badge.svg\" alt=\"Open In Colab\"/></a>"
      ]
    },
    {
      "cell_type": "code",
      "execution_count": 628,
      "metadata": {
        "colab": {
          "base_uri": "https://localhost:8080/"
        },
        "id": "FNj4A4TDA7LP",
        "outputId": "3a0992e4-d230-49bc-bfbc-8515fca1c6ce"
      },
      "outputs": [
        {
          "output_type": "stream",
          "name": "stdout",
          "text": [
            "Susan\n",
            "Jakub\n",
            "Makayla\n"
          ]
        }
      ],
      "source": [
        "#Susan Mak\n",
        "#Assignment 4\n",
        "\n",
        "#3.1\n",
        "names = ['susan', 'jakub', 'makayla']\n",
        "print(names[0].title())\n",
        "print(names[1].title())\n",
        "print(names[2].title())"
      ]
    },
    {
      "cell_type": "code",
      "source": [
        "#3.2\n",
        "print(\"Hi, my name is \" + names[0].title())\n",
        "print(\"How are you doing, \" + names[1].title() + \"?\")\n",
        "print(\"This is my friend, \" + names[2].title())"
      ],
      "metadata": {
        "colab": {
          "base_uri": "https://localhost:8080/"
        },
        "id": "YTMPfDb8CQ-N",
        "outputId": "d936595f-9ad3-4ca8-b042-bb100d55fc36"
      },
      "execution_count": 629,
      "outputs": [
        {
          "output_type": "stream",
          "name": "stdout",
          "text": [
            "Hi, my name is Susan\n",
            "How are you doing, Jakub?\n",
            "This is my friend, Makayla\n"
          ]
        }
      ]
    },
    {
      "cell_type": "code",
      "source": [
        "#3.3\n",
        "transportation = ['walking', 'shuttle', 'bus']\n",
        "print(\"I enjoy \" + transportation[0] + '.')\n",
        "print(\"I don't like the \" + transportation[1] + \".\")\n",
        "print(\"I'm okay with taking the \" + transportation[2] + \".\")"
      ],
      "metadata": {
        "colab": {
          "base_uri": "https://localhost:8080/"
        },
        "id": "PajB7csHCS66",
        "outputId": "6cf1ef38-9644-45bd-dce7-fd9bd20770dd"
      },
      "execution_count": 630,
      "outputs": [
        {
          "output_type": "stream",
          "name": "stdout",
          "text": [
            "I enjoy walking.\n",
            "I don't like the shuttle.\n",
            "I'm okay with taking the bus.\n"
          ]
        }
      ]
    },
    {
      "cell_type": "code",
      "source": [
        "#3.4\n",
        "invite = 'susan', 'jakub', 'ferdy', 'lukas'\n",
        "print(invite[0].title() + \", go to my dinner\")\n",
        "print(invite[1].title() + \", go to my dinner\")\n",
        "print(invite[2].title() + \", go to my dinner\")\n",
        "print(invite[3].title() + \", go to my dinner\")"
      ],
      "metadata": {
        "colab": {
          "base_uri": "https://localhost:8080/"
        },
        "id": "h7wphBwLCcRf",
        "outputId": "e894c666-066d-4b10-9fff-3de319ca5f30"
      },
      "execution_count": 631,
      "outputs": [
        {
          "output_type": "stream",
          "name": "stdout",
          "text": [
            "Susan, go to my dinner\n",
            "Jakub, go to my dinner\n",
            "Ferdy, go to my dinner\n",
            "Lukas, go to my dinner\n"
          ]
        }
      ]
    },
    {
      "cell_type": "code",
      "source": [
        "#3.5\n",
        "invite = ['susan', 'jakub', 'ferdy', 'lukas']\n",
        "print(invite[0].title() + \", you are invited to my dinner\")\n",
        "print(invite[1].title() + \", you are invited to my dinner\")\n",
        "print(invite[2].title() + \", you are invited to my dinner\")\n",
        "print(invite[3].title() + \", you are invited to my dinner\")\n",
        "\n",
        "print(\"\\nSadly, \" + invite[0].title() + \" is unable to attend my dinner\\n\")\n",
        "\n",
        "invite[0] = 'lucy'\n",
        "print(invite[0].title() + \", you are invited to my dinner\")\n",
        "print(invite[1].title() + \", you are invited to my dinner\")\n",
        "print(invite[2].title() + \", you are invited to my dinner\")\n",
        "print(invite[3].title() + \", you are invited to my dinner\")"
      ],
      "metadata": {
        "colab": {
          "base_uri": "https://localhost:8080/"
        },
        "id": "qxCvVqvACdAU",
        "outputId": "f899a23d-3a2b-468c-8fe8-295fa628e922"
      },
      "execution_count": 632,
      "outputs": [
        {
          "output_type": "stream",
          "name": "stdout",
          "text": [
            "Susan, you are invited to my dinner\n",
            "Jakub, you are invited to my dinner\n",
            "Ferdy, you are invited to my dinner\n",
            "Lukas, you are invited to my dinner\n",
            "\n",
            "Sadly, Susan is unable to attend my dinner\n",
            "\n",
            "Lucy, you are invited to my dinner\n",
            "Jakub, you are invited to my dinner\n",
            "Ferdy, you are invited to my dinner\n",
            "Lukas, you are invited to my dinner\n"
          ]
        }
      ]
    },
    {
      "cell_type": "code",
      "source": [
        "#3.6\n",
        "invite = ['susan', 'jakub', 'ferdy', 'lukas']\n",
        "print(invite[0].title() + \", you are invited to my dinner\")\n",
        "print(invite[1].title() + \", you are invited to my dinner\")\n",
        "print(invite[2].title() + \", you are invited to my dinner\")\n",
        "print(invite[3].title() + \", you are invited to my dinner\")\n",
        "\n",
        "print(\"\\nSadly, \" + invite[0].title() + \" is unable to attend my dinner\\n\")\n",
        "\n",
        "invite[0] = 'lucy'\n",
        "print(invite[0].title() + \", you are invited to my dinner\")\n",
        "print(invite[1].title() + \", you are invited to my dinner\")\n",
        "print(invite[2].title() + \", you are invited to my dinner\")\n",
        "print(invite[3].title() + \", you are invited to my dinner\")\n",
        "\n",
        "print(\"\\nHello all, I found a bigger dinner table and will be inviting more people.\\n\")\n",
        "\n",
        "invite.insert(0, 'makayla')\n",
        "invite.insert(3, 'betza')\n",
        "invite.append('alvin')\n",
        "print(invite[0].title() + \", you are invited to my dinner\")\n",
        "print(invite[1].title() + \", you are invited to my dinner\")\n",
        "print(invite[2].title() + \", you are invited to my dinner\")\n",
        "print(invite[3].title() + \", you are invited to my dinner\")\n",
        "print(invite[4].title() + \", you are invited to my dinner\")\n",
        "print(invite[5].title() + \", you are invited to my dinner\")\n",
        "print(invite[6].title() + \", you are invited to my dinner\")"
      ],
      "metadata": {
        "colab": {
          "base_uri": "https://localhost:8080/"
        },
        "id": "w4w4krSgCd-p",
        "outputId": "7da3dcab-ddaf-40db-bd29-9cf22e7c9e34"
      },
      "execution_count": 633,
      "outputs": [
        {
          "output_type": "stream",
          "name": "stdout",
          "text": [
            "Susan, you are invited to my dinner\n",
            "Jakub, you are invited to my dinner\n",
            "Ferdy, you are invited to my dinner\n",
            "Lukas, you are invited to my dinner\n",
            "\n",
            "Sadly, Susan is unable to attend my dinner\n",
            "\n",
            "Lucy, you are invited to my dinner\n",
            "Jakub, you are invited to my dinner\n",
            "Ferdy, you are invited to my dinner\n",
            "Lukas, you are invited to my dinner\n",
            "\n",
            "Hello all, I found a bigger dinner table and will be inviting more people.\n",
            "\n",
            "Makayla, you are invited to my dinner\n",
            "Lucy, you are invited to my dinner\n",
            "Jakub, you are invited to my dinner\n",
            "Betza, you are invited to my dinner\n",
            "Ferdy, you are invited to my dinner\n",
            "Lukas, you are invited to my dinner\n",
            "Alvin, you are invited to my dinner\n"
          ]
        }
      ]
    },
    {
      "cell_type": "code",
      "source": [
        "#3.7\n",
        "invite = ['susan', 'jakub', 'ferdy', 'lukas']\n",
        "print(invite[0].title() + \", you are invited to my dinner\")\n",
        "print(invite[1].title() + \", you are invited to my dinner\")\n",
        "print(invite[2].title() + \", you are invited to my dinner\")\n",
        "print(invite[3].title() + \", you are invited to my dinner\")\n",
        "\n",
        "print(\"\\nSadly, \" + invite[0].title() + \" is unable to attend my dinner\\n\")\n",
        "\n",
        "invite[0] = 'lucy'\n",
        "print(invite[0].title() + \", you are invited to my dinner\")\n",
        "print(invite[1].title() + \", you are invited to my dinner\")\n",
        "print(invite[2].title() + \", you are invited to my dinner\")\n",
        "print(invite[3].title() + \", you are invited to my dinner\")\n",
        "\n",
        "print(\"\\nHello all, I found a bigger dinner table and will be inviting more people.\\n\")\n",
        "\n",
        "invite.insert(0, 'makayla')\n",
        "invite.insert(3, 'betza')\n",
        "invite.append('alvin')\n",
        "print(invite[0].title() + \", you are invited to my dinner\")\n",
        "print(invite[1].title() + \", you are invited to my dinner\")\n",
        "print(invite[2].title() + \", you are invited to my dinner\")\n",
        "print(invite[3].title() + \", you are invited to my dinner\")\n",
        "print(invite[4].title() + \", you are invited to my dinner\")\n",
        "print(invite[5].title() + \", you are invited to my dinner\")\n",
        "print(invite[6].title() + \", you are invited to my dinner\")\n",
        "\n",
        "print(\"\\nHello all, sorry to say that my very large dinner table wont arrive and my original table broke so I can only invite two people.\\n\")\n",
        "\n",
        "print(\"\\n\" + invite[0].title() + \", you are no longer invited to my dinner, sorry\")\n",
        "invite.pop(0)\n",
        "print(invite[0].title() + \", you are no longer invited to my dinner, sorry\")\n",
        "invite.pop(0)\n",
        "print(invite[1].title() + \", you are no longer invited to my dinner, sorry\")\n",
        "invite.pop(1)\n",
        "print(invite[2].title() + \", you are no longer invited to my dinner, sorry\")\n",
        "invite.pop(2)\n",
        "print(invite[2].title() + \", you are no longer invited to my dinner, sorry\")\n",
        "invite.pop(2)\n",
        "print(\"\\n\" + invite[0].title() + \", you are still invited to my dinner\")\n",
        "print(invite[1].title() + \", you are still invited to my dinner\")"
      ],
      "metadata": {
        "colab": {
          "base_uri": "https://localhost:8080/"
        },
        "id": "KMRHMJzhCfUe",
        "outputId": "141b9932-274e-4a64-de5d-9ceeb098cc50"
      },
      "execution_count": 634,
      "outputs": [
        {
          "output_type": "stream",
          "name": "stdout",
          "text": [
            "Susan, you are invited to my dinner\n",
            "Jakub, you are invited to my dinner\n",
            "Ferdy, you are invited to my dinner\n",
            "Lukas, you are invited to my dinner\n",
            "\n",
            "Sadly, Susan is unable to attend my dinner\n",
            "\n",
            "Lucy, you are invited to my dinner\n",
            "Jakub, you are invited to my dinner\n",
            "Ferdy, you are invited to my dinner\n",
            "Lukas, you are invited to my dinner\n",
            "\n",
            "Hello all, I found a bigger dinner table and will be inviting more people.\n",
            "\n",
            "Makayla, you are invited to my dinner\n",
            "Lucy, you are invited to my dinner\n",
            "Jakub, you are invited to my dinner\n",
            "Betza, you are invited to my dinner\n",
            "Ferdy, you are invited to my dinner\n",
            "Lukas, you are invited to my dinner\n",
            "Alvin, you are invited to my dinner\n",
            "\n",
            "Hello all, sorry to say that my very large dinner table wont arrive and my original table broke so I can only invite two people.\n",
            "\n",
            "\n",
            "Makayla, you are no longer invited to my dinner, sorry\n",
            "Lucy, you are no longer invited to my dinner, sorry\n",
            "Betza, you are no longer invited to my dinner, sorry\n",
            "Lukas, you are no longer invited to my dinner, sorry\n",
            "Alvin, you are no longer invited to my dinner, sorry\n",
            "\n",
            "Jakub, you are still invited to my dinner\n",
            "Ferdy, you are still invited to my dinner\n"
          ]
        }
      ]
    },
    {
      "cell_type": "code",
      "source": [
        "#3.8\n",
        "visit = ['Canada', 'Slovakia', 'Japan', 'Poland', 'London']\n",
        "print(\"Here's the original order:\")\n",
        "print(visit)\n",
        "print(\"\\n\")\n",
        "\n",
        "print(\"Here's the sorted order:\")\n",
        "print(sorted(visit))\n",
        "print(\"\\n\")\n",
        "\n",
        "print(\"Here's the sorted in reverse order:\")\n",
        "visit.sort(reverse = True)\n",
        "print(visit)\n",
        "print(\"\\n\")\n",
        "\n",
        "print(\"Here's the order in reverse:\")\n",
        "visit.reverse()\n",
        "print(visit)\n",
        "print(\"\\n\")\n",
        "\n",
        "print(\"Here's the order in reverse again:\")\n",
        "visit.reverse()\n",
        "print(visit)\n",
        "print(\"\\n\")\n",
        "\n",
        "print(\"Here's the sorted order again:\")\n",
        "print(sorted(visit))\n",
        "print(\"\\n\")\n",
        "\n",
        "print(\"Here's the sorted in reverse order again:\")\n",
        "visit.sort(reverse = True)\n",
        "print(visit)"
      ],
      "metadata": {
        "colab": {
          "base_uri": "https://localhost:8080/"
        },
        "id": "XR-W6BFpCgPR",
        "outputId": "25067222-a58f-4b3e-f32c-b8ccae8d7e5a"
      },
      "execution_count": 635,
      "outputs": [
        {
          "output_type": "stream",
          "name": "stdout",
          "text": [
            "Here's the original order:\n",
            "['Canada', 'Slovakia', 'Japan', 'Poland', 'London']\n",
            "\n",
            "\n",
            "Here's the sorted order:\n",
            "['Canada', 'Japan', 'London', 'Poland', 'Slovakia']\n",
            "\n",
            "\n",
            "Here's the sorted in reverse order:\n",
            "['Slovakia', 'Poland', 'London', 'Japan', 'Canada']\n",
            "\n",
            "\n",
            "Here's the order in reverse:\n",
            "['Canada', 'Japan', 'London', 'Poland', 'Slovakia']\n",
            "\n",
            "\n",
            "Here's the order in reverse again:\n",
            "['Slovakia', 'Poland', 'London', 'Japan', 'Canada']\n",
            "\n",
            "\n",
            "Here's the sorted order again:\n",
            "['Canada', 'Japan', 'London', 'Poland', 'Slovakia']\n",
            "\n",
            "\n",
            "Here's the sorted in reverse order again:\n",
            "['Slovakia', 'Poland', 'London', 'Japan', 'Canada']\n"
          ]
        }
      ]
    },
    {
      "cell_type": "code",
      "source": [
        "#3.9\n",
        "#pasted from 3.4\n",
        "invite = 'susan', 'jakub', 'ferdy', 'lukas'\n",
        "print(invite[0].title() + \", go to my dinner\")\n",
        "print(invite[1].title() + \", go to my dinner\")\n",
        "print(invite[2].title() + \", go to my dinner\")\n",
        "print(invite[3].title() + \", go to my dinner\")\n",
        "print(\"Invitations: \")\n",
        "len(invite)"
      ],
      "metadata": {
        "colab": {
          "base_uri": "https://localhost:8080/"
        },
        "id": "_cetecmq4e0e",
        "outputId": "4af2e7f6-a3e9-4d98-d6e9-26b3cb9d1b1f"
      },
      "execution_count": 636,
      "outputs": [
        {
          "output_type": "stream",
          "name": "stdout",
          "text": [
            "Susan, go to my dinner\n",
            "Jakub, go to my dinner\n",
            "Ferdy, go to my dinner\n",
            "Lukas, go to my dinner\n",
            "Invitations: \n"
          ]
        },
        {
          "output_type": "execute_result",
          "data": {
            "text/plain": [
              "4"
            ]
          },
          "metadata": {},
          "execution_count": 636
        }
      ]
    },
    {
      "cell_type": "code",
      "source": [
        "#3.10\n",
        "num = ['four', 'two', 'zero', 'one', 'thirteen', 'six', 'nine']\n",
        "print(\"Function 1 prints a raw Python list\")\n",
        "print(num)\n",
        "print(\"\\n\")\n",
        "\n",
        "print(\"Function 2 prints specific numbers\")\n",
        "print(num[1].title())\n",
        "print(\"This is \" + num[2].title())\n",
        "print(\"\\n\")\n",
        "\n",
        "print(\"Function 3 replaces a number\")\n",
        "num[6] = \"seven\"\n",
        "print(num)\n",
        "print(\"\\n\")\n",
        "\n",
        "print(\"Function 4 inserts a number in a specific place\")\n",
        "num.insert(2, 'five')\n",
        "print(num)\n",
        "print(\"\\n\")\n",
        "\n",
        "print(\"Function 5 adds a number to the end of the list\")\n",
        "num.append('three')\n",
        "print(num)\n",
        "print(\"\\n\")\n",
        "\n",
        "print(\"Function 6 removes a number that's in a specific place\")\n",
        "num.pop(1)\n",
        "print(num)\n",
        "print(\"\\n\")\n",
        "\n",
        "print(\"Function 7 sorts the list in alphabetical order\")\n",
        "print(sorted(num))\n",
        "print(\"\\n\")\n",
        "\n",
        "print(\"Function 8 sorts the list in reverse alphabetical order\")\n",
        "num.sort(reverse = True)\n",
        "print(num)\n",
        "print(\"\\n\")\n",
        "\n",
        "print(\"Function 9 reverses the order of the list\")\n",
        "num.reverse()\n",
        "print(num)\n",
        "print(\"\\n\")\n",
        "\n",
        "print(\"Function 10 states how many numbers are in the list\")\n",
        "len(num)"
      ],
      "metadata": {
        "colab": {
          "base_uri": "https://localhost:8080/"
        },
        "id": "DEhYjWlH4_Kt",
        "outputId": "2a2731f3-5590-405c-d7ab-e59079a3026e"
      },
      "execution_count": 637,
      "outputs": [
        {
          "output_type": "stream",
          "name": "stdout",
          "text": [
            "Function 1 prints a raw Python list\n",
            "['four', 'two', 'zero', 'one', 'thirteen', 'six', 'nine']\n",
            "\n",
            "\n",
            "Function 2 prints specific numbers\n",
            "Two\n",
            "This is Zero\n",
            "\n",
            "\n",
            "Function 3 replaces a number\n",
            "['four', 'two', 'zero', 'one', 'thirteen', 'six', 'seven']\n",
            "\n",
            "\n",
            "Function 4 inserts a number in a specific place\n",
            "['four', 'two', 'five', 'zero', 'one', 'thirteen', 'six', 'seven']\n",
            "\n",
            "\n",
            "Function 5 adds a number to the end of the list\n",
            "['four', 'two', 'five', 'zero', 'one', 'thirteen', 'six', 'seven', 'three']\n",
            "\n",
            "\n",
            "Function 6 removes a number that's in a specific place\n",
            "['four', 'five', 'zero', 'one', 'thirteen', 'six', 'seven', 'three']\n",
            "\n",
            "\n",
            "Function 7 sorts the list in alphabetical order\n",
            "['five', 'four', 'one', 'seven', 'six', 'thirteen', 'three', 'zero']\n",
            "\n",
            "\n",
            "Function 8 sorts the list in reverse alphabetical order\n",
            "['zero', 'three', 'thirteen', 'six', 'seven', 'one', 'four', 'five']\n",
            "\n",
            "\n",
            "Function 9 reverses the order of the list\n",
            "['five', 'four', 'one', 'seven', 'six', 'thirteen', 'three', 'zero']\n",
            "\n",
            "\n",
            "Function 10 states how many numbers are in the list\n"
          ]
        },
        {
          "output_type": "execute_result",
          "data": {
            "text/plain": [
              "8"
            ]
          },
          "metadata": {},
          "execution_count": 637
        }
      ]
    },
    {
      "cell_type": "code",
      "source": [
        "#3.11\n",
        "#intentional error: pop index out of range\n",
        "num = ['four', 'two', 'zero', 'one', 'thirteen', 'six', 'nine']\n",
        "num.pop(6)\n",
        "print(num)"
      ],
      "metadata": {
        "colab": {
          "base_uri": "https://localhost:8080/"
        },
        "id": "TPTSq5Gv-Fs_",
        "outputId": "242d9380-a242-479b-a40a-5e0bb2306e84"
      },
      "execution_count": 638,
      "outputs": [
        {
          "output_type": "stream",
          "name": "stdout",
          "text": [
            "['four', 'two', 'zero', 'one', 'thirteen', 'six']\n"
          ]
        }
      ]
    },
    {
      "cell_type": "code",
      "source": [
        "#intentional error fixed\n",
        "num = ['four', 'two', 'zero', 'one', 'thirteen', 'six', 'nine']\n",
        "num.pop(6)\n",
        "print(num)"
      ],
      "metadata": {
        "colab": {
          "base_uri": "https://localhost:8080/"
        },
        "id": "GIsnul0y-TVv",
        "outputId": "2bc4eceb-bdb5-486a-ec42-7e89f919ca02"
      },
      "execution_count": 639,
      "outputs": [
        {
          "output_type": "stream",
          "name": "stdout",
          "text": [
            "['four', 'two', 'zero', 'one', 'thirteen', 'six']\n"
          ]
        }
      ]
    },
    {
      "cell_type": "code",
      "source": [
        "#Print the cubes of all of the integers that are a multiple of 7 between 60 and 85\n",
        "cube = [x**3 for x in range(60, 85)]\n",
        "print(cube)"
      ],
      "metadata": {
        "colab": {
          "base_uri": "https://localhost:8080/"
        },
        "id": "wBC9nLeNB1Yl",
        "outputId": "73a77df9-a185-4732-c0d9-df5e940983a7"
      },
      "execution_count": 640,
      "outputs": [
        {
          "output_type": "stream",
          "name": "stdout",
          "text": [
            "[216000, 226981, 238328, 250047, 262144, 274625, 287496, 300763, 314432, 328509, 343000, 357911, 373248, 389017, 405224, 421875, 438976, 456533, 474552, 493039, 512000, 531441, 551368, 571787, 592704]\n"
          ]
        }
      ]
    },
    {
      "cell_type": "code",
      "source": [
        "#Compute y = 7.4x + 51 for the set of values 40, 50, 120, -8, and 6.\n",
        "x = 40\n",
        "y = 7.4*x + 51\n",
        "print(y)\n",
        "\n",
        "x = 50\n",
        "y = 7.4*x + 51\n",
        "print(y)\n",
        "\n",
        "x = 120\n",
        "y = 7.4*x + 51\n",
        "print(y)\n",
        "\n",
        "x = -8\n",
        "y = 7.4*x + 51\n",
        "print(y)\n",
        "\n",
        "x = 6\n",
        "y = 7.4*x + 51\n",
        "print(y)"
      ],
      "metadata": {
        "colab": {
          "base_uri": "https://localhost:8080/"
        },
        "id": "1u_rnQcPB6Q4",
        "outputId": "8534f73c-4e0f-4699-8367-675fa9f79e52"
      },
      "execution_count": 641,
      "outputs": [
        {
          "output_type": "stream",
          "name": "stdout",
          "text": [
            "347.0\n",
            "421.0\n",
            "939.0\n",
            "-8.200000000000003\n",
            "95.4\n"
          ]
        }
      ]
    }
  ]
}