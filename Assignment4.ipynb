{
  "nbformat": 4,
  "nbformat_minor": 0,
  "metadata": {
    "colab": {
      "provenance": [],
      "authorship_tag": "ABX9TyMpiy7VXcj9e6Y4da/JY4lp",
      "include_colab_link": true
    },
    "kernelspec": {
      "name": "python3",
      "display_name": "Python 3"
    },
    "language_info": {
      "name": "python"
    }
  },
  "cells": [
    {
      "cell_type": "markdown",
      "metadata": {
        "id": "view-in-github",
        "colab_type": "text"
      },
      "source": [
        "<a href=\"https://colab.research.google.com/github/gitsmak/CSC221_smak002/blob/main/Assignment4.ipynb\" target=\"_parent\"><img src=\"https://colab.research.google.com/assets/colab-badge.svg\" alt=\"Open In Colab\"/></a>"
      ]
    },
    {
      "cell_type": "code",
      "execution_count": 354,
      "metadata": {
        "colab": {
          "base_uri": "https://localhost:8080/"
        },
        "id": "FNj4A4TDA7LP",
        "outputId": "a0c907fd-c15e-4255-d2e7-9630d4facc06"
      },
      "outputs": [
        {
          "output_type": "stream",
          "name": "stdout",
          "text": [
            "Susan\n",
            "Jakub\n",
            "Makayla\n"
          ]
        }
      ],
      "source": [
        "#Susan Mak\n",
        "#Assignment 4\n",
        "\n",
        "#3.1\n",
        "names = ['susan', 'jakub', 'makayla']\n",
        "print(names[0].title())\n",
        "print(names[1].title())\n",
        "print(names[2].title())"
      ]
    },
    {
      "cell_type": "code",
      "source": [
        "#3.2\n",
        "print(\"Hi, my name is \" + names[0].title())\n",
        "print(\"How are you doing, \" + names[1].title() + \"?\")\n",
        "print(\"This is my friend, \" + names[2].title())"
      ],
      "metadata": {
        "colab": {
          "base_uri": "https://localhost:8080/"
        },
        "id": "YTMPfDb8CQ-N",
        "outputId": "03c7d046-32e5-47ec-a0be-c1a57a9f0c7b"
      },
      "execution_count": 355,
      "outputs": [
        {
          "output_type": "stream",
          "name": "stdout",
          "text": [
            "Hi, my name is Susan\n",
            "How are you doing, Jakub?\n",
            "This is my friend, Makayla\n"
          ]
        }
      ]
    },
    {
      "cell_type": "code",
      "source": [
        "#3.3\n",
        "transportation = ['walking', 'shuttle', 'bus']\n",
        "print(\"I enjoy \" + transportation[0] + '.')\n",
        "print(\"I don't like the \" + transportation[1] + \".\")\n",
        "print(\"I'm okay with taking the \" + transportation[2] + \".\")"
      ],
      "metadata": {
        "colab": {
          "base_uri": "https://localhost:8080/"
        },
        "id": "PajB7csHCS66",
        "outputId": "24cb872a-2c41-4c64-805c-f48a389682a2"
      },
      "execution_count": 356,
      "outputs": [
        {
          "output_type": "stream",
          "name": "stdout",
          "text": [
            "I enjoy walking.\n",
            "I don't like the shuttle.\n",
            "I'm okay with taking the bus.\n"
          ]
        }
      ]
    },
    {
      "cell_type": "code",
      "source": [
        "#3.4\n",
        "invite = 'susan', 'jakub', 'ferdy', 'lukas'\n",
        "print(invite[0].title() + \", go to my dinner\")\n",
        "print(invite[1].title() + \", go to my dinner\")\n",
        "print(invite[2].title() + \", go to my dinner\")\n",
        "print(invite[3].title() + \", go to my dinner\")"
      ],
      "metadata": {
        "colab": {
          "base_uri": "https://localhost:8080/"
        },
        "id": "h7wphBwLCcRf",
        "outputId": "184bd04c-dfc0-4c96-edf3-850a0f0f1006"
      },
      "execution_count": 357,
      "outputs": [
        {
          "output_type": "stream",
          "name": "stdout",
          "text": [
            "Susan, go to my dinner\n",
            "Jakub, go to my dinner\n",
            "Ferdy, go to my dinner\n",
            "Lukas, go to my dinner\n"
          ]
        }
      ]
    },
    {
      "cell_type": "code",
      "source": [
        "#3.5\n",
        "invite = ['susan', 'jakub', 'ferdy', 'lukas']\n",
        "print(invite[0].title() + \", you are invited to my dinner\")\n",
        "print(invite[1].title() + \", you are invited to my dinner\")\n",
        "print(invite[2].title() + \", you are invited to my dinner\")\n",
        "print(invite[3].title() + \", you are invited to my dinner\")\n",
        "\n",
        "print(\"\\nSadly, \" + invite[0].title() + \" is unable to attend my dinner\\n\")\n",
        "\n",
        "invite[0] = 'lucy'\n",
        "print(invite[0].title() + \", you are invited to my dinner\")\n",
        "print(invite[1].title() + \", you are invited to my dinner\")\n",
        "print(invite[2].title() + \", you are invited to my dinner\")\n",
        "print(invite[3].title() + \", you are invited to my dinner\")"
      ],
      "metadata": {
        "colab": {
          "base_uri": "https://localhost:8080/"
        },
        "id": "qxCvVqvACdAU",
        "outputId": "e797b3f5-9e10-474d-dac0-adcf7cc34349"
      },
      "execution_count": 358,
      "outputs": [
        {
          "output_type": "stream",
          "name": "stdout",
          "text": [
            "Susan, you are invited to my dinner\n",
            "Jakub, you are invited to my dinner\n",
            "Ferdy, you are invited to my dinner\n",
            "Lukas, you are invited to my dinner\n",
            "\n",
            "Sadly, Susan is unable to attend my dinner\n",
            "\n",
            "Lucy, you are invited to my dinner\n",
            "Jakub, you are invited to my dinner\n",
            "Ferdy, you are invited to my dinner\n",
            "Lukas, you are invited to my dinner\n"
          ]
        }
      ]
    },
    {
      "cell_type": "code",
      "source": [
        "#3.6\n",
        "invite = ['susan', 'jakub', 'ferdy', 'lukas']\n",
        "print(invite[0].title() + \", you are invited to my dinner\")\n",
        "print(invite[1].title() + \", you are invited to my dinner\")\n",
        "print(invite[2].title() + \", you are invited to my dinner\")\n",
        "print(invite[3].title() + \", you are invited to my dinner\")\n",
        "\n",
        "print(\"\\nSadly, \" + invite[0].title() + \" is unable to attend my dinner\\n\")\n",
        "\n",
        "invite[0] = 'lucy'\n",
        "print(invite[0].title() + \", you are invited to my dinner\")\n",
        "print(invite[1].title() + \", you are invited to my dinner\")\n",
        "print(invite[2].title() + \", you are invited to my dinner\")\n",
        "print(invite[3].title() + \", you are invited to my dinner\")\n",
        "\n",
        "print(\"\\nHello all, I found a bigger dinner table and will be inviting more people.\\n\")\n",
        "\n",
        "invite.insert(0, 'makayla')\n",
        "invite.insert(3, 'betza')\n",
        "invite.append('alvin')\n",
        "print(invite[0].title() + \", you are invited to my dinner\")\n",
        "print(invite[1].title() + \", you are invited to my dinner\")\n",
        "print(invite[2].title() + \", you are invited to my dinner\")\n",
        "print(invite[3].title() + \", you are invited to my dinner\")\n",
        "print(invite[4].title() + \", you are invited to my dinner\")\n",
        "print(invite[5].title() + \", you are invited to my dinner\")\n",
        "print(invite[6].title() + \", you are invited to my dinner\")"
      ],
      "metadata": {
        "colab": {
          "base_uri": "https://localhost:8080/"
        },
        "id": "w4w4krSgCd-p",
        "outputId": "94053049-dfda-4704-a07b-f18ccee499cb"
      },
      "execution_count": 359,
      "outputs": [
        {
          "output_type": "stream",
          "name": "stdout",
          "text": [
            "Susan, you are invited to my dinner\n",
            "Jakub, you are invited to my dinner\n",
            "Ferdy, you are invited to my dinner\n",
            "Lukas, you are invited to my dinner\n",
            "\n",
            "Sadly, Susan is unable to attend my dinner\n",
            "\n",
            "Lucy, you are invited to my dinner\n",
            "Jakub, you are invited to my dinner\n",
            "Ferdy, you are invited to my dinner\n",
            "Lukas, you are invited to my dinner\n",
            "\n",
            "Hello all, I found a bigger dinner table and will be inviting more people.\n",
            "\n",
            "Makayla, you are invited to my dinner\n",
            "Lucy, you are invited to my dinner\n",
            "Jakub, you are invited to my dinner\n",
            "Betza, you are invited to my dinner\n",
            "Ferdy, you are invited to my dinner\n",
            "Lukas, you are invited to my dinner\n",
            "Alvin, you are invited to my dinner\n"
          ]
        }
      ]
    },
    {
      "cell_type": "code",
      "source": [
        "#3.7\n",
        "invite = ['susan', 'jakub', 'ferdy', 'lukas']\n",
        "print(invite[0].title() + \", you are invited to my dinner\")\n",
        "print(invite[1].title() + \", you are invited to my dinner\")\n",
        "print(invite[2].title() + \", you are invited to my dinner\")\n",
        "print(invite[3].title() + \", you are invited to my dinner\")\n",
        "\n",
        "print(\"\\nSadly, \" + invite[0].title() + \" is unable to attend my dinner\\n\")\n",
        "\n",
        "invite[0] = 'lucy'\n",
        "print(invite[0].title() + \", you are invited to my dinner\")\n",
        "print(invite[1].title() + \", you are invited to my dinner\")\n",
        "print(invite[2].title() + \", you are invited to my dinner\")\n",
        "print(invite[3].title() + \", you are invited to my dinner\")\n",
        "\n",
        "print(\"\\nHello all, I found a bigger dinner table and will be inviting more people.\\n\")\n",
        "\n",
        "invite.insert(0, 'makayla')\n",
        "invite.insert(3, 'betza')\n",
        "invite.append('alvin')\n",
        "print(invite[0].title() + \", you are invited to my dinner\")\n",
        "print(invite[1].title() + \", you are invited to my dinner\")\n",
        "print(invite[2].title() + \", you are invited to my dinner\")\n",
        "print(invite[3].title() + \", you are invited to my dinner\")\n",
        "print(invite[4].title() + \", you are invited to my dinner\")\n",
        "print(invite[5].title() + \", you are invited to my dinner\")\n",
        "print(invite[6].title() + \", you are invited to my dinner\")\n",
        "\n",
        "print(\"\\nHello all, sorry to say that my very large dinner table wont arrive and my original table broke so I can only invite two people.\\n\")\n",
        "\n",
        "print(\"\\n\" + invite[0].title() + \", you are no longer invited to my dinner, sorry\")\n",
        "invite.pop(0)\n",
        "print(invite[0].title() + \", you are no longer invited to my dinner, sorry\")\n",
        "invite.pop(0)\n",
        "print(invite[1].title() + \", you are no longer invited to my dinner, sorry\")\n",
        "invite.pop(1)\n",
        "print(invite[2].title() + \", you are no longer invited to my dinner, sorry\")\n",
        "invite.pop(2)\n",
        "print(invite[2].title() + \", you are no longer invited to my dinner, sorry\")\n",
        "invite.pop(2)\n",
        "print(\"\\n\" + invite[0].title() + \", you are still invited to my dinner\")\n",
        "print(invite[1].title() + \", you are still invited to my dinner\")"
      ],
      "metadata": {
        "colab": {
          "base_uri": "https://localhost:8080/"
        },
        "id": "KMRHMJzhCfUe",
        "outputId": "63332b59-531f-4f4d-e482-ecfe735f4554"
      },
      "execution_count": 360,
      "outputs": [
        {
          "output_type": "stream",
          "name": "stdout",
          "text": [
            "Susan, you are invited to my dinner\n",
            "Jakub, you are invited to my dinner\n",
            "Ferdy, you are invited to my dinner\n",
            "Lukas, you are invited to my dinner\n",
            "\n",
            "Sadly, Susan is unable to attend my dinner\n",
            "\n",
            "Lucy, you are invited to my dinner\n",
            "Jakub, you are invited to my dinner\n",
            "Ferdy, you are invited to my dinner\n",
            "Lukas, you are invited to my dinner\n",
            "\n",
            "Hello all, I found a bigger dinner table and will be inviting more people.\n",
            "\n",
            "Makayla, you are invited to my dinner\n",
            "Lucy, you are invited to my dinner\n",
            "Jakub, you are invited to my dinner\n",
            "Betza, you are invited to my dinner\n",
            "Ferdy, you are invited to my dinner\n",
            "Lukas, you are invited to my dinner\n",
            "Alvin, you are invited to my dinner\n",
            "\n",
            "Hello all, sorry to say that my very large dinner table wont arrive and my original table broke so I can only invite two people.\n",
            "\n",
            "\n",
            "Makayla, you are no longer invited to my dinner, sorry\n",
            "Lucy, you are no longer invited to my dinner, sorry\n",
            "Betza, you are no longer invited to my dinner, sorry\n",
            "Lukas, you are no longer invited to my dinner, sorry\n",
            "Alvin, you are no longer invited to my dinner, sorry\n",
            "\n",
            "Jakub, you are still invited to my dinner\n",
            "Ferdy, you are still invited to my dinner\n"
          ]
        }
      ]
    },
    {
      "cell_type": "code",
      "source": [
        "#3.8\n",
        "visit = ['Canada', 'Slovakia', 'Japan', 'Poland', 'London']\n",
        "print(\"Here's the original order:\")\n",
        "print(visit)\n",
        "print(\"\\n\")\n",
        "\n",
        "print(\"Here's the sorted order:\")\n",
        "print(sorted(visit))\n",
        "print(\"\\n\")\n",
        "\n",
        "print(\"Here's the sorted in reverse order:\")\n",
        "visit.sort(reverse = True)\n",
        "print(visit)\n",
        "print(\"\\n\")\n",
        "\n",
        "print(\"Here's the order in reverse:\")\n",
        "visit.reverse()\n",
        "print(visit)\n",
        "print(\"\\n\")\n",
        "\n",
        "print(\"Here's the order in reverse again:\")\n",
        "visit.reverse()\n",
        "print(visit)\n",
        "print(\"\\n\")\n",
        "\n",
        "print(\"Here's the sorted order again:\")\n",
        "print(sorted(visit))\n",
        "print(\"\\n\")\n",
        "\n",
        "print(\"Here's the sorted in reverse order again:\")\n",
        "visit.sort(reverse = True)\n",
        "print(visit)"
      ],
      "metadata": {
        "colab": {
          "base_uri": "https://localhost:8080/"
        },
        "id": "XR-W6BFpCgPR",
        "outputId": "21f029d6-ccc7-4a06-a60c-6660b5a9275b"
      },
      "execution_count": 361,
      "outputs": [
        {
          "output_type": "stream",
          "name": "stdout",
          "text": [
            "Here's the original order:\n",
            "['Canada', 'Slovakia', 'Japan', 'Poland', 'London']\n",
            "\n",
            "\n",
            "Here's the sorted order:\n",
            "['Canada', 'Japan', 'London', 'Poland', 'Slovakia']\n",
            "\n",
            "\n",
            "Here's the sorted in reverse order:\n",
            "['Slovakia', 'Poland', 'London', 'Japan', 'Canada']\n",
            "\n",
            "\n",
            "Here's the order in reverse:\n",
            "['Canada', 'Japan', 'London', 'Poland', 'Slovakia']\n",
            "\n",
            "\n",
            "Here's the order in reverse again:\n",
            "['Slovakia', 'Poland', 'London', 'Japan', 'Canada']\n",
            "\n",
            "\n",
            "Here's the sorted order again:\n",
            "['Canada', 'Japan', 'London', 'Poland', 'Slovakia']\n",
            "\n",
            "\n",
            "Here's the sorted in reverse order again:\n",
            "['Slovakia', 'Poland', 'London', 'Japan', 'Canada']\n"
          ]
        }
      ]
    },
    {
      "cell_type": "code",
      "source": [
        "#3.9\n",
        "#pasted from 3.4\n",
        "invite = 'susan', 'jakub', 'ferdy', 'lukas'\n",
        "print(invite[0].title() + \", go to my dinner\")\n",
        "print(invite[1].title() + \", go to my dinner\")\n",
        "print(invite[2].title() + \", go to my dinner\")\n",
        "print(invite[3].title() + \", go to my dinner\")\n",
        "print(\"Invitations: \")\n",
        "len(invite)"
      ],
      "metadata": {
        "colab": {
          "base_uri": "https://localhost:8080/"
        },
        "id": "_cetecmq4e0e",
        "outputId": "2ad4d5ad-3b67-4407-b38f-a6e035def89a"
      },
      "execution_count": 362,
      "outputs": [
        {
          "output_type": "stream",
          "name": "stdout",
          "text": [
            "Susan, go to my dinner\n",
            "Jakub, go to my dinner\n",
            "Ferdy, go to my dinner\n",
            "Lukas, go to my dinner\n",
            "Invitations: \n"
          ]
        },
        {
          "output_type": "execute_result",
          "data": {
            "text/plain": [
              "4"
            ]
          },
          "metadata": {},
          "execution_count": 362
        }
      ]
    },
    {
      "cell_type": "code",
      "source": [
        "#3.10\n",
        "num = ['four', 'two', 'zero', 'one', 'thirteen', 'six', 'nine']\n",
        "print(\"Function 1 prints a raw Python list\")\n",
        "print(num)\n",
        "print(\"\\n\")\n",
        "\n",
        "print(\"Function 2 prints specific numbers\")\n",
        "print(num[1].title())\n",
        "print(\"This is \" + num[2].title())\n",
        "print(\"\\n\")\n",
        "\n",
        "print(\"Function 3 replaces a number\")\n",
        "num[6] = \"seven\"\n",
        "print(num)\n",
        "print(\"\\n\")\n",
        "\n",
        "print(\"Function 4 inserts a number in a specific place\")\n",
        "num.insert(2, 'five')\n",
        "print(num)\n",
        "print(\"\\n\")\n",
        "\n",
        "print(\"Function 5 adds a number to the end of the list\")\n",
        "num.append('three')\n",
        "print(num)\n",
        "print(\"\\n\")\n",
        "\n",
        "print(\"Function 6 removes a number that's in a specific place\")\n",
        "num.pop(1)\n",
        "print(num)\n",
        "print(\"\\n\")\n",
        "\n",
        "print(\"Function 7 sorts the list in alphabetical order\")\n",
        "print(sorted(num))\n",
        "print(\"\\n\")\n",
        "\n",
        "print(\"Function 8 sorts the list in reverse alphabetical order\")\n",
        "num.sort(reverse = True)\n",
        "print(num)\n",
        "print(\"\\n\")\n",
        "\n",
        "print(\"Function 9 reverses the order of the list\")\n",
        "num.reverse()\n",
        "print(num)\n",
        "print(\"\\n\")\n",
        "\n",
        "print(\"Function 10 states how many numbers are in the list\")\n",
        "len(num)"
      ],
      "metadata": {
        "colab": {
          "base_uri": "https://localhost:8080/"
        },
        "id": "DEhYjWlH4_Kt",
        "outputId": "52c75335-6aab-4f4f-9696-78d69d7ffcb8"
      },
      "execution_count": 363,
      "outputs": [
        {
          "output_type": "stream",
          "name": "stdout",
          "text": [
            "Function 1 prints a raw Python list\n",
            "['four', 'two', 'zero', 'one', 'thirteen', 'six', 'nine']\n",
            "\n",
            "\n",
            "Function 2 prints specific numbers\n",
            "Two\n",
            "This is Zero\n",
            "\n",
            "\n",
            "Function 3 replaces a number\n",
            "['four', 'two', 'zero', 'one', 'thirteen', 'six', 'seven']\n",
            "\n",
            "\n",
            "Function 4 inserts a number in a specific place\n",
            "['four', 'two', 'five', 'zero', 'one', 'thirteen', 'six', 'seven']\n",
            "\n",
            "\n",
            "Function 5 adds a number to the end of the list\n",
            "['four', 'two', 'five', 'zero', 'one', 'thirteen', 'six', 'seven', 'three']\n",
            "\n",
            "\n",
            "Function 6 removes a number that's in a specific place\n",
            "['four', 'five', 'zero', 'one', 'thirteen', 'six', 'seven', 'three']\n",
            "\n",
            "\n",
            "Function 7 sorts the list in alphabetical order\n",
            "['five', 'four', 'one', 'seven', 'six', 'thirteen', 'three', 'zero']\n",
            "\n",
            "\n",
            "Function 8 sorts the list in reverse alphabetical order\n",
            "['zero', 'three', 'thirteen', 'six', 'seven', 'one', 'four', 'five']\n",
            "\n",
            "\n",
            "Function 9 reverses the order of the list\n",
            "['five', 'four', 'one', 'seven', 'six', 'thirteen', 'three', 'zero']\n",
            "\n",
            "\n",
            "Function 10 states how many numbers are in the list\n"
          ]
        },
        {
          "output_type": "execute_result",
          "data": {
            "text/plain": [
              "8"
            ]
          },
          "metadata": {},
          "execution_count": 363
        }
      ]
    },
    {
      "cell_type": "code",
      "source": [
        "#3.11\n",
        "#intentional error: pop index out of range\n",
        "num = ['four', 'two', 'zero', 'one', 'thirteen', 'six', 'nine']\n",
        "num.pop(7)\n",
        "print(num)"
      ],
      "metadata": {
        "colab": {
          "base_uri": "https://localhost:8080/",
          "height": 234
        },
        "id": "TPTSq5Gv-Fs_",
        "outputId": "75a916a5-889d-454e-e55a-2b0924465c4b"
      },
      "execution_count": 364,
      "outputs": [
        {
          "output_type": "error",
          "ename": "IndexError",
          "evalue": "ignored",
          "traceback": [
            "\u001b[0;31m---------------------------------------------------------------------------\u001b[0m",
            "\u001b[0;31mIndexError\u001b[0m                                Traceback (most recent call last)",
            "\u001b[0;32m<ipython-input-364-58371f847f38>\u001b[0m in \u001b[0;36m<cell line: 4>\u001b[0;34m()\u001b[0m\n\u001b[1;32m      2\u001b[0m \u001b[0;31m#intentional error: pop index out of range\u001b[0m\u001b[0;34m\u001b[0m\u001b[0;34m\u001b[0m\u001b[0m\n\u001b[1;32m      3\u001b[0m \u001b[0mnum\u001b[0m \u001b[0;34m=\u001b[0m \u001b[0;34m[\u001b[0m\u001b[0;34m'four'\u001b[0m\u001b[0;34m,\u001b[0m \u001b[0;34m'two'\u001b[0m\u001b[0;34m,\u001b[0m \u001b[0;34m'zero'\u001b[0m\u001b[0;34m,\u001b[0m \u001b[0;34m'one'\u001b[0m\u001b[0;34m,\u001b[0m \u001b[0;34m'thirteen'\u001b[0m\u001b[0;34m,\u001b[0m \u001b[0;34m'six'\u001b[0m\u001b[0;34m,\u001b[0m \u001b[0;34m'nine'\u001b[0m\u001b[0;34m]\u001b[0m\u001b[0;34m\u001b[0m\u001b[0;34m\u001b[0m\u001b[0m\n\u001b[0;32m----> 4\u001b[0;31m \u001b[0mnum\u001b[0m\u001b[0;34m.\u001b[0m\u001b[0mpop\u001b[0m\u001b[0;34m(\u001b[0m\u001b[0;36m7\u001b[0m\u001b[0;34m)\u001b[0m\u001b[0;34m\u001b[0m\u001b[0;34m\u001b[0m\u001b[0m\n\u001b[0m\u001b[1;32m      5\u001b[0m \u001b[0mprint\u001b[0m\u001b[0;34m(\u001b[0m\u001b[0mnum\u001b[0m\u001b[0;34m)\u001b[0m\u001b[0;34m\u001b[0m\u001b[0;34m\u001b[0m\u001b[0m\n",
            "\u001b[0;31mIndexError\u001b[0m: pop index out of range"
          ]
        }
      ]
    },
    {
      "cell_type": "code",
      "source": [
        "#intentional error fixed\n",
        "num = ['four', 'two', 'zero', 'one', 'thirteen', 'six', 'nine']\n",
        "num.pop(6)\n",
        "print(num)"
      ],
      "metadata": {
        "id": "GIsnul0y-TVv"
      },
      "execution_count": null,
      "outputs": []
    },
    {
      "cell_type": "code",
      "source": [
        "#Print the cubes of all of the integers that are a multiple of 7 between 60 and 85\n"
      ],
      "metadata": {
        "id": "wBC9nLeNB1Yl"
      },
      "execution_count": null,
      "outputs": []
    },
    {
      "cell_type": "code",
      "source": [
        "#Compute y = 7.4x + 51 for the set of values 40, 50, 120, -8, and 6.\n"
      ],
      "metadata": {
        "id": "1u_rnQcPB6Q4"
      },
      "execution_count": null,
      "outputs": []
    }
  ]
}