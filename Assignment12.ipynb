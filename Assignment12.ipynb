{
  "nbformat": 4,
  "nbformat_minor": 0,
  "metadata": {
    "colab": {
      "provenance": [],
      "authorship_tag": "ABX9TyPaJbgKi2mUqH5T0iloYXr/",
      "include_colab_link": true
    },
    "kernelspec": {
      "name": "python3",
      "display_name": "Python 3"
    },
    "language_info": {
      "name": "python"
    }
  },
  "cells": [
    {
      "cell_type": "markdown",
      "metadata": {
        "id": "view-in-github",
        "colab_type": "text"
      },
      "source": [
        "<a href=\"https://colab.research.google.com/github/gitsmak/CSC221_smak002/blob/main/Assignment12.ipynb\" target=\"_parent\"><img src=\"https://colab.research.google.com/assets/colab-badge.svg\" alt=\"Open In Colab\"/></a>"
      ]
    },
    {
      "cell_type": "code",
      "source": [
        "#Susan Mak\n",
        "#Assignment 12\n",
        "class Money:\n",
        "  def __init__(self, quantity):\n",
        "    self.quantity = quantity\n",
        "\n",
        "class Bills(Money):\n",
        "  def __init__(self, quantity, value):#numerical value\n",
        "    super().__init__(quantity)\n",
        "    self.value = value\n",
        "\n",
        "  def calculate_total(self):\n",
        "    return self.quantity * self.value\n",
        "\n",
        "  def __str__(self): # combine str and int in the same line and print it\n",
        "    return f'{self.quantity} ${self.value}-dollars'\n",
        "\n",
        "class One(Bills):\n",
        "  def __init__(self, quantity):\n",
        "    super().__init__(quantity, 1)\n",
        "\n",
        "class Five(Bills):\n",
        "  def __init__(self, quantity):\n",
        "    super().__init__(quantity, 5)\n",
        "\n",
        "class Ten(Bills):\n",
        "  def __init__(self, quantity):\n",
        "    super().__init__(quantity, 10)\n",
        "\n",
        "class Twenty(Bills):\n",
        "  def __init__(self, quantity):\n",
        "    super().__init__(quantity, 20)\n",
        "\n",
        "class Coins(Money):\n",
        "  def __init__(self, value, quantity):#numerical value\n",
        "    super().__init__(quantity)\n",
        "    self.value = value\n",
        "\n",
        "  def calculate_total(self):\n",
        "    return self.quantity * self.value / 100\n",
        "\n",
        "  def __str__(self): # combine str and int in the same line and print it\n",
        "    return f'{self.quantity} {self.value}-cents'\n",
        "\n",
        "class Penny(Coins):\n",
        "  def __init__(self, quantity):\n",
        "    super().__init__(1, quantity)\n",
        "\n",
        "class Nickel(Coins):\n",
        "  def __init__(self, quantity):\n",
        "    super().__init__(5, quantity)\n",
        "\n",
        "class Dime(Coins):\n",
        "  def __init__(self, quantity):\n",
        "    super().__init__(10, quantity)\n",
        "\n",
        "class Quarter(Coins):\n",
        "  def __init__(self, quantity):\n",
        "    super().__init__(25, quantity)\n",
        "\n",
        "#first instance\n",
        "my_wallet = [\n",
        "    One(2), Five(1), Ten(3), Twenty(4), Penny(5), Nickel(6), Dime(7), Quarter(8)\n",
        "]\n",
        "\n",
        "total_value = sum(item.calculate_total() for item in my_wallet)\n",
        "print(\"You have:\")\n",
        "for item in my_wallet:\n",
        "  print(item)\n",
        "print(\"Your total is: $\" + str((total_value)))"
      ],
      "metadata": {
        "colab": {
          "base_uri": "https://localhost:8080/"
        },
        "id": "m5VLiXzTBpMl",
        "outputId": "e3cbde82-7da9-4003-aca8-dc70620c23ba"
      },
      "execution_count": 73,
      "outputs": [
        {
          "output_type": "stream",
          "name": "stdout",
          "text": [
            "You have:\n",
            "2 $1-dollars\n",
            "1 $5-dollars\n",
            "3 $10-dollars\n",
            "4 $20-dollars\n",
            "5 1-cents\n",
            "6 5-cents\n",
            "7 10-cents\n",
            "8 25-cents\n",
            "Your total is: $120.05\n"
          ]
        }
      ]
    },
    {
      "cell_type": "code",
      "source": [
        "#inheritance\n",
        "class IceCream:\n",
        "  def __init__(self, flavors, price):\n",
        "    self.flavors = flavors\n",
        "    self.price = price\n",
        "\n",
        "  def price_sign(self):\n",
        "    return f\"{self.name} costs ${self.price}.\"\n",
        "\n",
        "  def value(self):\n",
        "    return self.price\n",
        "\n",
        "class Chocolate(IceCream):\n",
        "  def __init__(self, quantity):\n",
        "    super().__init__(\"Chocolate\", 4)\n",
        "    self.quantity = quantity\n",
        "\n",
        "  def cost(self):\n",
        "    return f'{self.quantity} {self.flavors} costs ${self.price} each'\n",
        "\n",
        "  def get_value(self):\n",
        "    return self.price * self.quantity\n",
        "\n",
        "class Vanilla(IceCream):\n",
        "  def __init__(self, quantity):\n",
        "    super().__init__(\"Vanilla\", 2)\n",
        "    self.quantity = quantity\n",
        "\n",
        "  def cost(self):\n",
        "    return f'{self.quantity} {self.flavors} costs ${self.price} each'\n",
        "\n",
        "  def get_value(self):\n",
        "    return self.price * self.quantity\n",
        "\n",
        "class Strawberry(IceCream):\n",
        "  def __init__(self, quantity):\n",
        "    super().__init__(\"Strawberry\", 3)\n",
        "    self.quantity = quantity\n",
        "\n",
        "  def cost(self):\n",
        "    return f'{self.quantity} {self.flavors} costs ${self.price} each'\n",
        "\n",
        "  def get_value(self):\n",
        "    return self.price * self.quantity\n",
        "\n",
        "sundae = [Chocolate(3), Vanilla(2), Strawberry(3)]\n",
        "\n",
        "total_cost = sum(item.get_value() for item in sundae)\n",
        "for item in sundae:\n",
        "  print(item.cost())\n",
        "print(\"The total is: $\" + str(total_cost))"
      ],
      "metadata": {
        "colab": {
          "base_uri": "https://localhost:8080/"
        },
        "id": "XLGj5_LjhJmV",
        "outputId": "c6bfbdec-10d3-4f64-9ea7-6ecdb0772de0"
      },
      "execution_count": 93,
      "outputs": [
        {
          "output_type": "stream",
          "name": "stdout",
          "text": [
            "3 Chocolate costs $4 each\n",
            "2 Vanilla costs $2 each\n",
            "3 Strawberry costs $3 each\n",
            "The total is: $25\n"
          ]
        }
      ]
    }
  ]
}