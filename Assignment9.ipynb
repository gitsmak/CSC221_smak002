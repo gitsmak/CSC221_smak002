{
  "nbformat": 4,
  "nbformat_minor": 0,
  "metadata": {
    "colab": {
      "provenance": [],
      "authorship_tag": "ABX9TyMTsHKEm3nXK7uyFwbv0Ypg",
      "include_colab_link": true
    },
    "kernelspec": {
      "name": "python3",
      "display_name": "Python 3"
    },
    "language_info": {
      "name": "python"
    }
  },
  "cells": [
    {
      "cell_type": "markdown",
      "metadata": {
        "id": "view-in-github",
        "colab_type": "text"
      },
      "source": [
        "<a href=\"https://colab.research.google.com/github/gitsmak/CSC221_smak002/blob/main/Assignment9.ipynb\" target=\"_parent\"><img src=\"https://colab.research.google.com/assets/colab-badge.svg\" alt=\"Open In Colab\"/></a>"
      ]
    },
    {
      "cell_type": "code",
      "execution_count": null,
      "metadata": {
        "id": "k9p0cJoEUc7x",
        "colab": {
          "base_uri": "https://localhost:8080/"
        },
        "outputId": "f35ff842-0c4f-40f1-92c7-0542dfcce038"
      },
      "outputs": [
        {
          "output_type": "stream",
          "name": "stdout",
          "text": [
            "One of my favorite books is The Three Little Pigs.\n"
          ]
        }
      ],
      "source": [
        "#Susan Mak\n",
        "#Assignment 9\n",
        "\n",
        "#8.2\n",
        "def fav_book(book):\n",
        "  print(\"One of my favorite books is \" + book.title() + \".\")\n",
        "\n",
        "fav_book('The Three Little Pigs')"
      ]
    },
    {
      "cell_type": "code",
      "source": [
        "#8.3\n",
        "def make_shirt(size, text):\n",
        "  print(\"I have a shirt that is size \" + size + \" and says \" + \"'\" + text + \"'\")\n",
        "\n",
        "make_shirt('small', text = 'SUNY Plattsburgh')"
      ],
      "metadata": {
        "id": "dJWo2rlNSzpY",
        "colab": {
          "base_uri": "https://localhost:8080/"
        },
        "outputId": "ccf84970-5415-47b1-f4a9-a3abf20cf731"
      },
      "execution_count": null,
      "outputs": [
        {
          "output_type": "stream",
          "name": "stdout",
          "text": [
            "I have a shirt that is size small and says 'SUNY Plattsburgh'\n"
          ]
        }
      ]
    },
    {
      "cell_type": "code",
      "source": [
        "#8.4\n",
        "print(\"I have four shirts: \")\n",
        "def make_shirt(size, text):\n",
        "  print(\"This one is a size \" + size + \" and says \" + \"'\" + text + \"'\")\n",
        "\n",
        "make_shirt('large', 'I love Python')\n",
        "\n",
        "make_shirt(size = 'medium', text = 'SUNY Plattsburgh')\n",
        "\n",
        "make_shirt('large', 'SUNY Plattsburgh')\n",
        "\n",
        "make_shirt(size = 'extra large', text = 'HELLO')"
      ],
      "metadata": {
        "id": "pog6S9HBS3va",
        "colab": {
          "base_uri": "https://localhost:8080/"
        },
        "outputId": "09591c5f-0557-4f6e-aa88-aa11522924ee"
      },
      "execution_count": null,
      "outputs": [
        {
          "output_type": "stream",
          "name": "stdout",
          "text": [
            "I have four shirts: \n",
            "This one is a size large and says 'I love Python'\n",
            "This one is a size medium and says 'SUNY Plattsburgh'\n",
            "This one is a size large and says 'SUNY Plattsburgh'\n",
            "This one is a size extra large and says 'HELLO'\n"
          ]
        }
      ]
    },
    {
      "cell_type": "code",
      "source": [
        "#8.14\n",
        "def car_profile(manufacturer, model, **car_info):\n",
        "  profile = {}\n",
        "  profile['manufacturer_name'] = manufacturer\n",
        "  profile['model_name'] = model\n",
        "  for key, value in car_info.items():\n",
        "    profile[key] = value\n",
        "  return profile\n",
        "\n",
        "car = car_profile('subaru', 'outback', color = 'blue', tow_package = 'true')\n",
        "\n",
        "print(car)"
      ],
      "metadata": {
        "id": "W7AbjXlgS4_2",
        "colab": {
          "base_uri": "https://localhost:8080/"
        },
        "outputId": "1f712b6f-43cb-45dc-83f4-5df08799a73d"
      },
      "execution_count": null,
      "outputs": [
        {
          "output_type": "stream",
          "name": "stdout",
          "text": [
            "{'manufacturer_name': 'subaru', 'model_name': 'outback', 'color': 'blue', 'tow_package': 'true'}\n"
          ]
        }
      ]
    },
    {
      "cell_type": "code",
      "source": [
        "#special function\n",
        "def add(x, y):\n",
        "  return x + y\n",
        "def nums(first, second):\n",
        "  sum = first + second\n",
        "  print(\"The sum of \" + first + \" and \" + second + \"is \" + sum)"
      ],
      "metadata": {
        "id": "vkFxH_wvS61i"
      },
      "execution_count": null,
      "outputs": []
    }
  ]
}