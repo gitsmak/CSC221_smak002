{
  "nbformat": 4,
  "nbformat_minor": 0,
  "metadata": {
    "colab": {
      "provenance": [],
      "authorship_tag": "ABX9TyNVYS+lhiVFUmYrXgSTL37Z",
      "include_colab_link": true
    },
    "kernelspec": {
      "name": "python3",
      "display_name": "Python 3"
    },
    "language_info": {
      "name": "python"
    }
  },
  "cells": [
    {
      "cell_type": "markdown",
      "metadata": {
        "id": "view-in-github",
        "colab_type": "text"
      },
      "source": [
        "<a href=\"https://colab.research.google.com/github/gitsmak/CSC221_smak002/blob/main/Assignment11.ipynb\" target=\"_parent\"><img src=\"https://colab.research.google.com/assets/colab-badge.svg\" alt=\"Open In Colab\"/></a>"
      ]
    },
    {
      "cell_type": "code",
      "source": [
        "#Susan Mak\n",
        "#Assignment 11\n",
        "\n",
        "#dogs\n",
        "class Dog():\n",
        "  def __init__(self, name, age):\n",
        "    self.name = name #attributes\n",
        "    self.age = age\n",
        "  def sit(self): #method\n",
        "    print(self.name.title() + \" is now sitting\")\n",
        "  def roll_over(self):\n",
        "    print(self.name.title() + \" rolled over!\")\n",
        "#instance\n",
        "my_dog = Dog('willie', 6)\n",
        "print(\"My dog's name is \" + my_dog.name.title() + \".\")\n",
        "print(\"My dog is \" + str(my_dog.age) + \"years old.\")\n",
        "#calling methods\n",
        "my_dog.sit()\n",
        "my_dog.roll_over()\n",
        "#multiple instances\n",
        "your_dog = Dog('lucy', 3)\n",
        "\n",
        "print(\"\\nYour dog's name is \" + your_dog.name.title() + \".\")\n",
        "print(\"Your dog is \" + str(your_dog.age) + \" years old.\")\n",
        "your_dog.sit()"
      ],
      "metadata": {
        "colab": {
          "base_uri": "https://localhost:8080/"
        },
        "id": "M8hqGy0GpFfP",
        "outputId": "28cda821-e5c1-4dd3-82b4-eac718238c5c"
      },
      "execution_count": null,
      "outputs": [
        {
          "output_type": "stream",
          "name": "stdout",
          "text": [
            "My dog's name is Willie.\n",
            "My dog is 6years old.\n",
            "Willie is now sitting\n",
            "Willie rolled over!\n",
            "\n",
            "Your dog's name is Lucy.\n",
            "Your dog is 3 years old.\n",
            "Lucy is now sitting\n"
          ]
        }
      ]
    },
    {
      "cell_type": "code",
      "source": [
        "#cars\n",
        "class Car():\n",
        "  def __init__(self, make, model, year):\n",
        "    self.make = make\n",
        "    self.model = model\n",
        "    self.year = year\n",
        "\n",
        "  def get_descriptive_name(self):\n",
        "    long_name = str(self.year) + ' ' + self.make + ' ' + self.model\n",
        "    return long_name.title()\n",
        "my_new_car = Car('audi', 'a4', 2016)\n",
        "print(my_new_car.get_descriptive_name())"
      ],
      "metadata": {
        "colab": {
          "base_uri": "https://localhost:8080/"
        },
        "id": "yCf-UpbTwrZ1",
        "outputId": "e4824cfc-add4-4c88-8226-659128fb73b5"
      },
      "execution_count": null,
      "outputs": [
        {
          "output_type": "stream",
          "name": "stdout",
          "text": [
            "2016 Audi A4\n"
          ]
        }
      ]
    },
    {
      "cell_type": "code",
      "source": [
        "#cars: seeting default value for an attribute\n",
        "class Car():\n",
        "  def __init__(self, make, model, year):\n",
        "    self.make = make\n",
        "    self.model = model\n",
        "    self.year = year\n",
        "\n",
        "    self.odometer_reading = 0 #example: adding odometer attribute\n",
        "\n",
        "  def get_descriptive_name(self):\n",
        "    long_name = str(self.year) + ' ' + self.make + ' ' + self.model\n",
        "    return long_name.title()\n",
        "\n",
        "  def read_odometer(self):\n",
        "    print(\"This car has \" + str(self.odometer_reading) + \" miles on it.\")\n",
        "\n",
        "my_new_car = Car('audi', 'a4', 2016)\n",
        "print(my_new_car.get_descriptive_name())\n",
        "\n",
        "my_new_car.read_odometer()"
      ],
      "metadata": {
        "colab": {
          "base_uri": "https://localhost:8080/"
        },
        "id": "nm9tGTOYyPPf",
        "outputId": "6a7a7e4b-70af-44e5-9574-9ce290d16aa1"
      },
      "execution_count": null,
      "outputs": [
        {
          "output_type": "stream",
          "name": "stdout",
          "text": [
            "2016 Audi A4\n",
            "This car has 0 miles on it.\n"
          ]
        }
      ]
    },
    {
      "cell_type": "code",
      "source": [
        "#cars: modifying an attributes value directly\n",
        "class Car():\n",
        "  def __init__(self, make, model, year):\n",
        "    self.make = make\n",
        "    self.model = model\n",
        "    self.year = year\n",
        "\n",
        "    self.odometer_reading = 0\n",
        "\n",
        "  def get_descriptive_name(self):\n",
        "    long_name = str(self.year) + ' ' + self.make + ' ' + self.model\n",
        "    return long_name.title()\n",
        "\n",
        "  def read_odometer(self):\n",
        "    print(\"This car has \" + str(self.odometer_reading) + \" miles on it.\")\n",
        "\n",
        "my_new_car = Car('audi', 'a4', 2016)\n",
        "print(my_new_car.get_descriptive_name())\n",
        "\n",
        "my_new_car.odometer_reading = 23 #new\n",
        "my_new_car.read_odometer()"
      ],
      "metadata": {
        "colab": {
          "base_uri": "https://localhost:8080/"
        },
        "id": "nEm6GSOEyq7X",
        "outputId": "837a8e5f-aea2-4609-ca49-8fc6038f2746"
      },
      "execution_count": null,
      "outputs": [
        {
          "output_type": "stream",
          "name": "stdout",
          "text": [
            "2016 Audi A4\n",
            "This car has 23 miles on it.\n"
          ]
        }
      ]
    },
    {
      "cell_type": "code",
      "source": [
        "#cars: modifying an attributes value through METHOD\n",
        "class Car():\n",
        "  def __init__(self, make, model, year):\n",
        "    self.make = make\n",
        "    self.model = model\n",
        "    self.year = year\n",
        "\n",
        "    self.odometer_reading = 0\n",
        "\n",
        "  def get_descriptive_name(self):\n",
        "    long_name = str(self.year) + ' ' + self.make + ' ' + self.model\n",
        "    return long_name.title()\n",
        "\n",
        "  def read_odometer(self):\n",
        "    print(\"This car has \" + str(self.odometer_reading) + \" miles on it.\")\n",
        "\n",
        "  def update_odometer(self, mileage): #new\n",
        "    if mileage >= self.odometer_reading:\n",
        "      self.odometer_reading = mileage\n",
        "    else:\n",
        "      print(\"You can't roll back an odometer!\")\n",
        "\n",
        "my_new_car = Car('audi', 'a4', 2016)\n",
        "print(my_new_car.get_descriptive_name())\n",
        "\n",
        "my_new_car.update_odometer(23) #new\n",
        "my_new_car.read_odometer()"
      ],
      "metadata": {
        "colab": {
          "base_uri": "https://localhost:8080/"
        },
        "id": "ozFVlHrGy3sy",
        "outputId": "e87b040a-6063-4cfa-dae9-d3955d42438c"
      },
      "execution_count": null,
      "outputs": [
        {
          "output_type": "stream",
          "name": "stdout",
          "text": [
            "2016 Audi A4\n",
            "This car has 23 miles on it.\n"
          ]
        }
      ]
    },
    {
      "cell_type": "code",
      "source": [
        "#cars: incrementing an attribute's value through a method\n",
        "class Car():\n",
        "  def __init__(self, make, model, year):\n",
        "    self.make = make\n",
        "    self.model = model\n",
        "    self.year = year\n",
        "\n",
        "    self.odometer_reading = 0\n",
        "\n",
        "  def get_descriptive_name(self):\n",
        "    long_name = str(self.year) + ' ' + self.make + ' ' + self.model\n",
        "    return long_name.title()\n",
        "\n",
        "  def read_odometer(self):\n",
        "    print(\"This car has \" + str(self.odometer_reading) + \" miles on it.\")\n",
        "\n",
        "  def update_odometer(self, mileage):\n",
        "    if mileage >= self.odometer_reading:\n",
        "      self.odometer_reading = mileage\n",
        "    else:\n",
        "      print(\"You can't roll back an odometer!\")\n",
        "\n",
        "  def increment_odometer(self, miles): #new\n",
        "    self.odometer_reading += miles\n",
        "\n",
        "my_used_car = Car('subaru', 'outback', 2013)\n",
        "print(my_used_car.get_descriptive_name())\n",
        "\n",
        "my_used_car.update_odometer(23500)\n",
        "my_used_car.read_odometer()\n",
        "\n",
        "my_used_car.increment_odometer(100)\n",
        "my_used_car.read_odometer()"
      ],
      "metadata": {
        "colab": {
          "base_uri": "https://localhost:8080/"
        },
        "id": "oW15mfUFz1Nc",
        "outputId": "8ad5a2ee-1afd-414e-9ce8-d126d959991a"
      },
      "execution_count": null,
      "outputs": [
        {
          "output_type": "stream",
          "name": "stdout",
          "text": [
            "2013 Subaru Outback\n",
            "This car has 23500 miles on it.\n",
            "This car has 23600 miles on it.\n"
          ]
        }
      ]
    },
    {
      "cell_type": "code",
      "source": [
        "#electric car\n",
        "class ElectricCar(Car):\n",
        "  def __init__(self, make, model, year):\n",
        "    super().__init__(make, model, year)\n",
        "\n",
        "my_tesla = ElectricCar('tesla', 'model s', 2016)\n",
        "print(my_tesla.get_descriptive_name())"
      ],
      "metadata": {
        "colab": {
          "base_uri": "https://localhost:8080/"
        },
        "id": "7SVquXPt0pPN",
        "outputId": "0bd84a4d-a433-4577-99fb-c00c915809e1"
      },
      "execution_count": null,
      "outputs": [
        {
          "output_type": "stream",
          "name": "stdout",
          "text": [
            "2016 Tesla Model S\n"
          ]
        }
      ]
    },
    {
      "cell_type": "code",
      "source": [
        "#electric car inheritance\n",
        "class Car(object): #new\n",
        "  def __init__(self, make, model, year):\n",
        "    self.make = make\n",
        "    self.model = model\n",
        "    self.year = year\n",
        "\n",
        "    self.odometer_reading = 0\n",
        "\n",
        "  def get_descriptive_name(self):\n",
        "    long_name = str(self.year) + ' ' + self.make + ' ' + self.model\n",
        "    return long_name.title()\n",
        "\n",
        "  def read_odometer(self):\n",
        "    print(\"This car has \" + str(self.odometer_reading) + \" miles on it.\")\n",
        "\n",
        "  def update_odometer(self, mileage):\n",
        "    if mileage >= self.odometer_reading:\n",
        "      self.odometer_reading = mileage\n",
        "    else:\n",
        "      print(\"You can't roll back an odometer!\")\n",
        "\n",
        "  def increment_odometer(self, miles):\n",
        "    self.odometer_reading += miles\n",
        "\n",
        "class ElectricCar(Car):\n",
        "  def __init__(self, make, model, year):\n",
        "    super(ElectricCar, self).__init__(make, model, year) #new\n",
        "    self.battery_size = 70\n",
        "\n",
        "  def describe_battery(self):\n",
        "    print(\"This car has a \" + str(self.battery_size) + \"-kWh battery.\")\n",
        "\n",
        "my_tesla = ElectricCar('tesla', 'model s', 2016)\n",
        "print(my_tesla.get_descriptive_name())\n",
        "my_tesla.describe_battery()"
      ],
      "metadata": {
        "colab": {
          "base_uri": "https://localhost:8080/"
        },
        "id": "zrmmzr-M06-Q",
        "outputId": "00a6b069-3024-4412-ef5d-ab4b0125c831"
      },
      "execution_count": null,
      "outputs": [
        {
          "output_type": "stream",
          "name": "stdout",
          "text": [
            "2016 Tesla Model S\n",
            "This car has a 70-kWh battery.\n"
          ]
        }
      ]
    },
    {
      "cell_type": "code",
      "source": [
        "#electric car and battery: overriding methods from the parent class\n",
        "class Battery():\n",
        "  def __init__(self, battery_size=70):\n",
        "    self.battery_size = battery_size\n",
        "\n",
        "  def describe_battery(self):\n",
        "    print(\"This car has a \" + str(self.battery_size) + \"-kWh battery.\")\n",
        "\n",
        "  def get_range(self): #new\n",
        "    if self.battery_size == 70:\n",
        "      range = 240\n",
        "    elif self.battery_size == 85:\n",
        "      range = 270\n",
        "    message = \"This car can go approximately \" + str(range)\n",
        "    message += \" miles on a full charge.\"\n",
        "    print(message)\n",
        "\n",
        "class ElectricCar(Car):\n",
        "  def __init__(self, make, model, year):\n",
        "    super(ElectricCar, self).__init__(make, model, year) #new\n",
        "    self.battery = Battery()\n",
        "\n",
        "  def describe_battery(self):\n",
        "    print(\"This car has a \" + str(self.battery_size) + \"-kWh battery.\")\n",
        "\n",
        "  def fill_gas_tank():\n",
        "    print(\"This car doesn't need a gas tank!\")\n",
        "\n",
        "my_tesla = ElectricCar('tesla', 'model s', 2016)\n",
        "print(my_tesla.get_descriptive_name())\n",
        "my_tesla.battery.describe_battery()\n",
        "my_tesla.battery.get_range()"
      ],
      "metadata": {
        "colab": {
          "base_uri": "https://localhost:8080/"
        },
        "id": "iV7sROXt1kBl",
        "outputId": "d2eb657d-1b04-402e-a1db-755acfd260a5"
      },
      "execution_count": null,
      "outputs": [
        {
          "output_type": "stream",
          "name": "stdout",
          "text": [
            "2016 Tesla Model S\n",
            "This car has a 70-kWh battery.\n",
            "This car can go approximately 240 miles on a full charge.\n"
          ]
        }
      ]
    },
    {
      "cell_type": "code",
      "source": [
        "from car import Car\n",
        "my_new_car = Car('audi', 'a4', 2016)\n",
        "print(my_new_car.get_descriptive_name())\n",
        "\n",
        "my_new_car.odometer_reading = 23\n",
        "my_new_car.read_odometer()"
      ],
      "metadata": {
        "id": "8oozLVXqHHVo"
      },
      "execution_count": 29,
      "outputs": []
    },
    {
      "cell_type": "code",
      "source": [
        "from car import ElectricCar\n",
        "my_tesla = ElectricCar('tesla','model s', 2016)\n",
        "print(my_tesla.get_descriptive_name())\n",
        "my_tesla.battery.describe_battery()\n",
        "my_tesla.battery.get_range()"
      ],
      "metadata": {
        "id": "njuJMa8XHW1Q"
      },
      "execution_count": null,
      "outputs": []
    },
    {
      "cell_type": "code",
      "source": [
        "from car import Car, ElectricCar\n",
        "\n",
        "my_beetle = Car('volkswagen', 'beetle', 2016)\n",
        "print(my_beetle.get_descriptive_name())\n",
        "\n",
        "my_tesla = ElectricCar('tesla', 'roadster', 2016)\n",
        "print(my_tesla.get_descriptive_name())"
      ],
      "metadata": {
        "id": "YYjy1YNZJMQo"
      },
      "execution_count": null,
      "outputs": []
    },
    {
      "cell_type": "code",
      "source": [
        "import car\n",
        "\n",
        "my_beetle = car.Car('volkswagen', 'beetle', 2016)\n",
        "print(my_beetle.get_descriptive_name())\n",
        "\n",
        "my_tesla = car.ElectricCar('tesla', 'roadster', 2016)\n",
        "print(my_tesla.get_descriptive_name())"
      ],
      "metadata": {
        "id": "nKjn78epJUKH"
      },
      "execution_count": null,
      "outputs": []
    },
    {
      "cell_type": "code",
      "source": [
        "from car import Car\n",
        "from electric_car import ElectricCar\n",
        "\n",
        "my_beetle = Car('volkswagen', 'beetle', 2016)\n",
        "print(my_beetle.get_descriptive_name())\n",
        "\n",
        "my_tesla = ElectricCar('tesla', 'roadster', 2016)\n",
        "print(my_tesla.get_descriptive_name())"
      ],
      "metadata": {
        "id": "M6thWAvlJc-f"
      },
      "execution_count": null,
      "outputs": []
    },
    {
      "cell_type": "code",
      "execution_count": null,
      "metadata": {
        "colab": {
          "base_uri": "https://localhost:8080/"
        },
        "id": "0UmRHRn7tb-x",
        "outputId": "e92d5e61-6882-4d23-eaf9-7720cb8fa952"
      },
      "outputs": [
        {
          "output_type": "stream",
          "name": "stdout",
          "text": [
            "My resturant is called Smak Munch\n",
            "We serve Soul Food\n"
          ]
        }
      ],
      "source": [
        "#9.1\n",
        "class Resturant(object):\n",
        "  def __init__(self, name, cuisine):\n",
        "    self.name = name\n",
        "    self.cuisine = cuisine\n",
        "\n",
        "  def describe_resturant(self):\n",
        "    print(self.name.title() + \" serves \" + self.cuisine.title())\n",
        "\n",
        "  def open_resturant(self):\n",
        "    print(self.name.title() + \" is now open\")\n",
        "\n",
        "my_resturant = Resturant('Smak Munch', 'soul food')\n",
        "print(\"My resturant is called \" + my_resturant.name.title())\n",
        "print(\"We serve \" + my_resturant.cuisine.title())"
      ]
    },
    {
      "cell_type": "code",
      "source": [
        "#9.2\n",
        "class Resturant(object):\n",
        "  def __init__(self, name, cuisine):\n",
        "    self.name = name\n",
        "    self.cuisine = cuisine\n",
        "\n",
        "  def describe_resturant(self):\n",
        "    print(self.name.title() + \" serves \" + self.cuisine.title())\n",
        "\n",
        "  def open_resturant(self):\n",
        "    print(self.name.title() + \" is now open\")\n",
        "#^^from 9.1\n",
        "chip_resturant = Resturant('Chipotle', 'mexican food')\n",
        "mcdondon_resturant = Resturant('McDonalds','fast food')\n",
        "sbucks_resturant = Resturant('Starbucks', 'coffeehouse')\n",
        "\n",
        "chip_resturant.describe_resturant()\n",
        "mcdondon_resturant.describe_resturant()\n",
        "sbucks_resturant.describe_resturant()"
      ],
      "metadata": {
        "colab": {
          "base_uri": "https://localhost:8080/"
        },
        "id": "Pyb5ZPi6xaIi",
        "outputId": "ac3cb043-5562-4f0c-f430-2fa652fcb7b2"
      },
      "execution_count": null,
      "outputs": [
        {
          "output_type": "stream",
          "name": "stdout",
          "text": [
            "Chipotle serves Mexican Food\n",
            "Mcdonalds serves Fast Food\n",
            "Starbucks serves Coffeehouse\n"
          ]
        }
      ]
    },
    {
      "cell_type": "code",
      "source": [
        "#9.3\n",
        "class User(object):\n",
        "  def __init__(self,first_name, last_name, study):\n",
        "    self.first_name = first_name\n",
        "    self.last_name = last_name\n",
        "    self.study = study\n",
        "\n",
        "  def describe_user(self, study):\n",
        "    print(self.first_name.title() + \" studies \" + self.study)\n",
        "\n",
        "  def greet_user(self):\n",
        "    print(\"Nice to meet you, \" + self.first_name.title() + \".\")\n",
        "\n",
        "user_1 = User('Susan', 'Mak', 'computer science')\n",
        "user_1.describe_user('computer science')\n",
        "user_1.greet_user()\n",
        "print(\"\\n\")\n",
        "user_2 = User('Jakub', 'Molnar', 'engineering')\n",
        "user_2.describe_user('engineering')\n",
        "user_2.greet_user()\n",
        "print(\"\\n\")"
      ],
      "metadata": {
        "colab": {
          "base_uri": "https://localhost:8080/"
        },
        "id": "N4Q4wVjwxa_q",
        "outputId": "21bb15a9-e9c0-4329-dbd3-cb876074050a"
      },
      "execution_count": null,
      "outputs": [
        {
          "output_type": "stream",
          "name": "stdout",
          "text": [
            "Susan studies computer science\n",
            "Nice to meet you, Susan.\n",
            "\n",
            "\n",
            "Jakub studies engineering\n",
            "Nice to meet you, Jakub.\n",
            "\n",
            "\n"
          ]
        }
      ]
    },
    {
      "cell_type": "code",
      "source": [
        "#9.6\n",
        "class Resturant(object):\n",
        "  def __init__(self, name, cuisine):\n",
        "    self.name = name\n",
        "    self.cuisine = cuisine\n",
        "\n",
        "  def describe_resturant(self):\n",
        "    print(self.name.title() + \" serves \" + self.cuisine.title())\n",
        "\n",
        "  def open_resturant(self):\n",
        "    print(self.name.title() + \" is now open\")\n",
        "#^^from 9.1\n",
        "\n",
        "class IceCreamStand(Resturant):\n",
        "  def __init__(self, name, cuisine, flavors):\n",
        "    super(IceCreamStand,self).__init__(name, flavors)\n",
        "    self.flavors = flavors\n",
        "\n",
        "  def list_flavors(self):\n",
        "    print(\"We serve \" + self.flavors)\n",
        "\n",
        "my_stand = IceCreamStand('Smak Munch', 'soft serves', 'vanilla, chocolate, and strawberry')\n",
        "my_stand.list_flavors()"
      ],
      "metadata": {
        "colab": {
          "base_uri": "https://localhost:8080/"
        },
        "id": "Qo__nddvxcLy",
        "outputId": "4fb0339d-69da-43f7-b675-2110da025838"
      },
      "execution_count": null,
      "outputs": [
        {
          "output_type": "stream",
          "name": "stdout",
          "text": [
            "We serve vanilla, chocolate, and strawberry\n"
          ]
        }
      ]
    },
    {
      "cell_type": "code",
      "source": [
        "#9.7\n",
        "class User(object):\n",
        "  def __init__(self, first_name, last_name, study):\n",
        "    self.first_name = first_name\n",
        "    self.last_name = last_name\n",
        "    self.study = study\n",
        "\n",
        "  def describe_user(self, study):\n",
        "    print(self.first_name.title() + \" studies \" + self.study)\n",
        "\n",
        "  def greet_user(self):\n",
        "    print(\"Nice to meet you, \" + self.first_name.title() + \".\")\n",
        "#^^from 9.3\n",
        "\n",
        "class Admin(User):\n",
        "  def __init__(self, first_name, last_name, study, privileges):\n",
        "    super(Admin,self).__init__(first_name, last_name, privileges)\n",
        "    self.privileges = privileges\n",
        "\n",
        "  def show_privileges(self):\n",
        "    print(\"You are an admin! You can add post, delete post, and ban user\")\n",
        "\n",
        "admin_1 = Admin('Susan', 'Mak', 'computer science', 'privilege')\n",
        "admin_1.show_privileges()"
      ],
      "metadata": {
        "colab": {
          "base_uri": "https://localhost:8080/"
        },
        "id": "3MWt8Ks_6_ak",
        "outputId": "bf7cd59f-9b31-47be-e9fd-db9245fad213"
      },
      "execution_count": null,
      "outputs": [
        {
          "output_type": "stream",
          "name": "stdout",
          "text": [
            "You are an admin! You can add post, delete post, and ban user\n"
          ]
        }
      ]
    }
  ]
}