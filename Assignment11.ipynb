{
  "nbformat": 4,
  "nbformat_minor": 0,
  "metadata": {
    "colab": {
      "provenance": [],
      "authorship_tag": "ABX9TyPXLDU8tb0OcQMW2fKCM85p",
      "include_colab_link": true
    },
    "kernelspec": {
      "name": "python3",
      "display_name": "Python 3"
    },
    "language_info": {
      "name": "python"
    }
  },
  "cells": [
    {
      "cell_type": "markdown",
      "metadata": {
        "id": "view-in-github",
        "colab_type": "text"
      },
      "source": [
        "<a href=\"https://colab.research.google.com/github/gitsmak/CSC221_smak002/blob/main/Assignment11.ipynb\" target=\"_parent\"><img src=\"https://colab.research.google.com/assets/colab-badge.svg\" alt=\"Open In Colab\"/></a>"
      ]
    },
    {
      "cell_type": "code",
      "execution_count": 1,
      "metadata": {
        "colab": {
          "base_uri": "https://localhost:8080/"
        },
        "id": "0UmRHRn7tb-x",
        "outputId": "e92d5e61-6882-4d23-eaf9-7720cb8fa952"
      },
      "outputs": [
        {
          "output_type": "stream",
          "name": "stdout",
          "text": [
            "My resturant is called Smak Munch\n",
            "We serve Soul Food\n"
          ]
        }
      ],
      "source": [
        "#Susan Mak\n",
        "#Assignment 11\n",
        "\n",
        "#9.1\n",
        "class Resturant(object):\n",
        "  def __init__(self, name, cuisine):\n",
        "    self.name = name\n",
        "    self.cuisine = cuisine\n",
        "\n",
        "  def describe_resturant(self):\n",
        "    print(self.name.title() + \" serves \" + self.cuisine.title())\n",
        "\n",
        "  def open_resturant(self):\n",
        "    print(self.name.title() + \" is now open\")\n",
        "\n",
        "my_resturant = Resturant('Smak Munch', 'soul food')\n",
        "print(\"My resturant is called \" + my_resturant.name.title())\n",
        "print(\"We serve \" + my_resturant.cuisine.title())"
      ]
    },
    {
      "cell_type": "code",
      "source": [
        "#9.2\n",
        "class Resturant(object):\n",
        "  def __init__(self, name, cuisine):\n",
        "    self.name = name\n",
        "    self.cuisine = cuisine\n",
        "\n",
        "  def describe_resturant(self):\n",
        "    print(self.name.title() + \" serves \" + self.cuisine.title())\n",
        "\n",
        "  def open_resturant(self):\n",
        "    print(self.name.title() + \" is now open\")\n",
        "#^^from 9.1\n",
        "chip_resturant = Resturant('Chipotle', 'mexican food')\n",
        "mcdondon_resturant = Resturant('McDonalds','fast food')\n",
        "sbucks_resturant = Resturant('Starbucks', 'coffeehouse')\n",
        "\n",
        "chip_resturant.describe_resturant()\n",
        "mcdondon_resturant.describe_resturant()\n",
        "sbucks_resturant.describe_resturant()"
      ],
      "metadata": {
        "colab": {
          "base_uri": "https://localhost:8080/"
        },
        "id": "Pyb5ZPi6xaIi",
        "outputId": "ac3cb043-5562-4f0c-f430-2fa652fcb7b2"
      },
      "execution_count": 7,
      "outputs": [
        {
          "output_type": "stream",
          "name": "stdout",
          "text": [
            "Chipotle serves Mexican Food\n",
            "Mcdonalds serves Fast Food\n",
            "Starbucks serves Coffeehouse\n"
          ]
        }
      ]
    },
    {
      "cell_type": "code",
      "source": [
        "#9.3\n",
        "class User(object):\n",
        "  def __init__(self,first_name, last_name, study):\n",
        "    self.first_name = first_name\n",
        "    self.last_name = last_name\n",
        "    self.study = study\n",
        "\n",
        "  def describe_user(self, study):\n",
        "    print(self.first_name.title() + \" studies \" + self.study)\n",
        "\n",
        "  def greet_user(self):\n",
        "    print(\"Nice to meet you, \" + self.first_name.title() + \".\")\n",
        "\n",
        "user_1 = User('Susan', 'Mak', 'computer science')\n",
        "user_1.describe_user('computer science')\n",
        "user_1.greet_user()\n",
        "print(\"\\n\")\n",
        "user_2 = User('Jakub', 'Molnar', 'engineering')\n",
        "user_2.describe_user('engineering')\n",
        "user_2.greet_user()\n",
        "print(\"\\n\")\n",
        "user_3 = User('Sean', 'Abarca', 'robotics')\n",
        "user_3.describe_user('robotics')\n",
        "user_3.greet_user()\n",
        "print(\"\\n\")\n",
        "user_4 = User('Makayla', 'Moore', 'psychology')\n",
        "user_4.describe_user('psychology')\n",
        "user_4.greet_user()"
      ],
      "metadata": {
        "colab": {
          "base_uri": "https://localhost:8080/"
        },
        "id": "N4Q4wVjwxa_q",
        "outputId": "171247ac-2723-4807-82fa-16cda82b6ea7"
      },
      "execution_count": 24,
      "outputs": [
        {
          "output_type": "stream",
          "name": "stdout",
          "text": [
            "Susan studies computer science\n",
            "Nice to meet you, Susan.\n",
            "\n",
            "\n",
            "Jakub studies engineering\n",
            "Nice to meet you, Jakub.\n",
            "\n",
            "\n",
            "Sean studies robotics\n",
            "Nice to meet you, Sean.\n",
            "\n",
            "\n",
            "Makayla studies psychology\n",
            "Nice to meet you, Makayla.\n"
          ]
        }
      ]
    },
    {
      "cell_type": "code",
      "source": [
        "#9.6\n",
        "class Resturant(object):\n",
        "  def __init__(self, name, cuisine):\n",
        "    self.name = name\n",
        "    self.cuisine = cuisine\n",
        "\n",
        "  def describe_resturant(self):\n",
        "    print(self.name.title() + \" serves \" + self.cuisine.title())\n",
        "\n",
        "  def open_resturant(self):\n",
        "    print(self.name.title() + \" is now open\")\n",
        "#^^from 9.1\n",
        "\n",
        "class IceCreamStand(Resturant):\n",
        "  def __init__(self, name, cuisine, flavors):\n",
        "    super(IceCreamStand,self).__init__(name, flavors)\n",
        "    self.flavors = flavors\n",
        "\n",
        "  def list_flavors(self):\n",
        "    print(\"We serve \" + self.flavors)\n",
        "\n",
        "my_stand = IceCreamStand('Smak Munch', 'soft serves', 'vanilla, chocolate, and strawberry')\n",
        "my_stand.list_flavors()"
      ],
      "metadata": {
        "colab": {
          "base_uri": "https://localhost:8080/"
        },
        "id": "Qo__nddvxcLy",
        "outputId": "4fb0339d-69da-43f7-b675-2110da025838"
      },
      "execution_count": 2,
      "outputs": [
        {
          "output_type": "stream",
          "name": "stdout",
          "text": [
            "We serve vanilla, chocolate, and strawberry\n"
          ]
        }
      ]
    },
    {
      "cell_type": "code",
      "source": [
        "#9.7\n",
        "class User(object):\n",
        "  def __init__(self, first_name, last_name, study):\n",
        "    self.first_name = first_name\n",
        "    self.last_name = last_name\n",
        "    self.study = study\n",
        "\n",
        "  def describe_user(self, study):\n",
        "    print(self.first_name.title() + \" studies \" + self.study)\n",
        "\n",
        "  def greet_user(self):\n",
        "    print(\"Nice to meet you, \" + self.first_name.title() + \".\")\n",
        "#^^from 9.3\n",
        "\n",
        "class Admin(User):\n",
        "  def __init__(self, first_name, last_name, study, privileges):\n",
        "    super(Admin,self).__init__(first_name, last_name, privileges)\n",
        "    self.privileges = privileges\n",
        "\n",
        "  def show_privileges(self):\n",
        "    print(\"You are an admin! You can add post, delete post, and ban user\")\n",
        "\n",
        "admin_1 = Admin('Susan', 'Mak', 'computer science', 'privilege')\n",
        "admin_1.show_privileges()"
      ],
      "metadata": {
        "colab": {
          "base_uri": "https://localhost:8080/"
        },
        "id": "3MWt8Ks_6_ak",
        "outputId": "bf7cd59f-9b31-47be-e9fd-db9245fad213"
      },
      "execution_count": 5,
      "outputs": [
        {
          "output_type": "stream",
          "name": "stdout",
          "text": [
            "You are an admin! You can add post, delete post, and ban user\n"
          ]
        }
      ]
    }
  ]
}