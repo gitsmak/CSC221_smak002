{
  "nbformat": 4,
  "nbformat_minor": 0,
  "metadata": {
    "colab": {
      "provenance": [],
      "authorship_tag": "ABX9TyO6Nace2P76JL2iw+42OrYJ",
      "include_colab_link": true
    },
    "kernelspec": {
      "name": "python3",
      "display_name": "Python 3"
    },
    "language_info": {
      "name": "python"
    }
  },
  "cells": [
    {
      "cell_type": "markdown",
      "metadata": {
        "id": "view-in-github",
        "colab_type": "text"
      },
      "source": [
        "<a href=\"https://colab.research.google.com/github/gitsmak/CSC221_smak002/blob/main/Assignment8.ipynb\" target=\"_parent\"><img src=\"https://colab.research.google.com/assets/colab-badge.svg\" alt=\"Open In Colab\"/></a>"
      ]
    },
    {
      "cell_type": "code",
      "execution_count": null,
      "metadata": {
        "colab": {
          "base_uri": "https://localhost:8080/"
        },
        "id": "XxXbik4jtLVn",
        "outputId": "00b2163f-b1e8-41de-9718-4c3d9ebf3f04"
      },
      "outputs": [
        {
          "output_type": "stream",
          "name": "stdout",
          "text": [
            "What car are you looking for? sudan\n",
            "Let me see if I can find you a sudan\n"
          ]
        }
      ],
      "source": [
        "#Susan Mak\n",
        "#Assignment 8\n",
        "\n",
        "#7.1\n",
        "rent = input(\"What car are you looking for? \")\n",
        "print(\"Let me see if I can find you a \" + rent)"
      ]
    },
    {
      "cell_type": "code",
      "source": [
        "#7.3\n",
        "num = input(\"Give me a number \")\n",
        "num = int(num)\n",
        "\n",
        "if num % 10 == 0:\n",
        "  print(\"This number is a multiple of 10\")\n",
        "else:\n",
        "  print(\"This number is not a multiple of 10\")"
      ],
      "metadata": {
        "colab": {
          "base_uri": "https://localhost:8080/"
        },
        "id": "0hCkEkVTucPH",
        "outputId": "abf61af9-7930-4993-ba94-1a326a4eb9a7"
      },
      "execution_count": null,
      "outputs": [
        {
          "output_type": "stream",
          "name": "stdout",
          "text": [
            "Give me a number 4\n",
            "This number is not a multiple of 10\n"
          ]
        }
      ]
    },
    {
      "cell_type": "code",
      "source": [
        "#7.5\n",
        "prompt = \"How old are you? \"\n",
        "age = input(prompt)\n",
        "age = int(age)\n",
        "\n",
        "if age <3:\n",
        "  print(\"Your ticket is for free\")\n",
        "elif age <12:\n",
        "  print(\"Your ticket costs $10\")\n",
        "else:\n",
        "  print(\"Your ticket costs $15\")"
      ],
      "metadata": {
        "colab": {
          "base_uri": "https://localhost:8080/"
        },
        "id": "NHNOYS3iudor",
        "outputId": "7c9ff23b-8e2e-44b2-c31d-961c5203d7ac"
      },
      "execution_count": null,
      "outputs": [
        {
          "output_type": "stream",
          "name": "stdout",
          "text": [
            "How old are you? 3\n",
            "Your ticket costs $10\n"
          ]
        }
      ]
    },
    {
      "cell_type": "code",
      "source": [
        "#7.6\n"
      ],
      "metadata": {
        "id": "ySWNEt128QP0"
      },
      "execution_count": null,
      "outputs": []
    },
    {
      "cell_type": "code",
      "source": [
        "#7.8\n",
        "sandwich_orders = [\"sub\", \"pb&j\", \"cheese\", \"ham&cheese\", \"nutella\"]\n",
        "finished_sandwiches = []\n",
        "\n",
        "while sandwich_orders:\n",
        "  current_order = sandwich_orders.pop()\n",
        "  print(\"I made a \" + current_order.title())\n",
        "  finished_sandwiches.append(current_order)\n",
        "\n",
        "print(\"\\nThe following orders have been made: \")\n",
        "for finished_sandwich in finished_sandwiches:\n",
        "  print(finished_sandwich.title())"
      ],
      "metadata": {
        "colab": {
          "base_uri": "https://localhost:8080/"
        },
        "id": "4K2B7EvKuhcL",
        "outputId": "1e002db6-70ff-48e3-f175-86588a918e34"
      },
      "execution_count": null,
      "outputs": [
        {
          "output_type": "stream",
          "name": "stdout",
          "text": [
            "I made a Nutella\n",
            "I made a Ham&Cheese\n",
            "I made a Cheese\n",
            "I made a Pb&J\n",
            "I made a Sub\n",
            "\n",
            "The following orders have been made: \n",
            "Nutella\n",
            "Ham&Cheese\n",
            "Cheese\n",
            "Pb&J\n",
            "Sub\n"
          ]
        }
      ]
    },
    {
      "cell_type": "code",
      "source": [
        "#make a super basic calculator using input and while\n",
        "#make operator symbols defined\n",
        "def add(x, y):\n",
        "  return x + y\n",
        "\n",
        "def subtract(x, y):\n",
        "  return x - y\n",
        "\n",
        "def multiply(x, y):\n",
        "  return x * y\n",
        "\n",
        "def divide(x, y):\n",
        "  return x / y\n",
        "\n",
        "\n",
        "while True:\n",
        "  operator = input(\"Enter an operator (+, -, *, or /): \")\n",
        "\n",
        "  if operator in ('+', '-', '*', '/'):\n",
        "      num = float(input(\"Enter a number: \"))\n",
        "\n",
        "  if operator == '+':\n",
        "    print(total, \"+\", num, \"=\", add(total, num))\n",
        "    total = total + num\n",
        "\n",
        "  elif operator == '-':\n",
        "    print(total, \"-\", num, \"=\", subtract(total, num))\n",
        "    total = total - num\n",
        "\n",
        "  elif operator == '*':\n",
        "    print(total, \"*\", num, \"=\", multiply(total, num))\n",
        "    total = total * num\n",
        "\n",
        "  else:\n",
        "    print(total, \"/\", num, \"=\", divide(total,num))\n",
        "    total = total / num\n"
      ],
      "metadata": {
        "id": "PUIvcFULX8oi",
        "colab": {
          "base_uri": "https://localhost:8080/"
        },
        "outputId": "9f8f5e1b-0671-4695-cbb5-cf7835121504"
      },
      "execution_count": null,
      "outputs": [
        {
          "output_type": "stream",
          "name": "stdout",
          "text": [
            "Enter an operator (+, -, *, or /): /\n",
            "Enter a number: 3\n",
            "-50.0 / 3.0 = -16.666666666666668\n",
            "Enter an operator (+, -, *, or /): +\n",
            "Enter a number: 60\n",
            "-16.666666666666668 + 60.0 = 43.33333333333333\n"
          ]
        }
      ]
    }
  ]
}