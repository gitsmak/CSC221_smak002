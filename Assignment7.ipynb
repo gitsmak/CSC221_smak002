{
  "nbformat": 4,
  "nbformat_minor": 0,
  "metadata": {
    "colab": {
      "provenance": [],
      "authorship_tag": "ABX9TyNM6N0JM0jZ1aF/h8Xh5eNO",
      "include_colab_link": true
    },
    "kernelspec": {
      "name": "python3",
      "display_name": "Python 3"
    },
    "language_info": {
      "name": "python"
    }
  },
  "cells": [
    {
      "cell_type": "markdown",
      "metadata": {
        "id": "view-in-github",
        "colab_type": "text"
      },
      "source": [
        "<a href=\"https://colab.research.google.com/github/gitsmak/CSC221_smak002/blob/main/Assignment7.ipynb\" target=\"_parent\"><img src=\"https://colab.research.google.com/assets/colab-badge.svg\" alt=\"Open In Colab\"/></a>"
      ]
    },
    {
      "cell_type": "code",
      "execution_count": 285,
      "metadata": {
        "colab": {
          "base_uri": "https://localhost:8080/"
        },
        "id": "hwn3__dcQyoT",
        "outputId": "1b027540-2117-4ea1-8833-b5a3b8c889d5"
      },
      "outputs": [
        {
          "output_type": "stream",
          "name": "stdout",
          "text": [
            "susan\n",
            "mak\n",
            "18\n",
            "nyc\n"
          ]
        }
      ],
      "source": [
        "#Susan Mak\n",
        "#Assignment 7\n",
        "\n",
        "#6.1\n",
        "user = {'first_name': 'susan', 'last_name':'mak', 'age': 18, 'city': \"nyc\"}\n",
        "print(user['first_name'])\n",
        "print(user['last_name'])\n",
        "print(user['age'])\n",
        "print(user['city'])"
      ]
    },
    {
      "cell_type": "code",
      "source": [
        "#6.2\n",
        "fav_nums = {'susan': 4, 'jakub': 13, 'betza': 5, 'makayla': 9}\n",
        "print(\"susan's favorite number is\", fav_nums['susan'])\n",
        "print(\"jakub's favorite number is\", fav_nums['jakub'])\n",
        "print(\"betza's favorite number is\", fav_nums['betza'])\n",
        "print(\"makayla's favorite number is\", fav_nums['makayla'])"
      ],
      "metadata": {
        "colab": {
          "base_uri": "https://localhost:8080/"
        },
        "id": "K71rzmpGRJbe",
        "outputId": "3172b55c-4e27-48c9-bd46-906a1b4137db"
      },
      "execution_count": 286,
      "outputs": [
        {
          "output_type": "stream",
          "name": "stdout",
          "text": [
            "susan's favorite number is 4\n",
            "jakub's favorite number is 13\n",
            "betza's favorite number is 5\n",
            "makayla's favorite number is 9\n"
          ]
        }
      ]
    },
    {
      "cell_type": "code",
      "source": [
        "#6.3\n",
        "glossary = {\n",
        "    'if': \"Creates a conditional statement\",\n",
        "    'elif': \"Use it after the first if statement to check/follow another condition\",\n",
        "    'else': \"Determines what to do if the if statement's condition is False\",\n",
        "    'variable': \"A name for an object or string\",\n",
        "    'for': \"To create a for loop\",\n",
        "    }\n",
        "print(\"Glossary \\n\")\n",
        "print(\"if:\", glossary['if'], \"\\n\")\n",
        "print(\"elif:\", glossary['elif'], \"\\n\")\n",
        "print(\"else:\", glossary['else'], \"\\n\")\n",
        "print(\"variable:\", glossary['variable'], \"\\n\")\n",
        "print(\"for:\", glossary['for'], \"\\n\")"
      ],
      "metadata": {
        "colab": {
          "base_uri": "https://localhost:8080/"
        },
        "id": "EcZOeUyBRKde",
        "outputId": "17b5b8ab-68fd-46ae-98be-ec293dce484c"
      },
      "execution_count": 287,
      "outputs": [
        {
          "output_type": "stream",
          "name": "stdout",
          "text": [
            "Glossary \n",
            "\n",
            "if: Creates a conditional statement \n",
            "\n",
            "elif: Use it after the first if statement to check/follow another condition \n",
            "\n",
            "else: Determines what to do if the if statement's condition is False \n",
            "\n",
            "variable: A name for an object or string \n",
            "\n",
            "for: To create a for loop \n",
            "\n"
          ]
        }
      ]
    },
    {
      "cell_type": "code",
      "source": [
        "#6.4\n",
        "glossarys = {\n",
        "    'if': \"Creates a conditional statement\",\n",
        "    'elif': \"Use it after the first if statement to check/follow another condition\",\n",
        "    'else': \"Determines what to do if the if statement's condition is False\",\n",
        "    'variable': \"A name for an object or string\",\n",
        "    'for': \"To create a for loop\",\n",
        "    'break': \"stops a loop\",\n",
        "    'boolean': \"a built-in data types that represents one of two values\",\n",
        "    'def': \"used to define a function\",\n",
        "    'input': \"whatever you enter as input will be converted into a string\",\n",
        "    'output': \"what is produced from your code and will be viewed after it runs\",\n",
        "}\n",
        "print(\"Glossary \\n\")\n",
        "for key, value in glossarys.items():\n",
        "  print(key.title() + \": \" + value.title() + \"\\n\")"
      ],
      "metadata": {
        "colab": {
          "base_uri": "https://localhost:8080/"
        },
        "id": "PVA8uzumRLhF",
        "outputId": "d2d77e99-563a-47e8-9322-804339b25f6b"
      },
      "execution_count": 288,
      "outputs": [
        {
          "output_type": "stream",
          "name": "stdout",
          "text": [
            "Glossary \n",
            "\n",
            "If: Creates A Conditional Statement\n",
            "\n",
            "Elif: Use It After The First If Statement To Check/Follow Another Condition\n",
            "\n",
            "Else: Determines What To Do If The If Statement'S Condition Is False\n",
            "\n",
            "Variable: A Name For An Object Or String\n",
            "\n",
            "For: To Create A For Loop\n",
            "\n",
            "Break: Stops A Loop\n",
            "\n",
            "Boolean: A Built-In Data Types That Represents One Of Two Values\n",
            "\n",
            "Def: Used To Define A Function\n",
            "\n",
            "Input: Whatever You Enter As Input Will Be Converted Into A String\n",
            "\n",
            "Output: What Is Produced From Your Code And Will Be Viewed After It Runs\n",
            "\n"
          ]
        }
      ]
    },
    {
      "cell_type": "code",
      "source": [
        "#6.11\n",
        "citys = {\n",
        "    'NYC': {\n",
        "        'population': \"8.337 million\",\n",
        "        'fact': \"There are more than 800 languages spoken in the city.\",\n",
        "        'country': \"United States\",\n",
        "    },\n",
        "    'Berlin': {\n",
        "        'population': \"3.769 million\",\n",
        "        'fact': \"In 2011, Berlin was voted as Germany's most dog friendly city.\",\n",
        "        'country': \"Germany\",\n",
        "    },\n",
        "    'Bratislava': {\n",
        "        'population': \"440 hundred thousand\",\n",
        "        'fact': \"The national dish is Bryndzove Halusky.\",\n",
        "        'country': \"Slovakia\",\n",
        "    },\n",
        "}\n",
        "for city, city_info in citys.items():\n",
        "  print(\"\\nCity: \" + city)\n",
        "\n",
        "  print(\"\\tpopulation: \" + city_info['population'])\n",
        "  print(\"\\tfact: \" + city_info['fact'])\n",
        "  print(\"\\tcountry: \" + city_info['country'])"
      ],
      "metadata": {
        "id": "vnDOaa6iRMXl",
        "colab": {
          "base_uri": "https://localhost:8080/"
        },
        "outputId": "7fd0f50a-c373-48e9-af5a-d3167624f136"
      },
      "execution_count": 289,
      "outputs": [
        {
          "output_type": "stream",
          "name": "stdout",
          "text": [
            "\n",
            "City: NYC\n",
            "\tpopulation: 8.337 million\n",
            "\tfact: There are more than 800 languages spoken in the city.\n",
            "\tcountry: United States\n",
            "\n",
            "City: Berlin\n",
            "\tpopulation: 3.769 million\n",
            "\tfact: In 2011, Berlin was voted as Germany's most dog friendly city.\n",
            "\tcountry: Germany\n",
            "\n",
            "City: Bratislava\n",
            "\tpopulation: 440 hundred thousand\n",
            "\tfact: The national dish is Bryndzove Halusky.\n",
            "\tcountry: Slovakia\n"
          ]
        }
      ]
    },
    {
      "cell_type": "code",
      "source": [
        "#6.12\n",
        "user = {\n",
        "      'first name': \"susan\",\n",
        "      'last name': \"mak\",\n",
        "      'age': \"18\",\n",
        "      'city': \"nyc\",\n",
        "      'fav color': \"purple\",\n",
        "      'fav song': \"Follow You by Bring Me The Horizon\"\n",
        "      }\n",
        "print(\"About Me: \\n\")\n",
        "for key, value in user.items():\n",
        "  print(key.title() + \": \" + value.title() + \"\\n\")"
      ],
      "metadata": {
        "id": "i8AHg2WRROu1",
        "colab": {
          "base_uri": "https://localhost:8080/"
        },
        "outputId": "a040247d-e23b-4807-f884-30b7c1724dc9"
      },
      "execution_count": 290,
      "outputs": [
        {
          "output_type": "stream",
          "name": "stdout",
          "text": [
            "About Me: \n",
            "\n",
            "First Name: Susan\n",
            "\n",
            "Last Name: Mak\n",
            "\n",
            "Age: 18\n",
            "\n",
            "City: Nyc\n",
            "\n",
            "Fav Color: Purple\n",
            "\n",
            "Fav Song: Follow You By Bring Me The Horizon\n",
            "\n"
          ]
        }
      ]
    }
  ]
}