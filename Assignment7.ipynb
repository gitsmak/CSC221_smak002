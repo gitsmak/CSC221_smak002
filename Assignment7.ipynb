{
  "nbformat": 4,
  "nbformat_minor": 0,
  "metadata": {
    "colab": {
      "provenance": [],
      "authorship_tag": "ABX9TyP2yPZh6leUW2OfY8JUVmFO",
      "include_colab_link": true
    },
    "kernelspec": {
      "name": "python3",
      "display_name": "Python 3"
    },
    "language_info": {
      "name": "python"
    }
  },
  "cells": [
    {
      "cell_type": "markdown",
      "metadata": {
        "id": "view-in-github",
        "colab_type": "text"
      },
      "source": [
        "<a href=\"https://colab.research.google.com/github/gitsmak/CSC221_smak002/blob/main/Assignment7.ipynb\" target=\"_parent\"><img src=\"https://colab.research.google.com/assets/colab-badge.svg\" alt=\"Open In Colab\"/></a>"
      ]
    },
    {
      "cell_type": "code",
      "source": [
        "#Susan Mak\n",
        "#Assignment 7\n",
        "#examples\n",
        "message = input(\"Tell me something, and I will repeat it back to you: \")\n",
        "print(message)\n",
        "\n",
        "#clear prompts\n",
        "name = input(\"Please enter your name: \")\n",
        "print(\"Hello, \" + name + \"!\")\n",
        "\n",
        "prompt = \"If you tell us who you are, we can personalize the messages you see.\"\n",
        "prompt += \"\\nWhat is your first name? \"\n",
        "name = input(prompt)\n",
        "print(\"\\nHello, \" + name + \"!\")\n",
        "\n",
        "#using int to accept num input\n",
        "age = input(\"How old are you? \")\n",
        "age = int(age)\n",
        "\n",
        "height = input(\"How tall are you, in inches? \")\n",
        "height = int(height)\n",
        "\n",
        "if height >= 36:\n",
        "  print(\"\\nYou're tall enough to ride!\")\n",
        "else:\n",
        "  print(\"\\nYou'll be able to ride when you're a little older.\")\n",
        "\n",
        "number = input(\"Enter a number, and I'll tell you if it's even or odd: \")\n",
        "number = int(number)\n",
        "if number % 2 == 0:\n",
        "  print(\"\\nThe number \" + str(number) + \" is even.\")\n",
        "else:\n",
        "  print(\"\\nThe number \" + str(number) + \" is odd.\")\n",
        "\n",
        "#while loop\n",
        "current_number = 1\n",
        "while current_number <= 5:\n",
        "  print(current_number)\n",
        "  current_number += 1\n",
        "\n",
        "#choosing when to quit\n",
        "prompt = \"\\nTell me something, and I will repeat it back to you:\"\n",
        "prompt += \"\\nEnter 'quit' to end the program. \"\n",
        "message = \"\"\n",
        "while message != 'quit':\n",
        "  message = input(prompt)\n",
        "  print(message)\n",
        "\n",
        "#break to exit a loop\n",
        "prompt = \"\\nPlease enter the name of a city you have visited:\"\n",
        "prompt += \"\\n(Enter 'quit' when you are finished.)\n",
        "while True:\n",
        "  city = input(prompt)\n",
        "\n",
        "  if city == 'quit':\n",
        "    break\n",
        "  else:\n",
        "    print(\"I'd love to go to \" + city.title() + \"!\")\n",
        "\n",
        "#using continue in a loop\n",
        "current_number = 0\n",
        "while current_number < 10:\n",
        "  current_number += 1\n",
        "  if current_number % 2 == 0:\n",
        "    continue\n",
        "  print(current_number)\n",
        "\n",
        "#avoiding infinite loops\n",
        "# This loop runs forever\n",
        "x = 1\n",
        "while x <= 5:\n",
        "  print(x)\n",
        "#this does not\n",
        "x = 1\n",
        "while x <= 5:\n",
        " print(x)\n",
        " x += 1\n",
        "\n",
        "#moving items from one list to another\n",
        "unconfirmed_users = ['alice', 'brian', 'candace']\n",
        "confirmed_users = []\n",
        "while unconfirmed_users:\n",
        "  current_user = unconfirmed_users.pop()\n",
        "  print(\"Verifying user: \" + current_user.title())\n",
        "  confirmed_users.append(current_user)\n",
        "print(\"\\nThe following users have been confirmed:\")\n",
        "for confirmed_user in confirmed_users:\n",
        "  print(confirmed_user.title())\n",
        "\n",
        "#removing all instamces of specific value from a list\n",
        "pets = ['dog', 'cat', 'dog', 'goldfish', 'cat', 'rabbit', 'cat']\n",
        "print(pets)\n",
        "while 'cat' in pets:\n",
        "  pets.remove('cat')\n",
        "print(pets)\n",
        "\n",
        "#putting user input in a dictionary\n",
        "responses = {}\n",
        "polling_active = True\n",
        "while polling_active:\n",
        "  name = input(\"\\nWhat is your name? \")\n",
        "  response = input(\"Which mountain would you like to climb someday? \")\n",
        "\n",
        "  responses[name] = response\n",
        "\n",
        "  repeat = input(\"Would you like to let another person respond? (yes/ no) \")\n",
        "  if repeat == 'no':\n",
        "    polling_active = False\n",
        "\n",
        "print(\"\\n--- Poll Results ---\")\n",
        "for name, response in responses.items():\n",
        "  print(name + \" would like to climb \" + response + \".\")"
      ],
      "metadata": {
        "id": "PPxuz79htXQG"
      },
      "execution_count": null,
      "outputs": []
    },
    {
      "cell_type": "code",
      "execution_count": null,
      "metadata": {
        "colab": {
          "base_uri": "https://localhost:8080/"
        },
        "id": "hwn3__dcQyoT",
        "outputId": "1b027540-2117-4ea1-8833-b5a3b8c889d5"
      },
      "outputs": [
        {
          "output_type": "stream",
          "name": "stdout",
          "text": [
            "susan\n",
            "mak\n",
            "18\n",
            "nyc\n"
          ]
        }
      ],
      "source": [
        "#6.1\n",
        "user = {'first_name': 'susan', 'last_name':'mak', 'age': 18, 'city': \"nyc\"}\n",
        "print(user['first_name'])\n",
        "print(user['last_name'])\n",
        "print(user['age'])\n",
        "print(user['city'])"
      ]
    },
    {
      "cell_type": "code",
      "source": [
        "#6.2\n",
        "fav_nums = {'susan': 4, 'jakub': 13, 'betza': 5, 'makayla': 9}\n",
        "print(\"susan's favorite number is\", fav_nums['susan'])\n",
        "print(\"jakub's favorite number is\", fav_nums['jakub'])\n",
        "print(\"betza's favorite number is\", fav_nums['betza'])\n",
        "print(\"makayla's favorite number is\", fav_nums['makayla'])"
      ],
      "metadata": {
        "colab": {
          "base_uri": "https://localhost:8080/"
        },
        "id": "K71rzmpGRJbe",
        "outputId": "3172b55c-4e27-48c9-bd46-906a1b4137db"
      },
      "execution_count": null,
      "outputs": [
        {
          "output_type": "stream",
          "name": "stdout",
          "text": [
            "susan's favorite number is 4\n",
            "jakub's favorite number is 13\n",
            "betza's favorite number is 5\n",
            "makayla's favorite number is 9\n"
          ]
        }
      ]
    },
    {
      "cell_type": "code",
      "source": [
        "#6.3\n",
        "glossary = {\n",
        "    'if': \"Creates a conditional statement\",\n",
        "    'elif': \"Use it after the first if statement to check/follow another condition\",\n",
        "    'else': \"Determines what to do if the if statement's condition is False\",\n",
        "    'variable': \"A name for an object or string\",\n",
        "    'for': \"To create a for loop\",\n",
        "    }\n",
        "print(\"Glossary \\n\")\n",
        "print(\"if:\", glossary['if'], \"\\n\")\n",
        "print(\"elif:\", glossary['elif'], \"\\n\")\n",
        "print(\"else:\", glossary['else'], \"\\n\")\n",
        "print(\"variable:\", glossary['variable'], \"\\n\")\n",
        "print(\"for:\", glossary['for'], \"\\n\")"
      ],
      "metadata": {
        "colab": {
          "base_uri": "https://localhost:8080/"
        },
        "id": "EcZOeUyBRKde",
        "outputId": "17b5b8ab-68fd-46ae-98be-ec293dce484c"
      },
      "execution_count": null,
      "outputs": [
        {
          "output_type": "stream",
          "name": "stdout",
          "text": [
            "Glossary \n",
            "\n",
            "if: Creates a conditional statement \n",
            "\n",
            "elif: Use it after the first if statement to check/follow another condition \n",
            "\n",
            "else: Determines what to do if the if statement's condition is False \n",
            "\n",
            "variable: A name for an object or string \n",
            "\n",
            "for: To create a for loop \n",
            "\n"
          ]
        }
      ]
    },
    {
      "cell_type": "code",
      "source": [
        "#6.4\n",
        "glossarys = {\n",
        "    'if': \"Creates a conditional statement\",\n",
        "    'elif': \"Use it after the first if statement to check/follow another condition\",\n",
        "    'else': \"Determines what to do if the if statement's condition is False\",\n",
        "    'variable': \"A name for an object or string\",\n",
        "    'for': \"To create a for loop\",\n",
        "    'break': \"stops a loop\",\n",
        "    'boolean': \"a built-in data types that represents one of two values\",\n",
        "    'def': \"used to define a function\",\n",
        "    'input': \"whatever you enter as input will be converted into a string\",\n",
        "    'output': \"what is produced from your code and will be viewed after it runs\",\n",
        "}\n",
        "print(\"Glossary \\n\")\n",
        "for key, value in glossarys.items():\n",
        "  print(key.title() + \": \" + value.title() + \"\\n\")"
      ],
      "metadata": {
        "colab": {
          "base_uri": "https://localhost:8080/"
        },
        "id": "PVA8uzumRLhF",
        "outputId": "d2d77e99-563a-47e8-9322-804339b25f6b"
      },
      "execution_count": null,
      "outputs": [
        {
          "output_type": "stream",
          "name": "stdout",
          "text": [
            "Glossary \n",
            "\n",
            "If: Creates A Conditional Statement\n",
            "\n",
            "Elif: Use It After The First If Statement To Check/Follow Another Condition\n",
            "\n",
            "Else: Determines What To Do If The If Statement'S Condition Is False\n",
            "\n",
            "Variable: A Name For An Object Or String\n",
            "\n",
            "For: To Create A For Loop\n",
            "\n",
            "Break: Stops A Loop\n",
            "\n",
            "Boolean: A Built-In Data Types That Represents One Of Two Values\n",
            "\n",
            "Def: Used To Define A Function\n",
            "\n",
            "Input: Whatever You Enter As Input Will Be Converted Into A String\n",
            "\n",
            "Output: What Is Produced From Your Code And Will Be Viewed After It Runs\n",
            "\n"
          ]
        }
      ]
    },
    {
      "cell_type": "code",
      "source": [
        "#6.11\n",
        "citys = {\n",
        "    'NYC': {\n",
        "        'population': \"8.337 million\",\n",
        "        'fact': \"There are more than 800 languages spoken in the city.\",\n",
        "        'country': \"United States\",\n",
        "    },\n",
        "    'Berlin': {\n",
        "        'population': \"3.769 million\",\n",
        "        'fact': \"In 2011, Berlin was voted as Germany's most dog friendly city.\",\n",
        "        'country': \"Germany\",\n",
        "    },\n",
        "    'Bratislava': {\n",
        "        'population': \"440 hundred thousand\",\n",
        "        'fact': \"The national dish is Bryndzove Halusky.\",\n",
        "        'country': \"Slovakia\",\n",
        "    },\n",
        "}\n",
        "for city, city_info in citys.items():\n",
        "  print(\"\\nCity: \" + city)\n",
        "\n",
        "  print(\"\\tpopulation: \" + city_info['population'])\n",
        "  print(\"\\tfact: \" + city_info['fact'])\n",
        "  print(\"\\tcountry: \" + city_info['country'])"
      ],
      "metadata": {
        "id": "vnDOaa6iRMXl",
        "colab": {
          "base_uri": "https://localhost:8080/"
        },
        "outputId": "7fd0f50a-c373-48e9-af5a-d3167624f136"
      },
      "execution_count": null,
      "outputs": [
        {
          "output_type": "stream",
          "name": "stdout",
          "text": [
            "\n",
            "City: NYC\n",
            "\tpopulation: 8.337 million\n",
            "\tfact: There are more than 800 languages spoken in the city.\n",
            "\tcountry: United States\n",
            "\n",
            "City: Berlin\n",
            "\tpopulation: 3.769 million\n",
            "\tfact: In 2011, Berlin was voted as Germany's most dog friendly city.\n",
            "\tcountry: Germany\n",
            "\n",
            "City: Bratislava\n",
            "\tpopulation: 440 hundred thousand\n",
            "\tfact: The national dish is Bryndzove Halusky.\n",
            "\tcountry: Slovakia\n"
          ]
        }
      ]
    },
    {
      "cell_type": "code",
      "source": [
        "#6.12\n",
        "user = {\n",
        "      'first name': \"susan\",\n",
        "      'last name': \"mak\",\n",
        "      'age': \"18\",\n",
        "      'city': \"nyc\",\n",
        "      'fav color': \"purple\",\n",
        "      'fav song': \"Follow You by Bring Me The Horizon\"\n",
        "      }\n",
        "print(\"About Me: \\n\")\n",
        "for key, value in user.items():\n",
        "  print(key.title() + \": \" + value.title() + \"\\n\")"
      ],
      "metadata": {
        "id": "i8AHg2WRROu1",
        "colab": {
          "base_uri": "https://localhost:8080/"
        },
        "outputId": "a040247d-e23b-4807-f884-30b7c1724dc9"
      },
      "execution_count": null,
      "outputs": [
        {
          "output_type": "stream",
          "name": "stdout",
          "text": [
            "About Me: \n",
            "\n",
            "First Name: Susan\n",
            "\n",
            "Last Name: Mak\n",
            "\n",
            "Age: 18\n",
            "\n",
            "City: Nyc\n",
            "\n",
            "Fav Color: Purple\n",
            "\n",
            "Fav Song: Follow You By Bring Me The Horizon\n",
            "\n"
          ]
        }
      ]
    }
  ]
}