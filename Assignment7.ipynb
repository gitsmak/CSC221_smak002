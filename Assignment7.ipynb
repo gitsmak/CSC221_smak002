{
  "nbformat": 4,
  "nbformat_minor": 0,
  "metadata": {
    "colab": {
      "provenance": [],
      "authorship_tag": "ABX9TyO+TCGY336CQhVwkq6DX8uA",
      "include_colab_link": true
    },
    "kernelspec": {
      "name": "python3",
      "display_name": "Python 3"
    },
    "language_info": {
      "name": "python"
    }
  },
  "cells": [
    {
      "cell_type": "markdown",
      "metadata": {
        "id": "view-in-github",
        "colab_type": "text"
      },
      "source": [
        "<a href=\"https://colab.research.google.com/github/gitsmak/CSC221_smak002/blob/main/Assignment7.ipynb\" target=\"_parent\"><img src=\"https://colab.research.google.com/assets/colab-badge.svg\" alt=\"Open In Colab\"/></a>"
      ]
    },
    {
      "cell_type": "code",
      "execution_count": 161,
      "metadata": {
        "colab": {
          "base_uri": "https://localhost:8080/"
        },
        "id": "hwn3__dcQyoT",
        "outputId": "9cbc1687-03c7-493b-b5c9-89778afcd890"
      },
      "outputs": [
        {
          "output_type": "stream",
          "name": "stdout",
          "text": [
            "susan\n",
            "mak\n",
            "18\n",
            "nyc\n"
          ]
        }
      ],
      "source": [
        "#Susan Mak\n",
        "#Assignment 7\n",
        "\n",
        "#6.1\n",
        "user = {'first_name': 'susan', 'last_name':'mak', 'age': 18, 'city': \"nyc\"}\n",
        "print(user['first_name'])\n",
        "print(user['last_name'])\n",
        "print(user['age'])\n",
        "print(user['city'])"
      ]
    },
    {
      "cell_type": "code",
      "source": [
        "#6.2\n",
        "fav_nums = {'susan': 4, 'jakub': 13, 'betza': 5, 'makayla': 9}\n",
        "print(\"susan's favorite number is\", fav_nums['susan'])\n",
        "print(\"jakub's favorite number is\", fav_nums['jakub'])\n",
        "print(\"betza's favorite number is\", fav_nums['betza'])\n",
        "print(\"makayla's favorite number is\", fav_nums['makayla'])"
      ],
      "metadata": {
        "colab": {
          "base_uri": "https://localhost:8080/"
        },
        "id": "K71rzmpGRJbe",
        "outputId": "e9c7b2d0-538e-4cc6-8d0f-40eea65dcc82"
      },
      "execution_count": 162,
      "outputs": [
        {
          "output_type": "stream",
          "name": "stdout",
          "text": [
            "susan's favorite number is 4\n",
            "jakub's favorite number is 13\n",
            "betza's favorite number is 5\n",
            "makayla's favorite number is 9\n"
          ]
        }
      ]
    },
    {
      "cell_type": "code",
      "source": [
        "#6.3\n",
        "glossary = {\n",
        "    'if': \"Creates a conditional statement\",\n",
        "    'elif': \"Use it after the first if statement to check/follow another condition\",\n",
        "    'else': \"Determines what to do if the if statement's condition is False\",\n",
        "    'variable': \"A name for an object or string\",\n",
        "    'for': \"To create a for loop\",\n",
        "    }\n",
        "print(\"Glossary \\n\")\n",
        "print(\"if:\", glossary['if'], \"\\n\")\n",
        "print(\"elif:\", glossary['elif'], \"\\n\")\n",
        "print(\"else:\", glossary['else'], \"\\n\")\n",
        "print(\"variable:\", glossary['variable'], \"\\n\")\n",
        "print(\"for:\", glossary['for'], \"\\n\")"
      ],
      "metadata": {
        "colab": {
          "base_uri": "https://localhost:8080/"
        },
        "id": "EcZOeUyBRKde",
        "outputId": "3aa82d45-c52e-4ac9-b800-b4ae8d31d520"
      },
      "execution_count": 163,
      "outputs": [
        {
          "output_type": "stream",
          "name": "stdout",
          "text": [
            "Glossary \n",
            "\n",
            "if: Creates a conditional statement \n",
            "\n",
            "elif: Use it after the first if statement to check/follow another condition \n",
            "\n",
            "else: Determines what to do if the if statement's condition is False \n",
            "\n",
            "variable: A name for an object or string \n",
            "\n",
            "for: To create a for loop \n",
            "\n"
          ]
        }
      ]
    },
    {
      "cell_type": "code",
      "source": [
        "#6.4\n",
        "glossarys = {\n",
        "    'if': \"Creates a conditional statement\",\n",
        "    'elif': \"Use it after the first if statement to check/follow another condition\",\n",
        "    'else': \"Determines what to do if the if statement's condition is False\",\n",
        "    'variable': \"A name for an object or string\",\n",
        "    'for': \"To create a for loop\",\n",
        "    'break': \"stops a loop\",\n",
        "    'boolean': \"a built-in data types that represents one of two values\",\n",
        "    'def': \"used to define a function\",\n",
        "    'input': \"whatever you enter as input will be converted into a string\",\n",
        "    'output': \"what is produced from your code and will be viewed after it runs\",\n",
        "}\n",
        "print(\"Glossary \\n\")\n",
        "for key, value in glossary.items():\n",
        "  print(key + \": \" + value + \"\\n\")"
      ],
      "metadata": {
        "colab": {
          "base_uri": "https://localhost:8080/"
        },
        "id": "PVA8uzumRLhF",
        "outputId": "e3019bf1-5c28-4055-952c-19798dd933a4"
      },
      "execution_count": 164,
      "outputs": [
        {
          "output_type": "stream",
          "name": "stdout",
          "text": [
            "Glossary \n",
            "\n",
            "if: Creates a conditional statement\n",
            "\n",
            "elif: Use it after the first if statement to check/follow another condition\n",
            "\n",
            "else: Determines what to do if the if statement's condition is False\n",
            "\n",
            "variable: A name for an object or string\n",
            "\n",
            "for: To create a for loop\n",
            "\n"
          ]
        }
      ]
    },
    {
      "cell_type": "code",
      "source": [
        "#6.11"
      ],
      "metadata": {
        "id": "vnDOaa6iRMXl"
      },
      "execution_count": 165,
      "outputs": []
    },
    {
      "cell_type": "code",
      "source": [
        "#6.12"
      ],
      "metadata": {
        "id": "i8AHg2WRROu1"
      },
      "execution_count": 166,
      "outputs": []
    }
  ]
}