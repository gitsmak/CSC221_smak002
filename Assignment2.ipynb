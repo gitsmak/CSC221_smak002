{
  "nbformat": 4,
  "nbformat_minor": 0,
  "metadata": {
    "colab": {
      "provenance": [],
      "authorship_tag": "ABX9TyOBnkeQqaSEvh3Y6ivXoKEI",
      "include_colab_link": true
    },
    "kernelspec": {
      "name": "python3",
      "display_name": "Python 3"
    },
    "language_info": {
      "name": "python"
    }
  },
  "cells": [
    {
      "cell_type": "markdown",
      "metadata": {
        "id": "view-in-github",
        "colab_type": "text"
      },
      "source": [
        "<a href=\"https://colab.research.google.com/github/gitsmak/CSC221_smak002/blob/main/Assignment2.ipynb\" target=\"_parent\"><img src=\"https://colab.research.google.com/assets/colab-badge.svg\" alt=\"Open In Colab\"/></a>"
      ]
    },
    {
      "cell_type": "code",
      "execution_count": 1,
      "metadata": {
        "colab": {
          "base_uri": "https://localhost:8080/"
        },
        "id": "YT74WX8AdXwC",
        "outputId": "63e9c1df-e968-4da2-b892-fc657322e8ee"
      },
      "outputs": [
        {
          "output_type": "stream",
          "name": "stdout",
          "text": [
            "test_1=37\n",
            "test_2 is [12, 14, 99]\n",
            "74\n",
            "[12, 14, 99, 12, 14, 99]\n",
            "111\n",
            "[12, 14, 99, 12, 14, 99, 12, 14, 99]\n"
          ]
        }
      ],
      "source": [
        "test_1 = 37\n",
        "test_2 = [12, 14, 99]\n",
        "\n",
        "print(f'{test_1=}')\n",
        "print('test_2 is', test_2)\n",
        "\n",
        "def doubler(x):\n",
        "    y = x * 2\n",
        "    return y\n",
        "\n",
        "print(doubler(test_1))\n",
        "print(doubler(test_2))\n",
        "\n",
        "class Wrapper:\n",
        "    def __init__(self, x):\n",
        "        self.x = x\n",
        "    def tripler(self):\n",
        "        y = self.x * 3\n",
        "        return y\n",
        "\n",
        "w1 = Wrapper(test_1)\n",
        "w2 = Wrapper(test_2)\n",
        "\n",
        "print(w1.tripler())\n",
        "print(w2.tripler())\n",
        "\n",
        "#I learned that the first way defines a function.\n",
        "#the second way uses a class to code a template in order to list the test\n",
        "#the third way is most straightforward, printing the output."
      ]
    }
  ]
}