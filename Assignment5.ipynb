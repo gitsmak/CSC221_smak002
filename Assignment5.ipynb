{
  "nbformat": 4,
  "nbformat_minor": 0,
  "metadata": {
    "colab": {
      "provenance": [],
      "authorship_tag": "ABX9TyOEf9abkm+NYd02ArAYQX1Z",
      "include_colab_link": true
    },
    "kernelspec": {
      "name": "python3",
      "display_name": "Python 3"
    },
    "language_info": {
      "name": "python"
    }
  },
  "cells": [
    {
      "cell_type": "markdown",
      "metadata": {
        "id": "view-in-github",
        "colab_type": "text"
      },
      "source": [
        "<a href=\"https://colab.research.google.com/github/gitsmak/CSC221_smak002/blob/main/Assignment5.ipynb\" target=\"_parent\"><img src=\"https://colab.research.google.com/assets/colab-badge.svg\" alt=\"Open In Colab\"/></a>"
      ]
    },
    {
      "cell_type": "code",
      "execution_count": 180,
      "metadata": {
        "colab": {
          "base_uri": "https://localhost:8080/"
        },
        "id": "L42PsFfuyQ0_",
        "outputId": "82cf9a13-93f2-4253-8da1-29a5d339e73d"
      },
      "outputs": [
        {
          "output_type": "stream",
          "name": "stdout",
          "text": [
            "I want Cheese\n",
            "I want Extra Cheese\n",
            "I want Mozzarella Cheese\n",
            "I think I love cheese on pizza.\n"
          ]
        }
      ],
      "source": [
        "#try it yourself 4.1\n",
        "pizzas = ['cheese', 'extra cheese', 'mozzarella cheese']\n",
        "for pizza in pizzas:\n",
        "  print(\"I want \" + pizza.title())\n",
        "print(\"I think I love cheese on pizza.\")\n"
      ]
    },
    {
      "cell_type": "code",
      "source": [
        "#try it yourself 4.2\n",
        "hasEars = ['cow', 'bear', 'monkey', 'dog']\n",
        "for hasEar in hasEars:\n",
        "  print(hasEar.title() + \" is so cute\")\n",
        "print(\"This is because they have ears.\")"
      ],
      "metadata": {
        "colab": {
          "base_uri": "https://localhost:8080/"
        },
        "id": "lGvXrwQC2dR5",
        "outputId": "b6d960b9-6e17-43de-dc2f-6138de6f6068"
      },
      "execution_count": 181,
      "outputs": [
        {
          "output_type": "stream",
          "name": "stdout",
          "text": [
            "Cow is so cute\n",
            "Bear is so cute\n",
            "Monkey is so cute\n",
            "Dog is so cute\n",
            "This is because they have ears.\n"
          ]
        }
      ]
    },
    {
      "cell_type": "code",
      "source": [
        "#try it yourself 4.3\n",
        "num = list(range(1,21))\n",
        "print(num)"
      ],
      "metadata": {
        "colab": {
          "base_uri": "https://localhost:8080/"
        },
        "id": "ql_3D5xm3sEp",
        "outputId": "59d54133-f593-4151-929d-8fc0c021e005"
      },
      "execution_count": 182,
      "outputs": [
        {
          "output_type": "stream",
          "name": "stdout",
          "text": [
            "[1, 2, 3, 4, 5, 6, 7, 8, 9, 10, 11, 12, 13, 14, 15, 16, 17, 18, 19, 20]\n"
          ]
        }
      ]
    },
    {
      "cell_type": "code",
      "source": [
        "#try it yourself 4.4\n",
        "#one million is a lot to scroll so I made a list from one to one hundred\n",
        "mil = list(range(1,101))\n",
        "print(mil)"
      ],
      "metadata": {
        "colab": {
          "base_uri": "https://localhost:8080/"
        },
        "id": "I0qw-yef50GP",
        "outputId": "c4175213-af93-42e3-dfe0-c38f6cbd8719"
      },
      "execution_count": 183,
      "outputs": [
        {
          "output_type": "stream",
          "name": "stdout",
          "text": [
            "[1, 2, 3, 4, 5, 6, 7, 8, 9, 10, 11, 12, 13, 14, 15, 16, 17, 18, 19, 20, 21, 22, 23, 24, 25, 26, 27, 28, 29, 30, 31, 32, 33, 34, 35, 36, 37, 38, 39, 40, 41, 42, 43, 44, 45, 46, 47, 48, 49, 50, 51, 52, 53, 54, 55, 56, 57, 58, 59, 60, 61, 62, 63, 64, 65, 66, 67, 68, 69, 70, 71, 72, 73, 74, 75, 76, 77, 78, 79, 80, 81, 82, 83, 84, 85, 86, 87, 88, 89, 90, 91, 92, 93, 94, 95, 96, 97, 98, 99, 100]\n"
          ]
        }
      ]
    },
    {
      "cell_type": "code",
      "source": [
        "#try it yourself 4.5\n",
        "mil = list(range(1,1000001))\n",
        "print(min(mil))\n",
        "print(max(mil))\n",
        "print(sum(mil))\n"
      ],
      "metadata": {
        "colab": {
          "base_uri": "https://localhost:8080/"
        },
        "id": "P_4ALuuh6YW1",
        "outputId": "c04b4335-28a9-430e-f26d-6fa1f3178253"
      },
      "execution_count": 184,
      "outputs": [
        {
          "output_type": "stream",
          "name": "stdout",
          "text": [
            "1\n",
            "1000000\n",
            "500000500000\n"
          ]
        }
      ]
    },
    {
      "cell_type": "code",
      "source": [
        "#try it yourself 4.6\n",
        "odds = list(range(1,21,2))\n",
        "for odd in odds:\n",
        "  print(odd)"
      ],
      "metadata": {
        "colab": {
          "base_uri": "https://localhost:8080/"
        },
        "id": "GweKyHij77_D",
        "outputId": "2f52caa6-a0fd-4a81-8fb4-1085ad869a40"
      },
      "execution_count": 185,
      "outputs": [
        {
          "output_type": "stream",
          "name": "stdout",
          "text": [
            "1\n",
            "3\n",
            "5\n",
            "7\n",
            "9\n",
            "11\n",
            "13\n",
            "15\n",
            "17\n",
            "19\n"
          ]
        }
      ]
    },
    {
      "cell_type": "code",
      "source": [
        "#try it yourself 4.7\n",
        "threes = list(range(3,31,3))\n",
        "#I assume the question asks for the last number in the list to be 30\n",
        "for three in threes:\n",
        "  print(three)"
      ],
      "metadata": {
        "colab": {
          "base_uri": "https://localhost:8080/"
        },
        "id": "VbI_Tk9z9eDa",
        "outputId": "db5c8294-0937-4367-f0a5-a8dea0265ec1"
      },
      "execution_count": 186,
      "outputs": [
        {
          "output_type": "stream",
          "name": "stdout",
          "text": [
            "3\n",
            "6\n",
            "9\n",
            "12\n",
            "15\n",
            "18\n",
            "21\n",
            "24\n",
            "27\n",
            "30\n"
          ]
        }
      ]
    },
    {
      "cell_type": "code",
      "source": [
        "#try it yourself 4.8\n",
        "cubes = [value**3 for value in range(1,11)]\n",
        "for cube in cubes:\n",
        "  print(cube)"
      ],
      "metadata": {
        "colab": {
          "base_uri": "https://localhost:8080/"
        },
        "id": "XqzSWHV3960h",
        "outputId": "93ceb355-dfb9-4108-bb22-66753f6016bc"
      },
      "execution_count": 187,
      "outputs": [
        {
          "output_type": "stream",
          "name": "stdout",
          "text": [
            "1\n",
            "8\n",
            "27\n",
            "64\n",
            "125\n",
            "216\n",
            "343\n",
            "512\n",
            "729\n",
            "1000\n"
          ]
        }
      ]
    },
    {
      "cell_type": "code",
      "source": [
        "#try it yourself 4.9\n",
        "cubes = [value**3 for value in range(1,11)]\n",
        "print(cubes)"
      ],
      "metadata": {
        "colab": {
          "base_uri": "https://localhost:8080/"
        },
        "id": "CuXV4UUH-dMc",
        "outputId": "85a0075b-9940-42a8-f219-dc7c2abefe57"
      },
      "execution_count": 188,
      "outputs": [
        {
          "output_type": "stream",
          "name": "stdout",
          "text": [
            "[1, 8, 27, 64, 125, 216, 343, 512, 729, 1000]\n"
          ]
        }
      ]
    },
    {
      "cell_type": "code",
      "source": [
        "#try it yourself 4.10"
      ],
      "metadata": {
        "id": "bo2xYNUn-4gX"
      },
      "execution_count": null,
      "outputs": []
    }
  ]
}