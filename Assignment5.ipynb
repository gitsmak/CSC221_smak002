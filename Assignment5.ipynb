{
  "nbformat": 4,
  "nbformat_minor": 0,
  "metadata": {
    "colab": {
      "provenance": [],
      "authorship_tag": "ABX9TyOy7fMPJ96oHuKYvA0G5Ybl",
      "include_colab_link": true
    },
    "kernelspec": {
      "name": "python3",
      "display_name": "Python 3"
    },
    "language_info": {
      "name": "python"
    }
  },
  "cells": [
    {
      "cell_type": "markdown",
      "metadata": {
        "id": "view-in-github",
        "colab_type": "text"
      },
      "source": [
        "<a href=\"https://colab.research.google.com/github/gitsmak/CSC221_smak002/blob/main/Assignment5.ipynb\" target=\"_parent\"><img src=\"https://colab.research.google.com/assets/colab-badge.svg\" alt=\"Open In Colab\"/></a>"
      ]
    },
    {
      "cell_type": "code",
      "execution_count": 898,
      "metadata": {
        "colab": {
          "base_uri": "https://localhost:8080/"
        },
        "id": "L42PsFfuyQ0_",
        "outputId": "d1773d71-a5fe-4685-f4a9-736f4d7ed555"
      },
      "outputs": [
        {
          "output_type": "stream",
          "name": "stdout",
          "text": [
            "I want Cheese\n",
            "I want Extra Cheese\n",
            "I want Mozzarella Cheese\n",
            "I want Cheddar Cheese\n",
            "I want Mixed Cheese\n",
            "I think I love cheese on pizza.\n"
          ]
        }
      ],
      "source": [
        "#try it yourself 4.1\n",
        "pizzas = ['cheese', 'extra cheese', 'mozzarella cheese', 'cheddar cheese','mixed cheese']\n",
        "for pizza in pizzas:\n",
        "  print(\"I want \" + pizza.title())\n",
        "print(\"I think I love cheese on pizza.\")\n"
      ]
    },
    {
      "cell_type": "code",
      "source": [
        "#try it yourself 4.2\n",
        "hasEars = ['cow', 'bear', 'monkey', 'dog', 'cat', 'rabbit']\n",
        "for hasEar in hasEars:\n",
        "  print(hasEar.title() + \" is so cute\")\n",
        "print(\"This is because they have ears.\")"
      ],
      "metadata": {
        "colab": {
          "base_uri": "https://localhost:8080/"
        },
        "id": "lGvXrwQC2dR5",
        "outputId": "98e2b6c1-5233-4c42-ba00-bb2023af3795"
      },
      "execution_count": 899,
      "outputs": [
        {
          "output_type": "stream",
          "name": "stdout",
          "text": [
            "Cow is so cute\n",
            "Bear is so cute\n",
            "Monkey is so cute\n",
            "Dog is so cute\n",
            "Cat is so cute\n",
            "Rabbit is so cute\n",
            "This is because they have ears.\n"
          ]
        }
      ]
    },
    {
      "cell_type": "code",
      "source": [
        "#try it yourself 4.3\n",
        "num = list(range(1,21))\n",
        "print(num)"
      ],
      "metadata": {
        "colab": {
          "base_uri": "https://localhost:8080/"
        },
        "id": "ql_3D5xm3sEp",
        "outputId": "1dc04597-bd8a-4aa2-f93a-f420ea39aa83"
      },
      "execution_count": 900,
      "outputs": [
        {
          "output_type": "stream",
          "name": "stdout",
          "text": [
            "[1, 2, 3, 4, 5, 6, 7, 8, 9, 10, 11, 12, 13, 14, 15, 16, 17, 18, 19, 20]\n"
          ]
        }
      ]
    },
    {
      "cell_type": "code",
      "source": [
        "#try it yourself 4.4\n",
        "#one million is a lot to scroll so I made a list from one to one hundred\n",
        "mil = list(range(1,101))\n",
        "print(mil)"
      ],
      "metadata": {
        "colab": {
          "base_uri": "https://localhost:8080/"
        },
        "id": "I0qw-yef50GP",
        "outputId": "93488847-91a9-42c6-920d-f6a073465d2f"
      },
      "execution_count": 901,
      "outputs": [
        {
          "output_type": "stream",
          "name": "stdout",
          "text": [
            "[1, 2, 3, 4, 5, 6, 7, 8, 9, 10, 11, 12, 13, 14, 15, 16, 17, 18, 19, 20, 21, 22, 23, 24, 25, 26, 27, 28, 29, 30, 31, 32, 33, 34, 35, 36, 37, 38, 39, 40, 41, 42, 43, 44, 45, 46, 47, 48, 49, 50, 51, 52, 53, 54, 55, 56, 57, 58, 59, 60, 61, 62, 63, 64, 65, 66, 67, 68, 69, 70, 71, 72, 73, 74, 75, 76, 77, 78, 79, 80, 81, 82, 83, 84, 85, 86, 87, 88, 89, 90, 91, 92, 93, 94, 95, 96, 97, 98, 99, 100]\n"
          ]
        }
      ]
    },
    {
      "cell_type": "code",
      "source": [
        "#try it yourself 4.5\n",
        "mil = list(range(1,1000001))\n",
        "print(min(mil))\n",
        "print(max(mil))\n",
        "print(sum(mil))\n"
      ],
      "metadata": {
        "colab": {
          "base_uri": "https://localhost:8080/"
        },
        "id": "P_4ALuuh6YW1",
        "outputId": "dc149d45-9ea3-498d-c013-f19c6b0d7226"
      },
      "execution_count": 902,
      "outputs": [
        {
          "output_type": "stream",
          "name": "stdout",
          "text": [
            "1\n",
            "1000000\n",
            "500000500000\n"
          ]
        }
      ]
    },
    {
      "cell_type": "code",
      "source": [
        "#try it yourself 4.6\n",
        "odds = list(range(1,21,2))\n",
        "for odd in odds:\n",
        "  print(odd)"
      ],
      "metadata": {
        "colab": {
          "base_uri": "https://localhost:8080/"
        },
        "id": "GweKyHij77_D",
        "outputId": "bf2c3472-2da5-4776-a1ea-505f5427b09d"
      },
      "execution_count": 903,
      "outputs": [
        {
          "output_type": "stream",
          "name": "stdout",
          "text": [
            "1\n",
            "3\n",
            "5\n",
            "7\n",
            "9\n",
            "11\n",
            "13\n",
            "15\n",
            "17\n",
            "19\n"
          ]
        }
      ]
    },
    {
      "cell_type": "code",
      "source": [
        "#try it yourself 4.7\n",
        "threes = list(range(3,31,3))\n",
        "#I assume the question asks for the last number in the list to be 30\n",
        "for three in threes:\n",
        "  print(three)"
      ],
      "metadata": {
        "colab": {
          "base_uri": "https://localhost:8080/"
        },
        "id": "VbI_Tk9z9eDa",
        "outputId": "1cfc409b-a022-4423-d276-0bc197762fc0"
      },
      "execution_count": 904,
      "outputs": [
        {
          "output_type": "stream",
          "name": "stdout",
          "text": [
            "3\n",
            "6\n",
            "9\n",
            "12\n",
            "15\n",
            "18\n",
            "21\n",
            "24\n",
            "27\n",
            "30\n"
          ]
        }
      ]
    },
    {
      "cell_type": "code",
      "source": [
        "#try it yourself 4.8\n",
        "cubes = [value**3 for value in range(1,11)]\n",
        "for cube in cubes:\n",
        "  print(cube)"
      ],
      "metadata": {
        "colab": {
          "base_uri": "https://localhost:8080/"
        },
        "id": "XqzSWHV3960h",
        "outputId": "3b741ac0-acc1-4199-a1d1-275c0b6b525e"
      },
      "execution_count": 905,
      "outputs": [
        {
          "output_type": "stream",
          "name": "stdout",
          "text": [
            "1\n",
            "8\n",
            "27\n",
            "64\n",
            "125\n",
            "216\n",
            "343\n",
            "512\n",
            "729\n",
            "1000\n"
          ]
        }
      ]
    },
    {
      "cell_type": "code",
      "source": [
        "#try it yourself 4.9\n",
        "cubes = [value**3 for value in range(1,11)]\n",
        "print(cubes)"
      ],
      "metadata": {
        "colab": {
          "base_uri": "https://localhost:8080/"
        },
        "id": "CuXV4UUH-dMc",
        "outputId": "41ee061d-9b89-454c-f955-d08bc601a56b"
      },
      "execution_count": 906,
      "outputs": [
        {
          "output_type": "stream",
          "name": "stdout",
          "text": [
            "[1, 8, 27, 64, 125, 216, 343, 512, 729, 1000]\n"
          ]
        }
      ]
    },
    {
      "cell_type": "code",
      "source": [
        "#try it yourself 4.10\n",
        "#copied from 4.1\n",
        "pizzas = ['cheese', 'extra cheese', 'mozzarella cheese', 'cheddar cheese','mixed cheese']\n",
        "for pizza in pizzas:\n",
        "  print(\"I want \" + pizza.title())\n",
        "print(\"I think I love cheese on pizza.\" + \"\\n\")\\\n",
        "\n",
        "#4.10 start here\n",
        "print(\"The first three items in the list are:\")\n",
        "for pizza in pizzas[:3]:\n",
        "  print(pizza.title())\n",
        "\n",
        "#extra \\n so the output doesn't look clustered\n",
        "print(\"\\n\" + \"Three items from the middle of the list are:\")\n",
        "for pizza in pizzas[1:4]:\n",
        "  print(pizza.title())\n",
        "\n",
        "print(\"\\n\" +\"The last three items in the list are:\")\n",
        "for pizza in pizzas[2:]:\n",
        "  print(pizza.title())\n"
      ],
      "metadata": {
        "colab": {
          "base_uri": "https://localhost:8080/"
        },
        "id": "bo2xYNUn-4gX",
        "outputId": "24b32c53-483d-4d72-a1fa-2ef9d3d52af1"
      },
      "execution_count": 907,
      "outputs": [
        {
          "output_type": "stream",
          "name": "stdout",
          "text": [
            "I want Cheese\n",
            "I want Extra Cheese\n",
            "I want Mozzarella Cheese\n",
            "I want Cheddar Cheese\n",
            "I want Mixed Cheese\n",
            "I think I love cheese on pizza.\n",
            "\n",
            "The first three items in the list are:\n",
            "Cheese\n",
            "Extra Cheese\n",
            "Mozzarella Cheese\n",
            "\n",
            "Three items from the middle of the list are:\n",
            "Extra Cheese\n",
            "Mozzarella Cheese\n",
            "Cheddar Cheese\n",
            "\n",
            "The last three items in the list are:\n",
            "Mozzarella Cheese\n",
            "Cheddar Cheese\n",
            "Mixed Cheese\n"
          ]
        }
      ]
    },
    {
      "cell_type": "code",
      "source": [
        "#try it yourself 4.11\n",
        "pizzas = ['bbq', 'cheese', 'extra cheese', 'mozzarella cheese', 'cheddar cheese','mixed cheese']\n",
        "friend_pizzas = ['tomato', 'cheese', 'extra cheese', 'mozzarella cheese', 'cheddar cheese','mixed cheese']\n",
        "\n",
        "print(\"My favorite pizzas are:\")\n",
        "for pizza in pizzas:\n",
        "  print(pizza.title())\n",
        "\n",
        "print(\"\\n\" + \"My friend's favorite pizzas are\")\n",
        "for friend_pizza in friend_pizzas:\n",
        "  print(friend_pizza.title())"
      ],
      "metadata": {
        "colab": {
          "base_uri": "https://localhost:8080/"
        },
        "id": "iOtUp_1rEH8E",
        "outputId": "1841034d-8582-40d4-e64f-68bfd320cb52"
      },
      "execution_count": 908,
      "outputs": [
        {
          "output_type": "stream",
          "name": "stdout",
          "text": [
            "My favorite pizzas are:\n",
            "Bbq\n",
            "Cheese\n",
            "Extra Cheese\n",
            "Mozzarella Cheese\n",
            "Cheddar Cheese\n",
            "Mixed Cheese\n",
            "\n",
            "My friend's favorite pizzas are\n",
            "Tomato\n",
            "Cheese\n",
            "Extra Cheese\n",
            "Mozzarella Cheese\n",
            "Cheddar Cheese\n",
            "Mixed Cheese\n"
          ]
        }
      ]
    },
    {
      "cell_type": "code",
      "source": [
        "#try it yourself 4.13\n",
        "foods = ('chicken', 'shrimp', 'rice', 'salad', 'cake')\n",
        "for food in foods:\n",
        "  print(food)\n",
        "\n",
        "#modify\n",
        "foods = ('beef', 'shrimp', 'noodles', 'salad', 'cake')\n",
        "print(\"\\nModified Menu:\")\n",
        "for food in foods:\n",
        "  print(food)"
      ],
      "metadata": {
        "colab": {
          "base_uri": "https://localhost:8080/"
        },
        "id": "YHknf-9eG9k8",
        "outputId": "404687aa-1d3e-4e5a-e950-85adb75479ed"
      },
      "execution_count": 909,
      "outputs": [
        {
          "output_type": "stream",
          "name": "stdout",
          "text": [
            "chicken\n",
            "shrimp\n",
            "rice\n",
            "salad\n",
            "cake\n",
            "\n",
            "Modified Menu:\n",
            "beef\n",
            "shrimp\n",
            "noodles\n",
            "salad\n",
            "cake\n"
          ]
        }
      ]
    },
    {
      "cell_type": "code",
      "source": [
        "#4.12, 4.14, 4.15 are redundant"
      ],
      "metadata": {
        "id": "BK3G0NaaIi5L"
      },
      "execution_count": 910,
      "outputs": []
    },
    {
      "cell_type": "code",
      "source": [
        "#task 3: factorial(n)\n",
        "def fact(n):\n",
        "  num = [x+1 for x in range(n)]\n",
        "  fact = 1\n",
        "  for x in num:\n",
        "    fact *=x\n",
        "  return fact\n",
        "\n",
        "print(fact(5))\n",
        "print(fact(10))\n",
        "print(fact(20))"
      ],
      "metadata": {
        "colab": {
          "base_uri": "https://localhost:8080/"
        },
        "id": "5nM61Eo9I3qC",
        "outputId": "d644a7cb-3fea-43bd-d894-389bf7a6a42d"
      },
      "execution_count": 911,
      "outputs": [
        {
          "output_type": "stream",
          "name": "stdout",
          "text": [
            "120\n",
            "3628800\n",
            "2432902008176640000\n"
          ]
        }
      ]
    },
    {
      "cell_type": "code",
      "source": [
        "#task 4: special_fact\n",
        "def special_fact(n):\n",
        "  num = [x+1 for x in range(n)]\n",
        "  if n >= 4:\n",
        "    num.remove(4)\n",
        "  if n >= 13:\n",
        "    num.remove(13)\n",
        "  if n >= 22:\n",
        "    num.remove(22)\n",
        "\n",
        "  special_fact = 1\n",
        "  for x in num:\n",
        "    special_fact *=x\n",
        "  return special_fact\n",
        "\n",
        "print(special_fact(5))\n",
        "print(special_fact(10))\n",
        "print(special_fact(20))\n",
        "print(special_fact(50))"
      ],
      "metadata": {
        "colab": {
          "base_uri": "https://localhost:8080/"
        },
        "id": "WKLR3-OAKcb2",
        "outputId": "d5571870-4daa-4be4-ad00-1c9e78f56c91"
      },
      "execution_count": 912,
      "outputs": [
        {
          "output_type": "stream",
          "name": "stdout",
          "text": [
            "30\n",
            "907200\n",
            "46786577080320000\n",
            "26585745805693512275885146998308364374455980392448000000000000\n"
          ]
        }
      ]
    }
  ]
}