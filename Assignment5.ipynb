{
  "nbformat": 4,
  "nbformat_minor": 0,
  "metadata": {
    "colab": {
      "provenance": [],
      "authorship_tag": "ABX9TyOaOWXZCZnmx+KODghJOGVq",
      "include_colab_link": true
    },
    "kernelspec": {
      "name": "python3",
      "display_name": "Python 3"
    },
    "language_info": {
      "name": "python"
    }
  },
  "cells": [
    {
      "cell_type": "markdown",
      "metadata": {
        "id": "view-in-github",
        "colab_type": "text"
      },
      "source": [
        "<a href=\"https://colab.research.google.com/github/gitsmak/CSC221_smak002/blob/main/Assignment5.ipynb\" target=\"_parent\"><img src=\"https://colab.research.google.com/assets/colab-badge.svg\" alt=\"Open In Colab\"/></a>"
      ]
    },
    {
      "cell_type": "code",
      "execution_count": 14,
      "metadata": {
        "colab": {
          "base_uri": "https://localhost:8080/"
        },
        "id": "L42PsFfuyQ0_",
        "outputId": "e7c6605c-5dc5-4059-af6e-56b849cec971"
      },
      "outputs": [
        {
          "output_type": "stream",
          "name": "stdout",
          "text": [
            "I want Cheese\n",
            "I want Extra Cheese\n",
            "I want Mozzarella Cheese\n",
            "I think I love cheese on pizza.\n"
          ]
        }
      ],
      "source": [
        "#try it yourself 4.1\n",
        "pizzas = ['cheese', 'extra cheese', 'mozzarella cheese']\n",
        "for pizza in pizzas:\n",
        "  print(\"I want \" + pizza.title())\n",
        "print(\"I think I love cheese on pizza.\")\n"
      ]
    },
    {
      "cell_type": "code",
      "source": [
        "#try it yourself 4.1\n",
        "hasEars = ['cow', 'bear', 'monkey', 'dog']\n",
        "for hasEar in hasEars:\n",
        "  print(hasEar.title() + \" is so cute\")\n",
        "print(\"This is because they have ears.\")"
      ],
      "metadata": {
        "colab": {
          "base_uri": "https://localhost:8080/"
        },
        "id": "lGvXrwQC2dR5",
        "outputId": "dcee7bd5-de93-48d7-e910-0cf39d793b1b"
      },
      "execution_count": 15,
      "outputs": [
        {
          "output_type": "stream",
          "name": "stdout",
          "text": [
            "Cow is so cute\n",
            "Bear is so cute\n",
            "Monkey is so cute\n",
            "Dog is so cute\n",
            "This is because they have ears.\n"
          ]
        }
      ]
    },
    {
      "cell_type": "code",
      "source": [],
      "metadata": {
        "id": "ql_3D5xm3sEp"
      },
      "execution_count": null,
      "outputs": []
    }
  ]
}