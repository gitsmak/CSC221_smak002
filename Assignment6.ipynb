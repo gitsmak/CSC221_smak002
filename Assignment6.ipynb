{
  "nbformat": 4,
  "nbformat_minor": 0,
  "metadata": {
    "colab": {
      "provenance": [],
      "authorship_tag": "ABX9TyPdIJ7DzNgPgamrZjkv5nK9",
      "include_colab_link": true
    },
    "kernelspec": {
      "name": "python3",
      "display_name": "Python 3"
    },
    "language_info": {
      "name": "python"
    }
  },
  "cells": [
    {
      "cell_type": "markdown",
      "metadata": {
        "id": "view-in-github",
        "colab_type": "text"
      },
      "source": [
        "<a href=\"https://colab.research.google.com/github/gitsmak/CSC221_smak002/blob/main/Assignment6.ipynb\" target=\"_parent\"><img src=\"https://colab.research.google.com/assets/colab-badge.svg\" alt=\"Open In Colab\"/></a>"
      ]
    },
    {
      "cell_type": "code",
      "execution_count": 1193,
      "metadata": {
        "id": "2hX8_Kwt4Tbg",
        "colab": {
          "base_uri": "https://localhost:8080/"
        },
        "outputId": "806ca058-ae8e-4b91-d30c-ce32a5d350e2"
      },
      "outputs": [
        {
          "output_type": "stream",
          "name": "stdout",
          "text": [
            "is the icecream == 'chocolate'? I predict it's true\n",
            "True\n",
            "\n",
            "is icecream == 'vanilla'? I predict it's false\n",
            "False\n",
            "\n",
            "is the tea == 'chai'? I predict it's true\n",
            "True\n",
            "\n",
            "is tea == 'green'? I predict it's false\n",
            "False\n",
            "\n",
            "is the milk == 'almond'? I predict it's true\n",
            "True\n",
            "\n",
            "is the milk == 'rice'? I predict it's false\n",
            "False\n",
            "\n",
            "is the fruit == 'orange'? I predict it's true\n",
            "True\n",
            "\n",
            "is the fruit == 'apple'? I predict it's false\n",
            "False\n",
            "\n",
            "is the vegetable == 'carrot'? I predict it's true\n",
            "True\n",
            "\n",
            "is the vegetable == 'tomato'? I predict it's false\n",
            "False\n"
          ]
        }
      ],
      "source": [
        "#5-1\n",
        "icecream = 'chocolate'\n",
        "print(\"is the icecream == 'chocolate'? I predict it's true\")\n",
        "print(icecream == 'chocolate')\n",
        "\n",
        "print(\"\\nis icecream == 'vanilla'? I predict it's false\")\n",
        "print(icecream == 'vanilla')\n",
        "\n",
        "tea = \"chai\"\n",
        "print(\"\\nis the tea == 'chai'? I predict it's true\")\n",
        "print(tea == 'chai')\n",
        "\n",
        "print(\"\\nis tea == 'green'? I predict it's false\")\n",
        "print(tea == 'green')\n",
        "\n",
        "milk = 'almond'\n",
        "print(\"\\nis the milk == 'almond'? I predict it's true\")\n",
        "print(milk == 'almond')\n",
        "\n",
        "print(\"\\nis the milk == 'rice'? I predict it's false\")\n",
        "print(milk == 'rice')\n",
        "\n",
        "fruit = 'orange'\n",
        "print(\"\\nis the fruit == 'orange'? I predict it's true\")\n",
        "print(fruit == 'orange')\n",
        "\n",
        "print(\"\\nis the fruit == 'apple'? I predict it's false\")\n",
        "print(fruit == 'apple')\n",
        "\n",
        "vegetable = 'carrot'\n",
        "print(\"\\nis the vegetable == 'carrot'? I predict it's true\")\n",
        "print(vegetable == 'carrot')\n",
        "\n",
        "print(\"\\nis the vegetable == 'tomato'? I predict it's false\")\n",
        "print(vegetable == 'tomato')"
      ]
    },
    {
      "cell_type": "code",
      "source": [
        "#5-2\n",
        "\n",
        "#inequality\n",
        "icecream = 'chocolate'\n",
        "icecream == 'vanilla'"
      ],
      "metadata": {
        "id": "cE33sVxJGxBA",
        "colab": {
          "base_uri": "https://localhost:8080/"
        },
        "outputId": "746d5373-9101-4443-86d5-4f7e54ebed54"
      },
      "execution_count": 1194,
      "outputs": [
        {
          "output_type": "execute_result",
          "data": {
            "text/plain": [
              "False"
            ]
          },
          "metadata": {},
          "execution_count": 1194
        }
      ]
    },
    {
      "cell_type": "code",
      "source": [
        "icecream = 'CHOCOLATE'\n",
        "icecream.lower() == 'chocolate'"
      ],
      "metadata": {
        "id": "6Xnyh942Wr0p",
        "colab": {
          "base_uri": "https://localhost:8080/"
        },
        "outputId": "4e234e4d-5282-4aae-b65d-74c8c669526a"
      },
      "execution_count": 1195,
      "outputs": [
        {
          "output_type": "execute_result",
          "data": {
            "text/plain": [
              "True"
            ]
          },
          "metadata": {},
          "execution_count": 1195
        }
      ]
    },
    {
      "cell_type": "code",
      "source": [
        "#lower() function\n",
        "age = 30\n",
        "if age != 60:\n",
        "  print(\"No, I am 30 >:(\")"
      ],
      "metadata": {
        "id": "ie_H-e8RXD8H",
        "colab": {
          "base_uri": "https://localhost:8080/"
        },
        "outputId": "39159eee-d388-44cc-efca-18fc38530445"
      },
      "execution_count": 1196,
      "outputs": [
        {
          "output_type": "stream",
          "name": "stdout",
          "text": [
            "No, I am 30 >:(\n"
          ]
        }
      ]
    },
    {
      "cell_type": "code",
      "source": [
        "tea_flavor = 'thai'\n",
        "if tea_flavor != 'chamomile':\n",
        "  print(\"Get the chamomile!!\")"
      ],
      "metadata": {
        "id": "ZUGzOEhkf3Vt",
        "colab": {
          "base_uri": "https://localhost:8080/"
        },
        "outputId": "900ad919-f813-4864-8f9e-4c5475d4ec80"
      },
      "execution_count": 1197,
      "outputs": [
        {
          "output_type": "stream",
          "name": "stdout",
          "text": [
            "Get the chamomile!!\n"
          ]
        }
      ]
    },
    {
      "cell_type": "code",
      "source": [
        "#greater than and less than\n",
        "wallet_1 = 34\n",
        "wallet_2 = 78\n",
        "wallet_1 >= 30 and wallet_2 <= 100\n"
      ],
      "metadata": {
        "id": "zWTBIXaYc2I9",
        "colab": {
          "base_uri": "https://localhost:8080/"
        },
        "outputId": "3ebf7251-d715-472f-bc49-36f9de8ff2a2"
      },
      "execution_count": 1198,
      "outputs": [
        {
          "output_type": "execute_result",
          "data": {
            "text/plain": [
              "True"
            ]
          },
          "metadata": {},
          "execution_count": 1198
        }
      ]
    },
    {
      "cell_type": "code",
      "source": [
        "wallet_3 = 0\n",
        "wallet_4 = 2\n",
        "wallet_3 >= 10 and wallet_4 <= 20"
      ],
      "metadata": {
        "id": "8iaSrcBrfaL4",
        "colab": {
          "base_uri": "https://localhost:8080/"
        },
        "outputId": "2438ec11-c516-4c0a-faaa-0151f82b7e3a"
      },
      "execution_count": 1199,
      "outputs": [
        {
          "output_type": "execute_result",
          "data": {
            "text/plain": [
              "False"
            ]
          },
          "metadata": {},
          "execution_count": 1199
        }
      ]
    },
    {
      "cell_type": "code",
      "source": [
        "#using or\n",
        "kg = 27\n",
        "g = 45\n",
        "kg < 50 or g > 50"
      ],
      "metadata": {
        "id": "f8gJ3Zahds3O",
        "colab": {
          "base_uri": "https://localhost:8080/"
        },
        "outputId": "25b128f1-4f2a-4c53-b951-1419762dd78a"
      },
      "execution_count": 1200,
      "outputs": [
        {
          "output_type": "execute_result",
          "data": {
            "text/plain": [
              "True"
            ]
          },
          "metadata": {},
          "execution_count": 1200
        }
      ]
    },
    {
      "cell_type": "code",
      "source": [
        "#checking in a list\n",
        "milk = ['dairy', 'almond', 'oat', 'rice', 'expired']\n",
        "'rice' in milk"
      ],
      "metadata": {
        "id": "eP5K4Ck1d0Ob",
        "colab": {
          "base_uri": "https://localhost:8080/"
        },
        "outputId": "39ae89f3-6a84-45ef-df53-e891418dbca1"
      },
      "execution_count": 1201,
      "outputs": [
        {
          "output_type": "execute_result",
          "data": {
            "text/plain": [
              "True"
            ]
          },
          "metadata": {},
          "execution_count": 1201
        }
      ]
    },
    {
      "cell_type": "code",
      "source": [
        "milk = ['dairy', 'almond', 'oat', 'rice', 'expired']\n",
        "'bacteria' in milk"
      ],
      "metadata": {
        "id": "wpuygSuUfRQB",
        "colab": {
          "base_uri": "https://localhost:8080/"
        },
        "outputId": "9d20d134-e201-44e9-e6af-53c98ed405d8"
      },
      "execution_count": 1202,
      "outputs": [
        {
          "output_type": "execute_result",
          "data": {
            "text/plain": [
              "False"
            ]
          },
          "metadata": {},
          "execution_count": 1202
        }
      ]
    },
    {
      "cell_type": "code",
      "source": [
        "#checking not in a list\n",
        "milk = ['dairy', 'almond', 'oat', 'rice', 'expired']\n",
        "drink = 'water'\n",
        "\n",
        "if drink not in milk:\n",
        "  print(drink.title() + \" ,you are not milk but you are still delicious\")"
      ],
      "metadata": {
        "id": "m1kf4lCgeOBM",
        "colab": {
          "base_uri": "https://localhost:8080/"
        },
        "outputId": "84710fe2-75f1-41ff-e8ce-12c8b38753bf"
      },
      "execution_count": 1203,
      "outputs": [
        {
          "output_type": "stream",
          "name": "stdout",
          "text": [
            "Water ,you are not milk but you are still delicious\n"
          ]
        }
      ]
    },
    {
      "cell_type": "code",
      "source": [
        "#5-3\n",
        "alien_color = 'green'\n",
        "if alien_color == 'green':\n",
        "  print(\"you just earned 5 points!\")"
      ],
      "metadata": {
        "id": "NfpuJ2icGzXF",
        "colab": {
          "base_uri": "https://localhost:8080/"
        },
        "outputId": "cf15bd80-da2f-441c-c8f3-70e96265d297"
      },
      "execution_count": 1204,
      "outputs": [
        {
          "output_type": "stream",
          "name": "stdout",
          "text": [
            "you just earned 5 points!\n"
          ]
        }
      ]
    },
    {
      "cell_type": "code",
      "source": [
        "#pass\n",
        "vegetable = 'carrot'\n",
        "if vegetable == 'carrot':\n",
        "  print(\"you passed!\")"
      ],
      "metadata": {
        "id": "vZl-X_tXhIpU",
        "colab": {
          "base_uri": "https://localhost:8080/"
        },
        "outputId": "d0c36a81-951e-4990-b437-86fb1c94cf36"
      },
      "execution_count": 1205,
      "outputs": [
        {
          "output_type": "stream",
          "name": "stdout",
          "text": [
            "you passed!\n"
          ]
        }
      ]
    },
    {
      "cell_type": "code",
      "source": [
        "#fail\n",
        "vegetable = 'tomato'\n",
        "if vegetable == 'carrot':\n",
        "  print(\"you passed!\")"
      ],
      "metadata": {
        "id": "vEYviRGYhyIZ"
      },
      "execution_count": 1206,
      "outputs": []
    },
    {
      "cell_type": "code",
      "source": [
        "#5-6\n",
        "age = 5398842\n",
        "if age < 2:\n",
        "  print(\"you are a baby\")\n",
        "elif age < 4:\n",
        "  print(\"you are a toddler\")\n",
        "elif age < 13:\n",
        "  print(\"you are a kid\")\n",
        "elif age < 20:\n",
        "  print(\"you are a teenager\")\n",
        "elif age < 65:\n",
        "  print(\"you are an adult\")\n",
        "else:\n",
        "  print(\"you are an elder\")"
      ],
      "metadata": {
        "id": "DJ-gyQXmG0yn",
        "colab": {
          "base_uri": "https://localhost:8080/"
        },
        "outputId": "fcd430b9-12d6-4adb-d4e4-e782a1329761"
      },
      "execution_count": 1207,
      "outputs": [
        {
          "output_type": "stream",
          "name": "stdout",
          "text": [
            "you are an elder\n"
          ]
        }
      ]
    },
    {
      "cell_type": "code",
      "source": [
        "#5-13\n",
        "import random\n",
        "print(\"guess the correct age. you have 5 tries\")\n",
        "keepLooping = True\n",
        "guess = 1\n",
        "\n",
        "while keepLooping == True:\n",
        "  answer = random.randint(1,100)\n",
        "  answer = input(\"guess\")\n",
        "  answer = int(answer)\n",
        "  if answer == 18:\n",
        "    print(\"correct\")\n",
        "    keepLooping = False\n",
        "  else:\n",
        "    print(\"wrong\")\n",
        "\n",
        "  guess +=1\n",
        "  if guess == 6:\n",
        "    break\n",
        "\n",
        "print(\"game over\")"
      ],
      "metadata": {
        "colab": {
          "base_uri": "https://localhost:8080/"
        },
        "id": "hMYfYVdmtaqG",
        "outputId": "1aa6ea1c-eb6d-4f38-a63a-1ea1acbbc6fe"
      },
      "execution_count": null,
      "outputs": [
        {
          "output_type": "stream",
          "name": "stdout",
          "text": [
            "guess the correct age. you have 5 tries\n"
          ]
        }
      ]
    }
  ]
}