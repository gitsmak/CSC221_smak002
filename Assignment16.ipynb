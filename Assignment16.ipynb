{
  "nbformat": 4,
  "nbformat_minor": 0,
  "metadata": {
    "colab": {
      "provenance": [],
      "authorship_tag": "ABX9TyNuS0MOgZ7ah2Iv+YzlrIWZ",
      "include_colab_link": true
    },
    "kernelspec": {
      "name": "python3",
      "display_name": "Python 3"
    },
    "language_info": {
      "name": "python"
    }
  },
  "cells": [
    {
      "cell_type": "markdown",
      "metadata": {
        "id": "view-in-github",
        "colab_type": "text"
      },
      "source": [
        "<a href=\"https://colab.research.google.com/github/gitsmak/CSC221_smak002/blob/main/Assignment16.ipynb\" target=\"_parent\"><img src=\"https://colab.research.google.com/assets/colab-badge.svg\" alt=\"Open In Colab\"/></a>"
      ]
    },
    {
      "cell_type": "code",
      "execution_count": 8,
      "metadata": {
        "colab": {
          "base_uri": "https://localhost:8080/"
        },
        "id": "NptCttica-Z4",
        "outputId": "ca5b3103-15e3-45cb-fbc7-bdad10c850f9"
      },
      "outputs": [
        {
          "output_type": "execute_result",
          "data": {
            "text/plain": [
              "Type help() for interactive help, or help(object) for help about object."
            ]
          },
          "metadata": {},
          "execution_count": 8
        }
      ],
      "source": [
        "#Susan Mak\n",
        "#Assignment 16\n",
        "#notes to remember\n",
        "#1.1\n",
        "help"
      ]
    },
    {
      "cell_type": "code",
      "source": [
        "copyright"
      ],
      "metadata": {
        "colab": {
          "base_uri": "https://localhost:8080/"
        },
        "id": "262SY2nHleXs",
        "outputId": "e1965047-4ae5-4633-8267-24e988cc0d2f"
      },
      "execution_count": 9,
      "outputs": [
        {
          "output_type": "execute_result",
          "data": {
            "text/plain": [
              "Copyright (c) 2001-2023 Python Software Foundation.\n",
              "All Rights Reserved.\n",
              "\n",
              "Copyright (c) 2000 BeOpen.com.\n",
              "All Rights Reserved.\n",
              "\n",
              "Copyright (c) 1995-2001 Corporation for National Research Initiatives.\n",
              "All Rights Reserved.\n",
              "\n",
              "Copyright (c) 1991-1995 Stichting Mathematisch Centrum, Amsterdam.\n",
              "All Rights Reserved."
            ]
          },
          "metadata": {},
          "execution_count": 9
        }
      ]
    },
    {
      "cell_type": "code",
      "source": [
        "credits"
      ],
      "metadata": {
        "colab": {
          "base_uri": "https://localhost:8080/"
        },
        "id": "Kctadrk5lfW6",
        "outputId": "29bc70aa-72af-4b60-acaa-258b3f3635ae"
      },
      "execution_count": 14,
      "outputs": [
        {
          "output_type": "execute_result",
          "data": {
            "text/plain": [
              "    Thanks to CWI, CNRI, BeOpen.com, Zope Corporation and a cast of thousands\n",
              "    for supporting Python development.  See www.python.org for more information."
            ]
          },
          "metadata": {},
          "execution_count": 14
        }
      ]
    },
    {
      "cell_type": "code",
      "source": [
        "license()"
      ],
      "metadata": {
        "colab": {
          "base_uri": "https://localhost:8080/"
        },
        "id": "BEJmbEvTlgnR",
        "outputId": "ed95ed17-fbd7-4d02-8a51-4a38e6146a64"
      },
      "execution_count": 13,
      "outputs": [
        {
          "name": "stdout",
          "output_type": "stream",
          "text": [
            "A. HISTORY OF THE SOFTWARE\n",
            "==========================\n",
            "\n",
            "Python was created in the early 1990s by Guido van Rossum at Stichting\n",
            "Mathematisch Centrum (CWI, see https://www.cwi.nl) in the Netherlands\n",
            "as a successor of a language called ABC.  Guido remains Python's\n",
            "principal author, although it includes many contributions from others.\n",
            "\n",
            "In 1995, Guido continued his work on Python at the Corporation for\n",
            "National Research Initiatives (CNRI, see https://www.cnri.reston.va.us)\n",
            "in Reston, Virginia where he released several versions of the\n",
            "software.\n",
            "\n",
            "In May 2000, Guido and the Python core development team moved to\n",
            "BeOpen.com to form the BeOpen PythonLabs team.  In October of the same\n",
            "year, the PythonLabs team moved to Digital Creations, which became\n",
            "Zope Corporation.  In 2001, the Python Software Foundation (PSF, see\n",
            "https://www.python.org/psf/) was formed, a non-profit organization\n",
            "created specifically to own Python-related Intellectual Property.\n",
            "Zope Corporation was a sponsoring member of the PSF.\n",
            "\n",
            "All Python releases are Open Source (see https://opensource.org for\n",
            "the Open Source Definition).  Historically, most, but not all, Python\n",
            "Hit Return for more, or q (and Return) to quit: q\n"
          ]
        }
      ]
    },
    {
      "cell_type": "code",
      "source": [
        "#1.2\n",
        "# make side notes\n",
        "#python excutes slightly differently depending on operating system"
      ],
      "metadata": {
        "id": "8jF9_TLClsNi"
      },
      "execution_count": null,
      "outputs": []
    },
    {
      "cell_type": "code",
      "source": [
        "#1.3\n",
        "#int = integer = whole number like 4\n",
        "#float = numbers with decimal points like 4.0 or 4.2\n",
        "#str = string = words like four\n",
        "#variable = name equals value\n",
        "#while tests conditions like True or False"
      ],
      "metadata": {
        "id": "3zuRaTGjmjaF"
      },
      "execution_count": null,
      "outputs": []
    },
    {
      "cell_type": "code",
      "source": [
        "#1.4 math symbols\n",
        "# + is add\n",
        "# - is subtract\n",
        "# * is multiply\n",
        "# / is divide\n",
        "# // truncating division\n",
        "# ** exponent\n",
        "# % remainder\n",
        "#abs(x) absolute value\n",
        "#divmod(x,y) returns // %\n",
        "#pow(x,y) returns ** %\n",
        "#round(x,(n)) rounds to the nearest multiple of 10 to the nth power\n",
        "# >> and << right and left shift\n",
        "# > and < greater and less than"
      ],
      "metadata": {
        "id": "F9bWW4qQnNLs"
      },
      "execution_count": null,
      "outputs": []
    },
    {
      "cell_type": "code",
      "source": [
        "#1.5\n",
        "#if else while are used for looping and conditional code\n",
        "#elif is to add more consitions after if and before else\n",
        "#continue skips the rest of the loop and goes back to the top"
      ],
      "metadata": {
        "id": "rWYVp3soohpi"
      },
      "execution_count": null,
      "outputs": []
    },
    {
      "cell_type": "code",
      "source": [
        "#1.6\n",
        "#''' 3 single quote marks can havea string on multiple lines\n",
        "print('''wow\n",
        "cool\n",
        "ok ''')\n",
        "#lens compute the length of a string\n",
        "#format() and f-strings can replace each other"
      ],
      "metadata": {
        "colab": {
          "base_uri": "https://localhost:8080/"
        },
        "id": "Fy3QlHj-o7my",
        "outputId": "5c3de515-029d-43e5-804e-14f46c98692d"
      },
      "execution_count": 1,
      "outputs": [
        {
          "output_type": "stream",
          "name": "stdout",
          "text": [
            "wow\n",
            "cool\n",
            "ok \n"
          ]
        }
      ]
    },
    {
      "cell_type": "code",
      "source": [
        "#1.7\n",
        "#open returns a new file object. the with declares where a block\n",
        "#of statements will be used\n",
        "#input let's the user input something as part of the output\n",
        "#usually after being asked something by self\n",
        "name = input(\"What is your name?\")"
      ],
      "metadata": {
        "id": "UOLblbcepXEq"
      },
      "execution_count": null,
      "outputs": []
    }
  ]
}