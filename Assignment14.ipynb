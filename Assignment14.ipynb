{
  "nbformat": 4,
  "nbformat_minor": 0,
  "metadata": {
    "colab": {
      "provenance": [],
      "authorship_tag": "ABX9TyMz/DPuLGJGAyw+/Y4RHUt+",
      "include_colab_link": true
    },
    "kernelspec": {
      "name": "python3",
      "display_name": "Python 3"
    },
    "language_info": {
      "name": "python"
    }
  },
  "cells": [
    {
      "cell_type": "markdown",
      "metadata": {
        "id": "view-in-github",
        "colab_type": "text"
      },
      "source": [
        "<a href=\"https://colab.research.google.com/github/gitsmak/CSC221_smak002/blob/main/Assignment14.ipynb\" target=\"_parent\"><img src=\"https://colab.research.google.com/assets/colab-badge.svg\" alt=\"Open In Colab\"/></a>"
      ]
    },
    {
      "cell_type": "code",
      "execution_count": 6,
      "metadata": {
        "id": "UTIfbRTlp2Rf",
        "colab": {
          "base_uri": "https://localhost:8080/"
        },
        "outputId": "a9f34cb3-7e10-4c4a-bcfe-423516be331f"
      },
      "outputs": [
        {
          "name": "stdout",
          "output_type": "stream",
          "text": [
            "Enter an expression. Include spaces. Enter quit to quit 13 / 5\n",
            "13.0 / 5.0 = 2.6\n",
            "Enter an expression. Include spaces. Enter quit to quit 23 / 7\n",
            "23.0 / 7.0 = 3.2857142857142856\n",
            "Enter an expression. Include spaces. Enter quit to quit 45 * 10\n",
            "45.0 * 10.0 = 450.0\n",
            "Enter an expression. Include spaces. Enter quit to quit 23 -+ 10\n",
            "Error:Invalid operator.\n",
            "Enter an expression. Include spaces. Enter quit to quit quit\n"
          ]
        }
      ],
      "source": [
        "#Susan Mak\n",
        "#Assignment 14\n",
        "#simple calculator\n",
        "def add(x, y):\n",
        "  return x + y\n",
        "\n",
        "def subtract(x, y):\n",
        "  return x - y\n",
        "\n",
        "def multiply(x, y):\n",
        "  return x * y\n",
        "\n",
        "def divide(x, y):\n",
        "  if y != 0:\n",
        "    return x/y\n",
        "  else:\n",
        "    raise ValueError(\"Cannot divide by zero.\")\n",
        "\n",
        "def calculator(input_string):\n",
        "  try:\n",
        "    args = input_string.split(' ')\n",
        "    num1 = float(args[0])\n",
        "    operator = args[1]\n",
        "    num2 = float(args[2])\n",
        "\n",
        "    if operator == '+':\n",
        "      result = add(num1, num2)\n",
        "    elif operator == '-':\n",
        "      result = subtract(num1, num2)\n",
        "    elif operator == '*':\n",
        "      result = multiply(num1, num2)\n",
        "    elif operator == '/':\n",
        "      result = divide(num1,num2)\n",
        "    else:\n",
        "      raise ValueError(\"Invalid operator.\")\n",
        "\n",
        "    print(f\"{num1} {operator} {num2} = {result}\")\n",
        "\n",
        "  except ValueError as e:\n",
        "    print(f\"Error:{e}\")\n",
        "  except IndexError:\n",
        "    print(\"Input format is incorrect\")\n",
        "\n",
        "total = 0.0 #initally\n",
        "\n",
        "while True:\n",
        "  user_input = input(\"Enter an expression. Include spaces. Enter quit to quit \")\n",
        "  if user_input.lower() == 'quit':\n",
        "    break\n",
        "\n",
        "  try:\n",
        "    calculator(user_input)\n",
        "  except Exception as e:\n",
        "    print(f'An unknown error occured')"
      ]
    }
  ]
}